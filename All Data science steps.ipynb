{
 "cells": [
  {
   "cell_type": "code",
   "execution_count": 34,
   "metadata": {},
   "outputs": [],
   "source": [
    "import numpy as np\n",
    "import pandas as pd\n",
    "from sklearn.model_selection import train_test_split"
   ]
  },
  {
   "cell_type": "code",
   "execution_count": 35,
   "metadata": {},
   "outputs": [],
   "source": [
    "# Read the classification data set\n",
    "data = pd.read_csv(\"C:/Users/P.SridharanSrinivas/Desktop/sai_pycaret/New_try/classification/data_cleaned.csv\")"
   ]
  },
  {
   "cell_type": "code",
   "execution_count": 36,
   "metadata": {},
   "outputs": [
    {
     "data": {
      "text/html": [
       "<div>\n",
       "<style scoped>\n",
       "    .dataframe tbody tr th:only-of-type {\n",
       "        vertical-align: middle;\n",
       "    }\n",
       "\n",
       "    .dataframe tbody tr th {\n",
       "        vertical-align: top;\n",
       "    }\n",
       "\n",
       "    .dataframe thead th {\n",
       "        text-align: right;\n",
       "    }\n",
       "</style>\n",
       "<table border=\"1\" class=\"dataframe\">\n",
       "  <thead>\n",
       "    <tr style=\"text-align: right;\">\n",
       "      <th></th>\n",
       "      <th>Survived</th>\n",
       "      <th>Age</th>\n",
       "      <th>Fare</th>\n",
       "      <th>Pclass_1</th>\n",
       "      <th>Pclass_2</th>\n",
       "      <th>Pclass_3</th>\n",
       "      <th>Sex_female</th>\n",
       "      <th>Sex_male</th>\n",
       "      <th>SibSp_0</th>\n",
       "      <th>SibSp_1</th>\n",
       "      <th>...</th>\n",
       "      <th>Parch_0</th>\n",
       "      <th>Parch_1</th>\n",
       "      <th>Parch_2</th>\n",
       "      <th>Parch_3</th>\n",
       "      <th>Parch_4</th>\n",
       "      <th>Parch_5</th>\n",
       "      <th>Parch_6</th>\n",
       "      <th>Embarked_C</th>\n",
       "      <th>Embarked_Q</th>\n",
       "      <th>Embarked_S</th>\n",
       "    </tr>\n",
       "  </thead>\n",
       "  <tbody>\n",
       "    <tr>\n",
       "      <th>0</th>\n",
       "      <td>0</td>\n",
       "      <td>22.000000</td>\n",
       "      <td>7.2500</td>\n",
       "      <td>0</td>\n",
       "      <td>0</td>\n",
       "      <td>1</td>\n",
       "      <td>0</td>\n",
       "      <td>1</td>\n",
       "      <td>0</td>\n",
       "      <td>1</td>\n",
       "      <td>...</td>\n",
       "      <td>1</td>\n",
       "      <td>0</td>\n",
       "      <td>0</td>\n",
       "      <td>0</td>\n",
       "      <td>0</td>\n",
       "      <td>0</td>\n",
       "      <td>0</td>\n",
       "      <td>0</td>\n",
       "      <td>0</td>\n",
       "      <td>1</td>\n",
       "    </tr>\n",
       "    <tr>\n",
       "      <th>1</th>\n",
       "      <td>1</td>\n",
       "      <td>38.000000</td>\n",
       "      <td>71.2833</td>\n",
       "      <td>1</td>\n",
       "      <td>0</td>\n",
       "      <td>0</td>\n",
       "      <td>1</td>\n",
       "      <td>0</td>\n",
       "      <td>0</td>\n",
       "      <td>1</td>\n",
       "      <td>...</td>\n",
       "      <td>1</td>\n",
       "      <td>0</td>\n",
       "      <td>0</td>\n",
       "      <td>0</td>\n",
       "      <td>0</td>\n",
       "      <td>0</td>\n",
       "      <td>0</td>\n",
       "      <td>1</td>\n",
       "      <td>0</td>\n",
       "      <td>0</td>\n",
       "    </tr>\n",
       "    <tr>\n",
       "      <th>2</th>\n",
       "      <td>1</td>\n",
       "      <td>26.000000</td>\n",
       "      <td>7.9250</td>\n",
       "      <td>0</td>\n",
       "      <td>0</td>\n",
       "      <td>1</td>\n",
       "      <td>1</td>\n",
       "      <td>0</td>\n",
       "      <td>1</td>\n",
       "      <td>0</td>\n",
       "      <td>...</td>\n",
       "      <td>1</td>\n",
       "      <td>0</td>\n",
       "      <td>0</td>\n",
       "      <td>0</td>\n",
       "      <td>0</td>\n",
       "      <td>0</td>\n",
       "      <td>0</td>\n",
       "      <td>0</td>\n",
       "      <td>0</td>\n",
       "      <td>1</td>\n",
       "    </tr>\n",
       "    <tr>\n",
       "      <th>3</th>\n",
       "      <td>1</td>\n",
       "      <td>35.000000</td>\n",
       "      <td>53.1000</td>\n",
       "      <td>1</td>\n",
       "      <td>0</td>\n",
       "      <td>0</td>\n",
       "      <td>1</td>\n",
       "      <td>0</td>\n",
       "      <td>0</td>\n",
       "      <td>1</td>\n",
       "      <td>...</td>\n",
       "      <td>1</td>\n",
       "      <td>0</td>\n",
       "      <td>0</td>\n",
       "      <td>0</td>\n",
       "      <td>0</td>\n",
       "      <td>0</td>\n",
       "      <td>0</td>\n",
       "      <td>0</td>\n",
       "      <td>0</td>\n",
       "      <td>1</td>\n",
       "    </tr>\n",
       "    <tr>\n",
       "      <th>4</th>\n",
       "      <td>0</td>\n",
       "      <td>35.000000</td>\n",
       "      <td>8.0500</td>\n",
       "      <td>0</td>\n",
       "      <td>0</td>\n",
       "      <td>1</td>\n",
       "      <td>0</td>\n",
       "      <td>1</td>\n",
       "      <td>1</td>\n",
       "      <td>0</td>\n",
       "      <td>...</td>\n",
       "      <td>1</td>\n",
       "      <td>0</td>\n",
       "      <td>0</td>\n",
       "      <td>0</td>\n",
       "      <td>0</td>\n",
       "      <td>0</td>\n",
       "      <td>0</td>\n",
       "      <td>0</td>\n",
       "      <td>0</td>\n",
       "      <td>1</td>\n",
       "    </tr>\n",
       "    <tr>\n",
       "      <th>...</th>\n",
       "      <td>...</td>\n",
       "      <td>...</td>\n",
       "      <td>...</td>\n",
       "      <td>...</td>\n",
       "      <td>...</td>\n",
       "      <td>...</td>\n",
       "      <td>...</td>\n",
       "      <td>...</td>\n",
       "      <td>...</td>\n",
       "      <td>...</td>\n",
       "      <td>...</td>\n",
       "      <td>...</td>\n",
       "      <td>...</td>\n",
       "      <td>...</td>\n",
       "      <td>...</td>\n",
       "      <td>...</td>\n",
       "      <td>...</td>\n",
       "      <td>...</td>\n",
       "      <td>...</td>\n",
       "      <td>...</td>\n",
       "      <td>...</td>\n",
       "    </tr>\n",
       "    <tr>\n",
       "      <th>886</th>\n",
       "      <td>0</td>\n",
       "      <td>27.000000</td>\n",
       "      <td>13.0000</td>\n",
       "      <td>0</td>\n",
       "      <td>1</td>\n",
       "      <td>0</td>\n",
       "      <td>0</td>\n",
       "      <td>1</td>\n",
       "      <td>1</td>\n",
       "      <td>0</td>\n",
       "      <td>...</td>\n",
       "      <td>1</td>\n",
       "      <td>0</td>\n",
       "      <td>0</td>\n",
       "      <td>0</td>\n",
       "      <td>0</td>\n",
       "      <td>0</td>\n",
       "      <td>0</td>\n",
       "      <td>0</td>\n",
       "      <td>0</td>\n",
       "      <td>1</td>\n",
       "    </tr>\n",
       "    <tr>\n",
       "      <th>887</th>\n",
       "      <td>1</td>\n",
       "      <td>19.000000</td>\n",
       "      <td>30.0000</td>\n",
       "      <td>1</td>\n",
       "      <td>0</td>\n",
       "      <td>0</td>\n",
       "      <td>1</td>\n",
       "      <td>0</td>\n",
       "      <td>1</td>\n",
       "      <td>0</td>\n",
       "      <td>...</td>\n",
       "      <td>1</td>\n",
       "      <td>0</td>\n",
       "      <td>0</td>\n",
       "      <td>0</td>\n",
       "      <td>0</td>\n",
       "      <td>0</td>\n",
       "      <td>0</td>\n",
       "      <td>0</td>\n",
       "      <td>0</td>\n",
       "      <td>1</td>\n",
       "    </tr>\n",
       "    <tr>\n",
       "      <th>888</th>\n",
       "      <td>0</td>\n",
       "      <td>29.699118</td>\n",
       "      <td>23.4500</td>\n",
       "      <td>0</td>\n",
       "      <td>0</td>\n",
       "      <td>1</td>\n",
       "      <td>1</td>\n",
       "      <td>0</td>\n",
       "      <td>0</td>\n",
       "      <td>1</td>\n",
       "      <td>...</td>\n",
       "      <td>0</td>\n",
       "      <td>0</td>\n",
       "      <td>1</td>\n",
       "      <td>0</td>\n",
       "      <td>0</td>\n",
       "      <td>0</td>\n",
       "      <td>0</td>\n",
       "      <td>0</td>\n",
       "      <td>0</td>\n",
       "      <td>1</td>\n",
       "    </tr>\n",
       "    <tr>\n",
       "      <th>889</th>\n",
       "      <td>1</td>\n",
       "      <td>26.000000</td>\n",
       "      <td>30.0000</td>\n",
       "      <td>1</td>\n",
       "      <td>0</td>\n",
       "      <td>0</td>\n",
       "      <td>0</td>\n",
       "      <td>1</td>\n",
       "      <td>1</td>\n",
       "      <td>0</td>\n",
       "      <td>...</td>\n",
       "      <td>1</td>\n",
       "      <td>0</td>\n",
       "      <td>0</td>\n",
       "      <td>0</td>\n",
       "      <td>0</td>\n",
       "      <td>0</td>\n",
       "      <td>0</td>\n",
       "      <td>1</td>\n",
       "      <td>0</td>\n",
       "      <td>0</td>\n",
       "    </tr>\n",
       "    <tr>\n",
       "      <th>890</th>\n",
       "      <td>0</td>\n",
       "      <td>32.000000</td>\n",
       "      <td>7.7500</td>\n",
       "      <td>0</td>\n",
       "      <td>0</td>\n",
       "      <td>1</td>\n",
       "      <td>0</td>\n",
       "      <td>1</td>\n",
       "      <td>1</td>\n",
       "      <td>0</td>\n",
       "      <td>...</td>\n",
       "      <td>1</td>\n",
       "      <td>0</td>\n",
       "      <td>0</td>\n",
       "      <td>0</td>\n",
       "      <td>0</td>\n",
       "      <td>0</td>\n",
       "      <td>0</td>\n",
       "      <td>0</td>\n",
       "      <td>1</td>\n",
       "      <td>0</td>\n",
       "    </tr>\n",
       "  </tbody>\n",
       "</table>\n",
       "<p>891 rows × 25 columns</p>\n",
       "</div>"
      ],
      "text/plain": [
       "     Survived        Age     Fare  Pclass_1  Pclass_2  Pclass_3  Sex_female  \\\n",
       "0           0  22.000000   7.2500         0         0         1           0   \n",
       "1           1  38.000000  71.2833         1         0         0           1   \n",
       "2           1  26.000000   7.9250         0         0         1           1   \n",
       "3           1  35.000000  53.1000         1         0         0           1   \n",
       "4           0  35.000000   8.0500         0         0         1           0   \n",
       "..        ...        ...      ...       ...       ...       ...         ...   \n",
       "886         0  27.000000  13.0000         0         1         0           0   \n",
       "887         1  19.000000  30.0000         1         0         0           1   \n",
       "888         0  29.699118  23.4500         0         0         1           1   \n",
       "889         1  26.000000  30.0000         1         0         0           0   \n",
       "890         0  32.000000   7.7500         0         0         1           0   \n",
       "\n",
       "     Sex_male  SibSp_0  SibSp_1  ...  Parch_0  Parch_1  Parch_2  Parch_3  \\\n",
       "0           1        0        1  ...        1        0        0        0   \n",
       "1           0        0        1  ...        1        0        0        0   \n",
       "2           0        1        0  ...        1        0        0        0   \n",
       "3           0        0        1  ...        1        0        0        0   \n",
       "4           1        1        0  ...        1        0        0        0   \n",
       "..        ...      ...      ...  ...      ...      ...      ...      ...   \n",
       "886         1        1        0  ...        1        0        0        0   \n",
       "887         0        1        0  ...        1        0        0        0   \n",
       "888         0        0        1  ...        0        0        1        0   \n",
       "889         1        1        0  ...        1        0        0        0   \n",
       "890         1        1        0  ...        1        0        0        0   \n",
       "\n",
       "     Parch_4  Parch_5  Parch_6  Embarked_C  Embarked_Q  Embarked_S  \n",
       "0          0        0        0           0           0           1  \n",
       "1          0        0        0           1           0           0  \n",
       "2          0        0        0           0           0           1  \n",
       "3          0        0        0           0           0           1  \n",
       "4          0        0        0           0           0           1  \n",
       "..       ...      ...      ...         ...         ...         ...  \n",
       "886        0        0        0           0           0           1  \n",
       "887        0        0        0           0           0           1  \n",
       "888        0        0        0           0           0           1  \n",
       "889        0        0        0           1           0           0  \n",
       "890        0        0        0           0           1           0  \n",
       "\n",
       "[891 rows x 25 columns]"
      ]
     },
     "execution_count": 36,
     "metadata": {},
     "output_type": "execute_result"
    }
   ],
   "source": [
    "data"
   ]
  },
  {
   "cell_type": "code",
   "execution_count": 143,
   "metadata": {},
   "outputs": [],
   "source": [
    "# dependent and indepedent variable split\n",
    "X = data.loc[:,data.columns!='Survived']\n",
    "y = data['Survived']\n",
    "\n"
   ]
  },
  {
   "cell_type": "code",
   "execution_count": 144,
   "metadata": {},
   "outputs": [],
   "source": [
    "# Train test split\n",
    "\n",
    "X_train, X_test, y_train, y_test = train_test_split(X,y, test_size=0.2,random_state=42)"
   ]
  },
  {
   "cell_type": "code",
   "execution_count": 146,
   "metadata": {},
   "outputs": [
    {
     "data": {
      "text/html": [
       "<div>\n",
       "<style scoped>\n",
       "    .dataframe tbody tr th:only-of-type {\n",
       "        vertical-align: middle;\n",
       "    }\n",
       "\n",
       "    .dataframe tbody tr th {\n",
       "        vertical-align: top;\n",
       "    }\n",
       "\n",
       "    .dataframe thead th {\n",
       "        text-align: right;\n",
       "    }\n",
       "</style>\n",
       "<table border=\"1\" class=\"dataframe\">\n",
       "  <thead>\n",
       "    <tr style=\"text-align: right;\">\n",
       "      <th></th>\n",
       "      <th>Age</th>\n",
       "      <th>Fare</th>\n",
       "      <th>Pclass_1</th>\n",
       "      <th>Pclass_2</th>\n",
       "      <th>Pclass_3</th>\n",
       "      <th>Sex_female</th>\n",
       "      <th>Sex_male</th>\n",
       "      <th>SibSp_0</th>\n",
       "      <th>SibSp_1</th>\n",
       "      <th>SibSp_2</th>\n",
       "      <th>...</th>\n",
       "      <th>Parch_0</th>\n",
       "      <th>Parch_1</th>\n",
       "      <th>Parch_2</th>\n",
       "      <th>Parch_3</th>\n",
       "      <th>Parch_4</th>\n",
       "      <th>Parch_5</th>\n",
       "      <th>Parch_6</th>\n",
       "      <th>Embarked_C</th>\n",
       "      <th>Embarked_Q</th>\n",
       "      <th>Embarked_S</th>\n",
       "    </tr>\n",
       "  </thead>\n",
       "  <tbody>\n",
       "    <tr>\n",
       "      <th>709</th>\n",
       "      <td>29.699118</td>\n",
       "      <td>15.2458</td>\n",
       "      <td>0</td>\n",
       "      <td>0</td>\n",
       "      <td>1</td>\n",
       "      <td>0</td>\n",
       "      <td>1</td>\n",
       "      <td>0</td>\n",
       "      <td>1</td>\n",
       "      <td>0</td>\n",
       "      <td>...</td>\n",
       "      <td>0</td>\n",
       "      <td>1</td>\n",
       "      <td>0</td>\n",
       "      <td>0</td>\n",
       "      <td>0</td>\n",
       "      <td>0</td>\n",
       "      <td>0</td>\n",
       "      <td>1</td>\n",
       "      <td>0</td>\n",
       "      <td>0</td>\n",
       "    </tr>\n",
       "    <tr>\n",
       "      <th>439</th>\n",
       "      <td>31.000000</td>\n",
       "      <td>10.5000</td>\n",
       "      <td>0</td>\n",
       "      <td>1</td>\n",
       "      <td>0</td>\n",
       "      <td>0</td>\n",
       "      <td>1</td>\n",
       "      <td>1</td>\n",
       "      <td>0</td>\n",
       "      <td>0</td>\n",
       "      <td>...</td>\n",
       "      <td>1</td>\n",
       "      <td>0</td>\n",
       "      <td>0</td>\n",
       "      <td>0</td>\n",
       "      <td>0</td>\n",
       "      <td>0</td>\n",
       "      <td>0</td>\n",
       "      <td>0</td>\n",
       "      <td>0</td>\n",
       "      <td>1</td>\n",
       "    </tr>\n",
       "    <tr>\n",
       "      <th>840</th>\n",
       "      <td>20.000000</td>\n",
       "      <td>7.9250</td>\n",
       "      <td>0</td>\n",
       "      <td>0</td>\n",
       "      <td>1</td>\n",
       "      <td>0</td>\n",
       "      <td>1</td>\n",
       "      <td>1</td>\n",
       "      <td>0</td>\n",
       "      <td>0</td>\n",
       "      <td>...</td>\n",
       "      <td>1</td>\n",
       "      <td>0</td>\n",
       "      <td>0</td>\n",
       "      <td>0</td>\n",
       "      <td>0</td>\n",
       "      <td>0</td>\n",
       "      <td>0</td>\n",
       "      <td>0</td>\n",
       "      <td>0</td>\n",
       "      <td>1</td>\n",
       "    </tr>\n",
       "    <tr>\n",
       "      <th>720</th>\n",
       "      <td>6.000000</td>\n",
       "      <td>33.0000</td>\n",
       "      <td>0</td>\n",
       "      <td>1</td>\n",
       "      <td>0</td>\n",
       "      <td>1</td>\n",
       "      <td>0</td>\n",
       "      <td>1</td>\n",
       "      <td>0</td>\n",
       "      <td>0</td>\n",
       "      <td>...</td>\n",
       "      <td>0</td>\n",
       "      <td>1</td>\n",
       "      <td>0</td>\n",
       "      <td>0</td>\n",
       "      <td>0</td>\n",
       "      <td>0</td>\n",
       "      <td>0</td>\n",
       "      <td>0</td>\n",
       "      <td>0</td>\n",
       "      <td>1</td>\n",
       "    </tr>\n",
       "    <tr>\n",
       "      <th>39</th>\n",
       "      <td>14.000000</td>\n",
       "      <td>11.2417</td>\n",
       "      <td>0</td>\n",
       "      <td>0</td>\n",
       "      <td>1</td>\n",
       "      <td>1</td>\n",
       "      <td>0</td>\n",
       "      <td>0</td>\n",
       "      <td>1</td>\n",
       "      <td>0</td>\n",
       "      <td>...</td>\n",
       "      <td>1</td>\n",
       "      <td>0</td>\n",
       "      <td>0</td>\n",
       "      <td>0</td>\n",
       "      <td>0</td>\n",
       "      <td>0</td>\n",
       "      <td>0</td>\n",
       "      <td>1</td>\n",
       "      <td>0</td>\n",
       "      <td>0</td>\n",
       "    </tr>\n",
       "  </tbody>\n",
       "</table>\n",
       "<p>5 rows × 24 columns</p>\n",
       "</div>"
      ],
      "text/plain": [
       "           Age     Fare  Pclass_1  Pclass_2  Pclass_3  Sex_female  Sex_male  \\\n",
       "709  29.699118  15.2458         0         0         1           0         1   \n",
       "439  31.000000  10.5000         0         1         0           0         1   \n",
       "840  20.000000   7.9250         0         0         1           0         1   \n",
       "720   6.000000  33.0000         0         1         0           1         0   \n",
       "39   14.000000  11.2417         0         0         1           1         0   \n",
       "\n",
       "     SibSp_0  SibSp_1  SibSp_2  ...  Parch_0  Parch_1  Parch_2  Parch_3  \\\n",
       "709        0        1        0  ...        0        1        0        0   \n",
       "439        1        0        0  ...        1        0        0        0   \n",
       "840        1        0        0  ...        1        0        0        0   \n",
       "720        1        0        0  ...        0        1        0        0   \n",
       "39         0        1        0  ...        1        0        0        0   \n",
       "\n",
       "     Parch_4  Parch_5  Parch_6  Embarked_C  Embarked_Q  Embarked_S  \n",
       "709        0        0        0           1           0           0  \n",
       "439        0        0        0           0           0           1  \n",
       "840        0        0        0           0           0           1  \n",
       "720        0        0        0           0           0           1  \n",
       "39         0        0        0           1           0           0  \n",
       "\n",
       "[5 rows x 24 columns]"
      ]
     },
     "execution_count": 146,
     "metadata": {},
     "output_type": "execute_result"
    }
   ],
   "source": [
    "X_test.head(5)"
   ]
  },
  {
   "cell_type": "code",
   "execution_count": 40,
   "metadata": {},
   "outputs": [],
   "source": [
    "from sklearn.feature_selection import RFECV\n",
    "from sklearn.svm import SVC\n",
    "estimator = SVC(kernel='linear')\n",
    "selector = RFECV(estimator, step=1,cv=5)\n",
    "selector = selector.fit(X,y)\n",
    "selector.support_\n",
    "selector.ranking_"
   ]
  },
  {
   "cell_type": "code",
   "execution_count": 91,
   "metadata": {},
   "outputs": [],
   "source": [
    "# svc = SVC( kernel = 'linear',  probability = True, random_state = 1 )  \n",
    "# rfecv = RFECV(estimator = svc,scoring = 'roc_auc')\n",
    "# rfecv.fit(X,y)\n",
    "# selecInfo = rfecv.support_ \n",
    "# # selecIndex = np.where(selecInfo==1) \n",
    "\n",
    "\n",
    "      \n",
    "       \n",
    "\n",
    "          \n",
    "                            \n",
    "         "
   ]
  },
  {
   "cell_type": "markdown",
   "metadata": {},
   "source": [
    "# TSNE\n",
    "https://mark-borg.github.io/blog/2016/tsne-ml/"
   ]
  },
  {
   "cell_type": "code",
   "execution_count": 44,
   "metadata": {},
   "outputs": [],
   "source": [
    "# TSNE, PCA\n",
    "from sklearn.manifold import TSNE\n",
    "tsne = TSNE(n_components=2, random_state=0)"
   ]
  },
  {
   "cell_type": "code",
   "execution_count": 45,
   "metadata": {},
   "outputs": [],
   "source": [
    "tsne_obj = tsne.fit_transform(data)"
   ]
  },
  {
   "cell_type": "code",
   "execution_count": 46,
   "metadata": {},
   "outputs": [
    {
     "data": {
      "text/plain": [
       "array([[  2.4075255,  24.631245 ],\n",
       "       [-30.965166 , -23.293903 ],\n",
       "       [ 11.0672245,  21.78307  ],\n",
       "       ...,\n",
       "       [ -4.0972886,  -5.4620414],\n",
       "       [-10.754449 ,  -6.5581326],\n",
       "       [ 26.730133 ,   4.5827723]], dtype=float32)"
      ]
     },
     "execution_count": 46,
     "metadata": {},
     "output_type": "execute_result"
    }
   ],
   "source": [
    "tsne_obj"
   ]
  },
  {
   "cell_type": "code",
   "execution_count": 48,
   "metadata": {},
   "outputs": [],
   "source": [
    "tsne_df =pd.DataFrame({'X':tsne_obj[:,0],\n",
    "                       'Y':tsne_obj[:,1],\n",
    "                       'label':y})"
   ]
  },
  {
   "cell_type": "code",
   "execution_count": 49,
   "metadata": {},
   "outputs": [
    {
     "data": {
      "text/html": [
       "<div>\n",
       "<style scoped>\n",
       "    .dataframe tbody tr th:only-of-type {\n",
       "        vertical-align: middle;\n",
       "    }\n",
       "\n",
       "    .dataframe tbody tr th {\n",
       "        vertical-align: top;\n",
       "    }\n",
       "\n",
       "    .dataframe thead th {\n",
       "        text-align: right;\n",
       "    }\n",
       "</style>\n",
       "<table border=\"1\" class=\"dataframe\">\n",
       "  <thead>\n",
       "    <tr style=\"text-align: right;\">\n",
       "      <th></th>\n",
       "      <th>X</th>\n",
       "      <th>Y</th>\n",
       "      <th>label</th>\n",
       "    </tr>\n",
       "  </thead>\n",
       "  <tbody>\n",
       "    <tr>\n",
       "      <th>0</th>\n",
       "      <td>2.407526</td>\n",
       "      <td>24.631245</td>\n",
       "      <td>0</td>\n",
       "    </tr>\n",
       "    <tr>\n",
       "      <th>1</th>\n",
       "      <td>-30.965166</td>\n",
       "      <td>-23.293903</td>\n",
       "      <td>1</td>\n",
       "    </tr>\n",
       "    <tr>\n",
       "      <th>2</th>\n",
       "      <td>11.067225</td>\n",
       "      <td>21.783070</td>\n",
       "      <td>1</td>\n",
       "    </tr>\n",
       "    <tr>\n",
       "      <th>3</th>\n",
       "      <td>-23.387342</td>\n",
       "      <td>-17.414709</td>\n",
       "      <td>1</td>\n",
       "    </tr>\n",
       "    <tr>\n",
       "      <th>4</th>\n",
       "      <td>25.127279</td>\n",
       "      <td>0.549002</td>\n",
       "      <td>0</td>\n",
       "    </tr>\n",
       "  </tbody>\n",
       "</table>\n",
       "</div>"
      ],
      "text/plain": [
       "           X          Y  label\n",
       "0   2.407526  24.631245      0\n",
       "1 -30.965166 -23.293903      1\n",
       "2  11.067225  21.783070      1\n",
       "3 -23.387342 -17.414709      1\n",
       "4  25.127279   0.549002      0"
      ]
     },
     "execution_count": 49,
     "metadata": {},
     "output_type": "execute_result"
    }
   ],
   "source": [
    "tsne_df.head()"
   ]
  },
  {
   "cell_type": "code",
   "execution_count": 51,
   "metadata": {},
   "outputs": [],
   "source": [
    "import matplotlib.pyplot as plt\n",
    "import seaborn as sns\n",
    "%matplotlib inline"
   ]
  },
  {
   "cell_type": "code",
   "execution_count": 52,
   "metadata": {},
   "outputs": [
    {
     "data": {
      "text/plain": [
       "<matplotlib.axes._subplots.AxesSubplot at 0x2732fab2848>"
      ]
     },
     "execution_count": 52,
     "metadata": {},
     "output_type": "execute_result"
    },
    {
     "data": {
      "image/png": "[encoded data removed]",
      "text/plain": [
       "<Figure size 432x288 with 1 Axes>"
      ]
     },
     "metadata": {
      "needs_background": "light"
     },
     "output_type": "display_data"
    }
   ],
   "source": [
    "sns.scatterplot(x=\"X\",y=\"Y\",data=tsne_df)"
   ]
  },
  {
   "cell_type": "code",
   "execution_count": 56,
   "metadata": {},
   "outputs": [
    {
     "data": {
      "text/plain": [
       "0      0\n",
       "1      1\n",
       "2      1\n",
       "3      1\n",
       "4      0\n",
       "      ..\n",
       "886    0\n",
       "887    1\n",
       "888    0\n",
       "889    1\n",
       "890    0\n",
       "Name: Survived, Length: 891, dtype: int64"
      ]
     },
     "execution_count": 56,
     "metadata": {},
     "output_type": "execute_result"
    }
   ],
   "source": [
    "data['Survived']"
   ]
  },
  {
   "cell_type": "code",
   "execution_count": 57,
   "metadata": {},
   "outputs": [
    {
     "data": {
      "image/png": "[encoded data removed]",
      "text/plain": [
       "<Figure size 432x288 with 1 Axes>"
      ]
     },
     "metadata": {
      "needs_background": "light"
     },
     "output_type": "display_data"
    }
   ],
   "source": [
    "sns.scatterplot(x=\"X\", y=\"Y\",\n",
    "              hue=\"label\",\n",
    "              palette=['purple','red'],\n",
    "              legend='full',\n",
    "              data=tsne_df);"
   ]
  },
  {
   "cell_type": "markdown",
   "metadata": {},
   "source": [
    "# TSNE - PART 2\n",
    "https://pyshark.com/visualization-of-multidimensional-datasets-using-t-sne-in-python/"
   ]
  },
  {
   "cell_type": "code",
   "execution_count": 110,
   "metadata": {},
   "outputs": [],
   "source": [
    "from sklearn.preprocessing import StandardScaler\n",
    "data_std = StandardScaler().fit_transform(data)\n"
   ]
  },
  {
   "cell_type": "code",
   "execution_count": 113,
   "metadata": {},
   "outputs": [
    {
     "data": {
      "image/png": "[encoded data removed]",
      "text/plain": [
       "<Figure size 432x288 with 1 Axes>"
      ]
     },
     "metadata": {
      "needs_background": "light"
     },
     "output_type": "display_data"
    }
   ],
   "source": [
    "tsne = TSNE(random_state=0)\n",
    "tsne_results = tsne.fit_transform(data_std)\n",
    "tsne_results=pd.DataFrame(tsne_results, columns=['tsne1', 'tsne2'])\n",
    "\n",
    "plt.scatter(tsne_results['tsne1'], tsne_results['tsne2'], c=data.Survived)\n",
    "plt.show()\n"
   ]
  },
  {
   "cell_type": "code",
   "execution_count": 115,
   "metadata": {},
   "outputs": [
    {
     "data": {
      "image/png": "[encoded data removed]",
      "text/plain": [
       "<Figure size 576x288 with 4 Axes>"
      ]
     },
     "metadata": {
      "needs_background": "light"
     },
     "output_type": "display_data"
    }
   ],
   "source": [
    "#parameter tuning\n",
    "plt.figure(figsize = (8,4))\n",
    "plt.subplots_adjust(top = 1.5)\n",
    "\n",
    "for index, p in enumerate([1, 10, 25, 75]):\n",
    "\n",
    "    tsne = TSNE(n_components = 2, perplexity = p, random_state=0)\n",
    "    tsne_results = tsne.fit_transform(data_std)\n",
    "    \n",
    "    tsne_results=pd.DataFrame(tsne_results, columns=['tsne1', 'tsne2'])\n",
    "    \n",
    "    plt.subplot(2,2,index+1)\n",
    "    plt.scatter(tsne_results['tsne1'], tsne_results['tsne2'], c=data.Survived, s=30)\n",
    "    plt.title('Perplexity = '+ str(p))\n",
    "plt.show()"
   ]
  },
  {
   "cell_type": "code",
   "execution_count": null,
   "metadata": {},
   "outputs": [],
   "source": [
    "#https://cmdlinetips.com/2020/06/principal-component-analysis-with-penguins-data-in-python/"
   ]
  },
  {
   "cell_type": "code",
   "execution_count": 60,
   "metadata": {},
   "outputs": [],
   "source": [
    "from sklearn.decomposition import PCA"
   ]
  },
  {
   "cell_type": "code",
   "execution_count": 78,
   "metadata": {},
   "outputs": [
    {
     "data": {
      "text/plain": [
       "PCA(copy=True, iterated_power='auto', n_components=None, random_state=None,\n",
       "    svd_solver='auto', tol=0.0, whiten=False)"
      ]
     },
     "execution_count": 78,
     "metadata": {},
     "output_type": "execute_result"
    }
   ],
   "source": [
    "# PCA\n",
    "pca = PCA()\n",
    "pca.fit(data)\n"
   ]
  },
  {
   "cell_type": "code",
   "execution_count": 83,
   "metadata": {},
   "outputs": [],
   "source": [
    "import matplotlib.pyplot as plt"
   ]
  },
  {
   "cell_type": "code",
   "execution_count": null,
   "metadata": {},
   "outputs": [],
   "source": []
  },
  {
   "cell_type": "code",
   "execution_count": 79,
   "metadata": {},
   "outputs": [
    {
     "data": {
      "text/plain": [
       "array([2.47114168e+03, 1.67598355e+02, 5.89773145e-01, 3.70153640e-01,\n",
       "       3.26086459e-01, 2.82253582e-01, 1.87206186e-01, 1.58821143e-01,\n",
       "       1.16977443e-01, 9.64140897e-02, 9.26791215e-02, 4.84033735e-02,\n",
       "       2.15680847e-02, 1.84275095e-02, 9.90764834e-03, 7.93900849e-03,\n",
       "       5.96844623e-03, 5.54812049e-03, 4.69400678e-03, 1.27443693e-03,\n",
       "       1.07955175e-32, 6.46995258e-33, 5.58329168e-33, 2.53351276e-33,\n",
       "       8.31459482e-34])"
      ]
     },
     "execution_count": 79,
     "metadata": {},
     "output_type": "execute_result"
    }
   ],
   "source": [
    "pca.explained_variance_"
   ]
  },
  {
   "cell_type": "code",
   "execution_count": 62,
   "metadata": {},
   "outputs": [],
   "source": [
    "pc_df = pd.DataFrame(data = data_pca , \n",
    "        columns = ['PC1', 'PC2','PC3', 'PC4'])"
   ]
  },
  {
   "cell_type": "code",
   "execution_count": 64,
   "metadata": {},
   "outputs": [
    {
     "data": {
      "text/plain": [
       "array([9.35654284e-01, 6.34581660e-02, 2.23307216e-04, 1.40152158e-04])"
      ]
     },
     "execution_count": 64,
     "metadata": {},
     "output_type": "execute_result"
    }
   ],
   "source": [
    "pca.explained_variance_ratio_"
   ]
  },
  {
   "cell_type": "code",
   "execution_count": 68,
   "metadata": {},
   "outputs": [
    {
     "name": "stdout",
     "output_type": "stream",
     "text": [
      "[2.47114168e+03 1.67598355e+02 5.89773145e-01 3.70153640e-01]\n"
     ]
    }
   ],
   "source": [
    "print(pca.explained_variance_)"
   ]
  },
  {
   "cell_type": "code",
   "execution_count": 67,
   "metadata": {},
   "outputs": [],
   "source": [
    "# import seaborn as sns\n",
    "# plt.figure(figsize=(12,10))\n",
    "# with sns.plotting_context(\"notebook\",font_scale=1.25):\n",
    "#     sns.scatterplot(x=\"PC1\", y=\"PC2\",\n",
    "#                     data=pc_df, \n",
    "#                     hue=\"label\",\n",
    "#                     s=100)"
   ]
  },
  {
   "cell_type": "code",
   "execution_count": null,
   "metadata": {},
   "outputs": [],
   "source": [
    "# Dimension reduction \n",
    "#1. RFE\n",
    "#2. PCA\n",
    "#3. TSNE\n",
    "#4. "
   ]
  },
  {
   "cell_type": "markdown",
   "metadata": {},
   "source": [
    "# PCA\n",
    "https://stackabuse.com/implementing-pca-in-python-with-scikit-learn/"
   ]
  },
  {
   "cell_type": "code",
   "execution_count": 101,
   "metadata": {},
   "outputs": [],
   "source": [
    "from sklearn.decomposition import PCA\n",
    "pca = PCA()\n",
    "X_train = pca.fit_transform(X_train)\n",
    "X_test = pca.transform(X_test)"
   ]
  },
  {
   "cell_type": "code",
   "execution_count": 102,
   "metadata": {},
   "outputs": [],
   "source": [
    "explained_variance = pca.explained_variance_ratio_"
   ]
  },
  {
   "cell_type": "code",
   "execution_count": 103,
   "metadata": {},
   "outputs": [
    {
     "name": "stdout",
     "output_type": "stream",
     "text": [
      "[1.]\n"
     ]
    }
   ],
   "source": [
    "print(explained_variance)"
   ]
  },
  {
   "cell_type": "code",
   "execution_count": 106,
   "metadata": {},
   "outputs": [],
   "source": [
    "from sklearn.decomposition import PCA\n",
    "\n",
    "pca = PCA(n_components=1)\n",
    "X_train = pca.fit_transform(X_train)\n",
    "X_test = pca.transform(X_test)"
   ]
  },
  {
   "cell_type": "code",
   "execution_count": 107,
   "metadata": {},
   "outputs": [],
   "source": [
    "from sklearn.ensemble import RandomForestClassifier\n",
    "\n",
    "classifier = RandomForestClassifier(max_depth=2, random_state=0)\n",
    "classifier.fit(X_train, y_train)\n",
    "\n",
    "# Predicting the Test set results\n",
    "y_pred = classifier.predict(X_test)"
   ]
  },
  {
   "cell_type": "code",
   "execution_count": 108,
   "metadata": {},
   "outputs": [
    {
     "name": "stdout",
     "output_type": "stream",
     "text": [
      "[[98  7]\n",
      " [52 22]]\n",
      "0.6703910614525139\n"
     ]
    }
   ],
   "source": [
    "from sklearn.metrics import confusion_matrix\n",
    "from sklearn.metrics import accuracy_score\n",
    "\n",
    "cm = confusion_matrix(y_test, y_pred)\n",
    "print(cm)\n",
    "print(accuracy_score(y_test,y_pred))"
   ]
  },
  {
   "cell_type": "markdown",
   "metadata": {},
   "source": [
    "# Variable Importance\n",
    "a) Permutation importance\n",
    "b) Partial Plots\n",
    "c) SHAP values"
   ]
  },
  {
   "cell_type": "code",
   "execution_count": 116,
   "metadata": {},
   "outputs": [],
   "source": [
    "#https://www.kaggle.com/dansbecker/permutation-importance\n",
    "#https://www.kaggle.com/dansbecker/partial-plots\n",
    "#https://www.kaggle.com/dansbecker/shap-values\n",
    "#https://eli5.readthedocs.io/en/latest/overview.html"
   ]
  },
  {
   "cell_type": "code",
   "execution_count": 147,
   "metadata": {},
   "outputs": [],
   "source": [
    "import numpy as np\n",
    "import pandas as pd\n",
    "from sklearn.model_selection import train_test_split\n",
    "from sklearn.ensemble import RandomForestClassifier"
   ]
  },
  {
   "cell_type": "code",
   "execution_count": 148,
   "metadata": {},
   "outputs": [],
   "source": [
    "my_model = RandomForestClassifier(n_estimators=100, random_state=0).fit(X_train, y_train)"
   ]
  },
  {
   "cell_type": "code",
   "execution_count": 149,
   "metadata": {},
   "outputs": [],
   "source": [
    "import eli5\n"
   ]
  },
  {
   "cell_type": "code",
   "execution_count": 150,
   "metadata": {},
   "outputs": [],
   "source": [
    "from eli5.sklearn import PermutationImportance\n",
    "from eli5.permutation_importance import get_score_importances"
   ]
  },
  {
   "cell_type": "code",
   "execution_count": 153,
   "metadata": {},
   "outputs": [
    {
     "data": {
      "text/html": [
       "\n",
       "    <style>\n",
       "    table.eli5-weights tr:hover {\n",
       "        filter: brightness(85%);\n",
       "    }\n",
       "</style>\n",
       "\n",
       "\n",
       "\n",
       "    \n",
       "\n",
       "    \n",
       "\n",
       "    \n",
       "\n",
       "    \n",
       "\n",
       "    \n",
       "\n",
       "    \n",
       "\n",
       "\n",
       "    \n",
       "\n",
       "    \n",
       "\n",
       "    \n",
       "\n",
       "    \n",
       "\n",
       "    \n",
       "\n",
       "    \n",
       "\n",
       "\n",
       "    \n",
       "\n",
       "    \n",
       "\n",
       "    \n",
       "\n",
       "    \n",
       "\n",
       "    \n",
       "        <table class=\"eli5-weights eli5-feature-importances\" style=\"border-collapse: collapse; border: none; margin-top: 0em; table-layout: auto;\">\n",
       "    <thead>\n",
       "    <tr style=\"border: none;\">\n",
       "        <th style=\"padding: 0 1em 0 0.5em; text-align: right; border: none;\">Weight</th>\n",
       "        <th style=\"padding: 0 0.5em 0 0.5em; text-align: left; border: none;\">Feature</th>\n",
       "    </tr>\n",
       "    </thead>\n",
       "    <tbody>\n",
       "    \n",
       "        <tr style=\"background-color: hsl(120, 100.00%, 80.00%); border: none;\">\n",
       "            <td style=\"padding: 0 1em 0 0.5em; text-align: right; border: none;\">\n",
       "                0.0816\n",
       "                \n",
       "                    &plusmn; 0.0219\n",
       "                \n",
       "            </td>\n",
       "            <td style=\"padding: 0 0.5em 0 0.5em; text-align: left; border: none;\">\n",
       "                Sex_male\n",
       "            </td>\n",
       "        </tr>\n",
       "    \n",
       "        <tr style=\"background-color: hsl(120, 100.00%, 84.23%); border: none;\">\n",
       "            <td style=\"padding: 0 1em 0 0.5em; text-align: right; border: none;\">\n",
       "                0.0581\n",
       "                \n",
       "                    &plusmn; 0.0182\n",
       "                \n",
       "            </td>\n",
       "            <td style=\"padding: 0 0.5em 0 0.5em; text-align: left; border: none;\">\n",
       "                Fare\n",
       "            </td>\n",
       "        </tr>\n",
       "    \n",
       "        <tr style=\"background-color: hsl(120, 100.00%, 89.27%); border: none;\">\n",
       "            <td style=\"padding: 0 1em 0 0.5em; text-align: right; border: none;\">\n",
       "                0.0335\n",
       "                \n",
       "                    &plusmn; 0.0353\n",
       "                \n",
       "            </td>\n",
       "            <td style=\"padding: 0 0.5em 0 0.5em; text-align: left; border: none;\">\n",
       "                Age\n",
       "            </td>\n",
       "        </tr>\n",
       "    \n",
       "        <tr style=\"background-color: hsl(120, 100.00%, 91.36%); border: none;\">\n",
       "            <td style=\"padding: 0 1em 0 0.5em; text-align: right; border: none;\">\n",
       "                0.0246\n",
       "                \n",
       "                    &plusmn; 0.0152\n",
       "                \n",
       "            </td>\n",
       "            <td style=\"padding: 0 0.5em 0 0.5em; text-align: left; border: none;\">\n",
       "                Pclass_1\n",
       "            </td>\n",
       "        </tr>\n",
       "    \n",
       "        <tr style=\"background-color: hsl(120, 100.00%, 95.03%); border: none;\">\n",
       "            <td style=\"padding: 0 1em 0 0.5em; text-align: right; border: none;\">\n",
       "                0.0112\n",
       "                \n",
       "                    &plusmn; 0.0484\n",
       "                \n",
       "            </td>\n",
       "            <td style=\"padding: 0 0.5em 0 0.5em; text-align: left; border: none;\">\n",
       "                Sex_female\n",
       "            </td>\n",
       "        </tr>\n",
       "    \n",
       "        <tr style=\"background-color: hsl(120, 100.00%, 95.38%); border: none;\">\n",
       "            <td style=\"padding: 0 1em 0 0.5em; text-align: right; border: none;\">\n",
       "                0.0101\n",
       "                \n",
       "                    &plusmn; 0.0130\n",
       "                \n",
       "            </td>\n",
       "            <td style=\"padding: 0 0.5em 0 0.5em; text-align: left; border: none;\">\n",
       "                Embarked_S\n",
       "            </td>\n",
       "        </tr>\n",
       "    \n",
       "        <tr style=\"background-color: hsl(120, 100.00%, 95.38%); border: none;\">\n",
       "            <td style=\"padding: 0 1em 0 0.5em; text-align: right; border: none;\">\n",
       "                0.0101\n",
       "                \n",
       "                    &plusmn; 0.0249\n",
       "                \n",
       "            </td>\n",
       "            <td style=\"padding: 0 0.5em 0 0.5em; text-align: left; border: none;\">\n",
       "                Pclass_3\n",
       "            </td>\n",
       "        </tr>\n",
       "    \n",
       "        <tr style=\"background-color: hsl(120, 100.00%, 95.75%); border: none;\">\n",
       "            <td style=\"padding: 0 1em 0 0.5em; text-align: right; border: none;\">\n",
       "                0.0089\n",
       "                \n",
       "                    &plusmn; 0.0182\n",
       "                \n",
       "            </td>\n",
       "            <td style=\"padding: 0 0.5em 0 0.5em; text-align: left; border: none;\">\n",
       "                SibSp_0\n",
       "            </td>\n",
       "        </tr>\n",
       "    \n",
       "        <tr style=\"background-color: hsl(120, 100.00%, 96.52%); border: none;\">\n",
       "            <td style=\"padding: 0 1em 0 0.5em; text-align: right; border: none;\">\n",
       "                0.0067\n",
       "                \n",
       "                    &plusmn; 0.0148\n",
       "                \n",
       "            </td>\n",
       "            <td style=\"padding: 0 0.5em 0 0.5em; text-align: left; border: none;\">\n",
       "                Embarked_C\n",
       "            </td>\n",
       "        </tr>\n",
       "    \n",
       "        <tr style=\"background-color: hsl(0, 100.00%, 100.00%); border: none;\">\n",
       "            <td style=\"padding: 0 1em 0 0.5em; text-align: right; border: none;\">\n",
       "                0\n",
       "                \n",
       "                    &plusmn; 0.0000\n",
       "                \n",
       "            </td>\n",
       "            <td style=\"padding: 0 0.5em 0 0.5em; text-align: left; border: none;\">\n",
       "                SibSp_4\n",
       "            </td>\n",
       "        </tr>\n",
       "    \n",
       "        <tr style=\"background-color: hsl(0, 100.00%, 100.00%); border: none;\">\n",
       "            <td style=\"padding: 0 1em 0 0.5em; text-align: right; border: none;\">\n",
       "                0\n",
       "                \n",
       "                    &plusmn; 0.0000\n",
       "                \n",
       "            </td>\n",
       "            <td style=\"padding: 0 0.5em 0 0.5em; text-align: left; border: none;\">\n",
       "                SibSp_3\n",
       "            </td>\n",
       "        </tr>\n",
       "    \n",
       "        <tr style=\"background-color: hsl(0, 100.00%, 100.00%); border: none;\">\n",
       "            <td style=\"padding: 0 1em 0 0.5em; text-align: right; border: none;\">\n",
       "                0\n",
       "                \n",
       "                    &plusmn; 0.0000\n",
       "                \n",
       "            </td>\n",
       "            <td style=\"padding: 0 0.5em 0 0.5em; text-align: left; border: none;\">\n",
       "                Parch_6\n",
       "            </td>\n",
       "        </tr>\n",
       "    \n",
       "        <tr style=\"background-color: hsl(0, 100.00%, 100.00%); border: none;\">\n",
       "            <td style=\"padding: 0 1em 0 0.5em; text-align: right; border: none;\">\n",
       "                0\n",
       "                \n",
       "                    &plusmn; 0.0000\n",
       "                \n",
       "            </td>\n",
       "            <td style=\"padding: 0 0.5em 0 0.5em; text-align: left; border: none;\">\n",
       "                Parch_4\n",
       "            </td>\n",
       "        </tr>\n",
       "    \n",
       "        <tr style=\"background-color: hsl(0, 100.00%, 100.00%); border: none;\">\n",
       "            <td style=\"padding: 0 1em 0 0.5em; text-align: right; border: none;\">\n",
       "                0\n",
       "                \n",
       "                    &plusmn; 0.0000\n",
       "                \n",
       "            </td>\n",
       "            <td style=\"padding: 0 0.5em 0 0.5em; text-align: left; border: none;\">\n",
       "                Parch_3\n",
       "            </td>\n",
       "        </tr>\n",
       "    \n",
       "        <tr style=\"background-color: hsl(0, 100.00%, 100.00%); border: none;\">\n",
       "            <td style=\"padding: 0 1em 0 0.5em; text-align: right; border: none;\">\n",
       "                0\n",
       "                \n",
       "                    &plusmn; 0.0000\n",
       "                \n",
       "            </td>\n",
       "            <td style=\"padding: 0 0.5em 0 0.5em; text-align: left; border: none;\">\n",
       "                SibSp_5\n",
       "            </td>\n",
       "        </tr>\n",
       "    \n",
       "        <tr style=\"background-color: hsl(0, 100.00%, 100.00%); border: none;\">\n",
       "            <td style=\"padding: 0 1em 0 0.5em; text-align: right; border: none;\">\n",
       "                0\n",
       "                \n",
       "                    &plusmn; 0.0000\n",
       "                \n",
       "            </td>\n",
       "            <td style=\"padding: 0 0.5em 0 0.5em; text-align: left; border: none;\">\n",
       "                Parch_0\n",
       "            </td>\n",
       "        </tr>\n",
       "    \n",
       "        <tr style=\"background-color: hsl(0, 100.00%, 100.00%); border: none;\">\n",
       "            <td style=\"padding: 0 1em 0 0.5em; text-align: right; border: none;\">\n",
       "                0\n",
       "                \n",
       "                    &plusmn; 0.0000\n",
       "                \n",
       "            </td>\n",
       "            <td style=\"padding: 0 0.5em 0 0.5em; text-align: left; border: none;\">\n",
       "                Parch_5\n",
       "            </td>\n",
       "        </tr>\n",
       "    \n",
       "        <tr style=\"background-color: hsl(0, 100.00%, 100.00%); border: none;\">\n",
       "            <td style=\"padding: 0 1em 0 0.5em; text-align: right; border: none;\">\n",
       "                0\n",
       "                \n",
       "                    &plusmn; 0.0000\n",
       "                \n",
       "            </td>\n",
       "            <td style=\"padding: 0 0.5em 0 0.5em; text-align: left; border: none;\">\n",
       "                SibSp_8\n",
       "            </td>\n",
       "        </tr>\n",
       "    \n",
       "        <tr style=\"background-color: hsl(0, 100.00%, 100.00%); border: none;\">\n",
       "            <td style=\"padding: 0 1em 0 0.5em; text-align: right; border: none;\">\n",
       "                0\n",
       "                \n",
       "                    &plusmn; 0.0000\n",
       "                \n",
       "            </td>\n",
       "            <td style=\"padding: 0 0.5em 0 0.5em; text-align: left; border: none;\">\n",
       "                SibSp_2\n",
       "            </td>\n",
       "        </tr>\n",
       "    \n",
       "        <tr style=\"background-color: hsl(0, 100.00%, 100.00%); border: none;\">\n",
       "            <td style=\"padding: 0 1em 0 0.5em; text-align: right; border: none;\">\n",
       "                0\n",
       "                \n",
       "                    &plusmn; 0.0000\n",
       "                \n",
       "            </td>\n",
       "            <td style=\"padding: 0 0.5em 0 0.5em; text-align: left; border: none;\">\n",
       "                Parch_2\n",
       "            </td>\n",
       "        </tr>\n",
       "    \n",
       "    \n",
       "        \n",
       "            <tr style=\"background-color: hsl(0, 100.00%, 100.00%); border: none;\">\n",
       "                <td colspan=\"2\" style=\"padding: 0 0.5em 0 0.5em; text-align: center; border: none; white-space: nowrap;\">\n",
       "                    <i>&hellip; 4 more &hellip;</i>\n",
       "                </td>\n",
       "            </tr>\n",
       "        \n",
       "    \n",
       "    </tbody>\n",
       "</table>\n",
       "    \n",
       "\n",
       "    \n",
       "\n",
       "\n",
       "    \n",
       "\n",
       "    \n",
       "\n",
       "    \n",
       "\n",
       "    \n",
       "\n",
       "    \n",
       "\n",
       "    \n",
       "\n",
       "\n",
       "\n"
      ],
      "text/plain": [
       "<IPython.core.display.HTML object>"
      ]
     },
     "execution_count": 153,
     "metadata": {},
     "output_type": "execute_result"
    }
   ],
   "source": [
    "perm = PermutationImportance(my_model, random_state=0).fit(X_test, y_test)\n",
    "eli5.show_weights(perm, feature_names = X_test.columns.tolist())\n"
   ]
  },
  {
   "cell_type": "code",
   "execution_count": 140,
   "metadata": {},
   "outputs": [],
   "source": [
    "dataframe=pd.DataFrame(X_test, columns=['a']) "
   ]
  },
  {
   "cell_type": "code",
   "execution_count": 141,
   "metadata": {},
   "outputs": [
    {
     "data": {
      "text/html": [
       "<div>\n",
       "<style scoped>\n",
       "    .dataframe tbody tr th:only-of-type {\n",
       "        vertical-align: middle;\n",
       "    }\n",
       "\n",
       "    .dataframe tbody tr th {\n",
       "        vertical-align: top;\n",
       "    }\n",
       "\n",
       "    .dataframe thead th {\n",
       "        text-align: right;\n",
       "    }\n",
       "</style>\n",
       "<table border=\"1\" class=\"dataframe\">\n",
       "  <thead>\n",
       "    <tr style=\"text-align: right;\">\n",
       "      <th></th>\n",
       "      <th>a</th>\n",
       "    </tr>\n",
       "  </thead>\n",
       "  <tbody>\n",
       "    <tr>\n",
       "      <th>0</th>\n",
       "      <td>-17.329378</td>\n",
       "    </tr>\n",
       "    <tr>\n",
       "      <th>1</th>\n",
       "      <td>-22.049936</td>\n",
       "    </tr>\n",
       "    <tr>\n",
       "      <th>2</th>\n",
       "      <td>-24.874517</td>\n",
       "    </tr>\n",
       "    <tr>\n",
       "      <th>3</th>\n",
       "      <td>-0.112751</td>\n",
       "    </tr>\n",
       "    <tr>\n",
       "      <th>4</th>\n",
       "      <td>-21.684879</td>\n",
       "    </tr>\n",
       "    <tr>\n",
       "      <th>...</th>\n",
       "      <td>...</td>\n",
       "    </tr>\n",
       "    <tr>\n",
       "      <th>174</th>\n",
       "      <td>-25.741756</td>\n",
       "    </tr>\n",
       "    <tr>\n",
       "      <th>175</th>\n",
       "      <td>-25.353110</td>\n",
       "    </tr>\n",
       "    <tr>\n",
       "      <th>176</th>\n",
       "      <td>-1.006217</td>\n",
       "    </tr>\n",
       "    <tr>\n",
       "      <th>177</th>\n",
       "      <td>-22.361643</td>\n",
       "    </tr>\n",
       "    <tr>\n",
       "      <th>178</th>\n",
       "      <td>-16.453481</td>\n",
       "    </tr>\n",
       "  </tbody>\n",
       "</table>\n",
       "<p>179 rows × 1 columns</p>\n",
       "</div>"
      ],
      "text/plain": [
       "             a\n",
       "0   -17.329378\n",
       "1   -22.049936\n",
       "2   -24.874517\n",
       "3    -0.112751\n",
       "4   -21.684879\n",
       "..         ...\n",
       "174 -25.741756\n",
       "175 -25.353110\n",
       "176  -1.006217\n",
       "177 -22.361643\n",
       "178 -16.453481\n",
       "\n",
       "[179 rows x 1 columns]"
      ]
     },
     "execution_count": 141,
     "metadata": {},
     "output_type": "execute_result"
    }
   ],
   "source": [
    "dataframe"
   ]
  },
  {
   "cell_type": "code",
   "execution_count": 142,
   "metadata": {},
   "outputs": [
    {
     "data": {
      "text/html": [
       "\n",
       "    <style>\n",
       "    table.eli5-weights tr:hover {\n",
       "        filter: brightness(85%);\n",
       "    }\n",
       "</style>\n",
       "\n",
       "\n",
       "\n",
       "    \n",
       "\n",
       "    \n",
       "\n",
       "    \n",
       "\n",
       "    \n",
       "\n",
       "    \n",
       "\n",
       "    \n",
       "\n",
       "\n",
       "    \n",
       "\n",
       "    \n",
       "\n",
       "    \n",
       "\n",
       "    \n",
       "\n",
       "    \n",
       "\n",
       "    \n",
       "\n",
       "\n",
       "    \n",
       "\n",
       "    \n",
       "\n",
       "    \n",
       "\n",
       "    \n",
       "\n",
       "    \n",
       "        <table class=\"eli5-weights eli5-feature-importances\" style=\"border-collapse: collapse; border: none; margin-top: 0em; table-layout: auto;\">\n",
       "    <thead>\n",
       "    <tr style=\"border: none;\">\n",
       "        <th style=\"padding: 0 1em 0 0.5em; text-align: right; border: none;\">Weight</th>\n",
       "        <th style=\"padding: 0 0.5em 0 0.5em; text-align: left; border: none;\">Feature</th>\n",
       "    </tr>\n",
       "    </thead>\n",
       "    <tbody>\n",
       "    \n",
       "        <tr style=\"background-color: hsl(120, 100.00%, 80.00%); border: none;\">\n",
       "            <td style=\"padding: 0 1em 0 0.5em; text-align: right; border: none;\">\n",
       "                0.0961\n",
       "                \n",
       "                    &plusmn; 0.0657\n",
       "                \n",
       "            </td>\n",
       "            <td style=\"padding: 0 0.5em 0 0.5em; text-align: left; border: none;\">\n",
       "                a\n",
       "            </td>\n",
       "        </tr>\n",
       "    \n",
       "    \n",
       "    </tbody>\n",
       "</table>\n",
       "    \n",
       "\n",
       "    \n",
       "\n",
       "\n",
       "    \n",
       "\n",
       "    \n",
       "\n",
       "    \n",
       "\n",
       "    \n",
       "\n",
       "    \n",
       "\n",
       "    \n",
       "\n",
       "\n",
       "\n"
      ],
      "text/plain": [
       "<IPython.core.display.HTML object>"
      ]
     },
     "execution_count": 142,
     "metadata": {},
     "output_type": "execute_result"
    }
   ],
   "source": [
    "eli5.show_weights(perm, feature_names = dataframe.columns.tolist())"
   ]
  },
  {
   "cell_type": "code",
   "execution_count": 156,
   "metadata": {},
   "outputs": [],
   "source": [
    "# Shap values\n",
    "# import shap  # package used to calculate Shap values\n",
    "\n",
    "# # Create object that can calculate shap values\n",
    "# explainer = shap.TreeExplainer(my_model)\n",
    "\n",
    "# # Calculate Shap values\n",
    "# shap_values = explainer.shap_values(data_for_prediction)"
   ]
  },
  {
   "cell_type": "markdown",
   "metadata": {},
   "source": [
    "# Model Selection\n",
    "a) Pycaret\n",
    "b) Lazypredict"
   ]
  },
  {
   "cell_type": "code",
   "execution_count": 157,
   "metadata": {},
   "outputs": [],
   "source": [
    "#https://lazypredict.readthedocs.io/en/latest/readme.html\n",
    "import lazypredict"
   ]
  },
  {
   "cell_type": "code",
   "execution_count": 160,
   "metadata": {},
   "outputs": [],
   "source": [
    "from lazypredict.Supervised import LazyClassifier"
   ]
  },
  {
   "cell_type": "code",
   "execution_count": 161,
   "metadata": {},
   "outputs": [
    {
     "name": "stderr",
     "output_type": "stream",
     "text": [
      "100%|██████████████████████████████████████████████████████████████████████████████████| 30/30 [00:01<00:00, 15.96it/s]\n"
     ]
    },
    {
     "data": {
      "text/html": [
       "<div>\n",
       "<style scoped>\n",
       "    .dataframe tbody tr th:only-of-type {\n",
       "        vertical-align: middle;\n",
       "    }\n",
       "\n",
       "    .dataframe tbody tr th {\n",
       "        vertical-align: top;\n",
       "    }\n",
       "\n",
       "    .dataframe thead th {\n",
       "        text-align: right;\n",
       "    }\n",
       "</style>\n",
       "<table border=\"1\" class=\"dataframe\">\n",
       "  <thead>\n",
       "    <tr style=\"text-align: right;\">\n",
       "      <th></th>\n",
       "      <th>Accuracy</th>\n",
       "      <th>Balanced Accuracy</th>\n",
       "      <th>ROC AUC</th>\n",
       "      <th>F1 Score</th>\n",
       "      <th>Time Taken</th>\n",
       "    </tr>\n",
       "    <tr>\n",
       "      <th>Model</th>\n",
       "      <th></th>\n",
       "      <th></th>\n",
       "      <th></th>\n",
       "      <th></th>\n",
       "      <th></th>\n",
       "    </tr>\n",
       "  </thead>\n",
       "  <tbody>\n",
       "    <tr>\n",
       "      <th>LGBMClassifier</th>\n",
       "      <td>0.83</td>\n",
       "      <td>0.82</td>\n",
       "      <td>0.82</td>\n",
       "      <td>0.83</td>\n",
       "      <td>0.12</td>\n",
       "    </tr>\n",
       "    <tr>\n",
       "      <th>ExtraTreesClassifier</th>\n",
       "      <td>0.82</td>\n",
       "      <td>0.81</td>\n",
       "      <td>0.81</td>\n",
       "      <td>0.82</td>\n",
       "      <td>0.23</td>\n",
       "    </tr>\n",
       "    <tr>\n",
       "      <th>RandomForestClassifier</th>\n",
       "      <td>0.81</td>\n",
       "      <td>0.80</td>\n",
       "      <td>0.80</td>\n",
       "      <td>0.81</td>\n",
       "      <td>0.23</td>\n",
       "    </tr>\n",
       "    <tr>\n",
       "      <th>AdaBoostClassifier</th>\n",
       "      <td>0.80</td>\n",
       "      <td>0.80</td>\n",
       "      <td>0.80</td>\n",
       "      <td>0.80</td>\n",
       "      <td>0.09</td>\n",
       "    </tr>\n",
       "    <tr>\n",
       "      <th>LabelSpreading</th>\n",
       "      <td>0.81</td>\n",
       "      <td>0.80</td>\n",
       "      <td>0.80</td>\n",
       "      <td>0.81</td>\n",
       "      <td>0.06</td>\n",
       "    </tr>\n",
       "    <tr>\n",
       "      <th>LabelPropagation</th>\n",
       "      <td>0.80</td>\n",
       "      <td>0.79</td>\n",
       "      <td>0.79</td>\n",
       "      <td>0.80</td>\n",
       "      <td>0.05</td>\n",
       "    </tr>\n",
       "    <tr>\n",
       "      <th>LinearDiscriminantAnalysis</th>\n",
       "      <td>0.80</td>\n",
       "      <td>0.79</td>\n",
       "      <td>0.79</td>\n",
       "      <td>0.80</td>\n",
       "      <td>0.01</td>\n",
       "    </tr>\n",
       "    <tr>\n",
       "      <th>LinearSVC</th>\n",
       "      <td>0.80</td>\n",
       "      <td>0.78</td>\n",
       "      <td>0.78</td>\n",
       "      <td>0.80</td>\n",
       "      <td>0.09</td>\n",
       "    </tr>\n",
       "    <tr>\n",
       "      <th>RidgeClassifier</th>\n",
       "      <td>0.80</td>\n",
       "      <td>0.78</td>\n",
       "      <td>0.78</td>\n",
       "      <td>0.80</td>\n",
       "      <td>0.01</td>\n",
       "    </tr>\n",
       "    <tr>\n",
       "      <th>CalibratedClassifierCV</th>\n",
       "      <td>0.80</td>\n",
       "      <td>0.78</td>\n",
       "      <td>0.78</td>\n",
       "      <td>0.80</td>\n",
       "      <td>0.31</td>\n",
       "    </tr>\n",
       "    <tr>\n",
       "      <th>RidgeClassifierCV</th>\n",
       "      <td>0.80</td>\n",
       "      <td>0.78</td>\n",
       "      <td>0.78</td>\n",
       "      <td>0.80</td>\n",
       "      <td>0.01</td>\n",
       "    </tr>\n",
       "    <tr>\n",
       "      <th>SVC</th>\n",
       "      <td>0.79</td>\n",
       "      <td>0.78</td>\n",
       "      <td>0.78</td>\n",
       "      <td>0.79</td>\n",
       "      <td>0.03</td>\n",
       "    </tr>\n",
       "    <tr>\n",
       "      <th>NuSVC</th>\n",
       "      <td>0.79</td>\n",
       "      <td>0.78</td>\n",
       "      <td>0.78</td>\n",
       "      <td>0.79</td>\n",
       "      <td>0.04</td>\n",
       "    </tr>\n",
       "    <tr>\n",
       "      <th>XGBClassifier</th>\n",
       "      <td>0.79</td>\n",
       "      <td>0.78</td>\n",
       "      <td>0.78</td>\n",
       "      <td>0.79</td>\n",
       "      <td>0.37</td>\n",
       "    </tr>\n",
       "    <tr>\n",
       "      <th>LogisticRegression</th>\n",
       "      <td>0.79</td>\n",
       "      <td>0.78</td>\n",
       "      <td>0.78</td>\n",
       "      <td>0.79</td>\n",
       "      <td>0.02</td>\n",
       "    </tr>\n",
       "    <tr>\n",
       "      <th>KNeighborsClassifier</th>\n",
       "      <td>0.79</td>\n",
       "      <td>0.77</td>\n",
       "      <td>0.77</td>\n",
       "      <td>0.79</td>\n",
       "      <td>0.02</td>\n",
       "    </tr>\n",
       "    <tr>\n",
       "      <th>ExtraTreeClassifier</th>\n",
       "      <td>0.78</td>\n",
       "      <td>0.77</td>\n",
       "      <td>0.77</td>\n",
       "      <td>0.78</td>\n",
       "      <td>0.01</td>\n",
       "    </tr>\n",
       "    <tr>\n",
       "      <th>DecisionTreeClassifier</th>\n",
       "      <td>0.77</td>\n",
       "      <td>0.76</td>\n",
       "      <td>0.76</td>\n",
       "      <td>0.77</td>\n",
       "      <td>0.01</td>\n",
       "    </tr>\n",
       "    <tr>\n",
       "      <th>NearestCentroid</th>\n",
       "      <td>0.77</td>\n",
       "      <td>0.76</td>\n",
       "      <td>0.76</td>\n",
       "      <td>0.77</td>\n",
       "      <td>0.01</td>\n",
       "    </tr>\n",
       "    <tr>\n",
       "      <th>BernoulliNB</th>\n",
       "      <td>0.77</td>\n",
       "      <td>0.76</td>\n",
       "      <td>0.76</td>\n",
       "      <td>0.77</td>\n",
       "      <td>0.01</td>\n",
       "    </tr>\n",
       "    <tr>\n",
       "      <th>Perceptron</th>\n",
       "      <td>0.77</td>\n",
       "      <td>0.75</td>\n",
       "      <td>0.75</td>\n",
       "      <td>0.76</td>\n",
       "      <td>0.02</td>\n",
       "    </tr>\n",
       "    <tr>\n",
       "      <th>SGDClassifier</th>\n",
       "      <td>0.75</td>\n",
       "      <td>0.74</td>\n",
       "      <td>0.74</td>\n",
       "      <td>0.75</td>\n",
       "      <td>0.01</td>\n",
       "    </tr>\n",
       "    <tr>\n",
       "      <th>BaggingClassifier</th>\n",
       "      <td>0.75</td>\n",
       "      <td>0.74</td>\n",
       "      <td>0.74</td>\n",
       "      <td>0.75</td>\n",
       "      <td>0.03</td>\n",
       "    </tr>\n",
       "    <tr>\n",
       "      <th>PassiveAggressiveClassifier</th>\n",
       "      <td>0.70</td>\n",
       "      <td>0.69</td>\n",
       "      <td>0.69</td>\n",
       "      <td>0.70</td>\n",
       "      <td>0.02</td>\n",
       "    </tr>\n",
       "    <tr>\n",
       "      <th>QuadraticDiscriminantAnalysis</th>\n",
       "      <td>0.61</td>\n",
       "      <td>0.53</td>\n",
       "      <td>0.53</td>\n",
       "      <td>0.51</td>\n",
       "      <td>0.02</td>\n",
       "    </tr>\n",
       "    <tr>\n",
       "      <th>GaussianNB</th>\n",
       "      <td>0.42</td>\n",
       "      <td>0.50</td>\n",
       "      <td>0.50</td>\n",
       "      <td>0.26</td>\n",
       "      <td>0.01</td>\n",
       "    </tr>\n",
       "    <tr>\n",
       "      <th>CheckingClassifier</th>\n",
       "      <td>0.59</td>\n",
       "      <td>0.50</td>\n",
       "      <td>0.50</td>\n",
       "      <td>0.43</td>\n",
       "      <td>0.01</td>\n",
       "    </tr>\n",
       "    <tr>\n",
       "      <th>DummyClassifier</th>\n",
       "      <td>0.51</td>\n",
       "      <td>0.48</td>\n",
       "      <td>0.48</td>\n",
       "      <td>0.50</td>\n",
       "      <td>0.01</td>\n",
       "    </tr>\n",
       "  </tbody>\n",
       "</table>\n",
       "</div>"
      ],
      "text/plain": [
       "                               Accuracy  Balanced Accuracy  ROC AUC  F1 Score  \\\n",
       "Model                                                                           \n",
       "LGBMClassifier                     0.83               0.82     0.82      0.83   \n",
       "ExtraTreesClassifier               0.82               0.81     0.81      0.82   \n",
       "RandomForestClassifier             0.81               0.80     0.80      0.81   \n",
       "AdaBoostClassifier                 0.80               0.80     0.80      0.80   \n",
       "LabelSpreading                     0.81               0.80     0.80      0.81   \n",
       "LabelPropagation                   0.80               0.79     0.79      0.80   \n",
       "LinearDiscriminantAnalysis         0.80               0.79     0.79      0.80   \n",
       "LinearSVC                          0.80               0.78     0.78      0.80   \n",
       "RidgeClassifier                    0.80               0.78     0.78      0.80   \n",
       "CalibratedClassifierCV             0.80               0.78     0.78      0.80   \n",
       "RidgeClassifierCV                  0.80               0.78     0.78      0.80   \n",
       "SVC                                0.79               0.78     0.78      0.79   \n",
       "NuSVC                              0.79               0.78     0.78      0.79   \n",
       "XGBClassifier                      0.79               0.78     0.78      0.79   \n",
       "LogisticRegression                 0.79               0.78     0.78      0.79   \n",
       "KNeighborsClassifier               0.79               0.77     0.77      0.79   \n",
       "ExtraTreeClassifier                0.78               0.77     0.77      0.78   \n",
       "DecisionTreeClassifier             0.77               0.76     0.76      0.77   \n",
       "NearestCentroid                    0.77               0.76     0.76      0.77   \n",
       "BernoulliNB                        0.77               0.76     0.76      0.77   \n",
       "Perceptron                         0.77               0.75     0.75      0.76   \n",
       "SGDClassifier                      0.75               0.74     0.74      0.75   \n",
       "BaggingClassifier                  0.75               0.74     0.74      0.75   \n",
       "PassiveAggressiveClassifier        0.70               0.69     0.69      0.70   \n",
       "QuadraticDiscriminantAnalysis      0.61               0.53     0.53      0.51   \n",
       "GaussianNB                         0.42               0.50     0.50      0.26   \n",
       "CheckingClassifier                 0.59               0.50     0.50      0.43   \n",
       "DummyClassifier                    0.51               0.48     0.48      0.50   \n",
       "\n",
       "                               Time Taken  \n",
       "Model                                      \n",
       "LGBMClassifier                       0.12  \n",
       "ExtraTreesClassifier                 0.23  \n",
       "RandomForestClassifier               0.23  \n",
       "AdaBoostClassifier                   0.09  \n",
       "LabelSpreading                       0.06  \n",
       "LabelPropagation                     0.05  \n",
       "LinearDiscriminantAnalysis           0.01  \n",
       "LinearSVC                            0.09  \n",
       "RidgeClassifier                      0.01  \n",
       "CalibratedClassifierCV               0.31  \n",
       "RidgeClassifierCV                    0.01  \n",
       "SVC                                  0.03  \n",
       "NuSVC                                0.04  \n",
       "XGBClassifier                        0.37  \n",
       "LogisticRegression                   0.02  \n",
       "KNeighborsClassifier                 0.02  \n",
       "ExtraTreeClassifier                  0.01  \n",
       "DecisionTreeClassifier               0.01  \n",
       "NearestCentroid                      0.01  \n",
       "BernoulliNB                          0.01  \n",
       "Perceptron                           0.02  \n",
       "SGDClassifier                        0.01  \n",
       "BaggingClassifier                    0.03  \n",
       "PassiveAggressiveClassifier          0.02  \n",
       "QuadraticDiscriminantAnalysis        0.02  \n",
       "GaussianNB                           0.01  \n",
       "CheckingClassifier                   0.01  \n",
       "DummyClassifier                      0.01  "
      ]
     },
     "execution_count": 161,
     "metadata": {},
     "output_type": "execute_result"
    }
   ],
   "source": [
    "clf = LazyClassifier(verbose=0,ignore_warnings=True, custom_metric=None)\n",
    "models,predictions = clf.fit(X_train, X_test, y_train, y_test)\n",
    "models"
   ]
  },
  {
   "cell_type": "markdown",
   "metadata": {},
   "source": [
    "# Auto-ml gs\n",
    "https://github.com/minimaxir/automl-gs"
   ]
  },
  {
   "cell_type": "code",
   "execution_count": 171,
   "metadata": {},
   "outputs": [],
   "source": [
    "# from automl_gs import automl_grid_search\n"
   ]
  },
  {
   "cell_type": "code",
   "execution_count": 167,
   "metadata": {},
   "outputs": [],
   "source": [
    "data.to_csv('C:/Users/P.SridharanSrinivas/Desktop/sai_pycaret/New_try/classification/data_cleaned.csv', index=False)"
   ]
  },
  {
   "cell_type": "code",
   "execution_count": 170,
   "metadata": {},
   "outputs": [],
   "source": [
    "# automl_grid_search('C:/Users/P.SridharanSrinivas/Desktop/sai_pycaret/New_try/classification/data_cleaned.csv', \n",
    "#                    'Survived',\n",
    "#                   framework='xgboost', num_epochs=50)\n"
   ]
  },
  {
   "cell_type": "markdown",
   "metadata": {},
   "source": [
    "# TPOT\n",
    "https://github.com/EpistasisLab/tpot"
   ]
  },
  {
   "cell_type": "code",
   "execution_count": 172,
   "metadata": {},
   "outputs": [
    {
     "data": {
      "application/vnd.jupyter.widget-view+json": {
       "model_id": "d620e11c1c8547cca89dba53b8447a6b",
       "version_major": 2,
       "version_minor": 0
      },
      "text/plain": [
       "HBox(children=(FloatProgress(value=0.0, description='Optimization Progress', max=300.0, style=ProgressStyle(de…"
      ]
     },
     "metadata": {},
     "output_type": "display_data"
    },
    {
     "name": "stdout",
     "output_type": "stream",
     "text": [
      "\n",
      "Generation 1 - Current best internal CV score: 0.8244164286417808\n",
      "Best pipeline: RandomForestClassifier(SGDClassifier(LinearSVC(input_matrix, C=10.0, dual=True, loss=hinge, penalty=l2, tol=0.001), alpha=0.01, eta0=0.01, fit_intercept=False, l1_ratio=0.25, learning_rate=invscaling, loss=squared_hinge, penalty=elasticnet, power_t=50.0), bootstrap=False, criterion=entropy, max_features=0.25, min_samples_leaf=7, min_samples_split=20, n_estimators=100)\n"
     ]
    },
    {
     "data": {
      "text/plain": [
       "TPOTClassifier(config_dict=None, crossover_rate=0.1, cv=5,\n",
       "               disable_update_check=False, early_stop=None, generations=5,\n",
       "               log_file=<ipykernel.iostream.OutStream object at 0x000002732A13BFC8>,\n",
       "               max_eval_time_mins=5, max_time_mins=None, memory=None,\n",
       "               mutation_rate=0.9, n_jobs=-1, offspring_size=None,\n",
       "               periodic_checkpoint_folder=None, population_size=50,\n",
       "               random_state=None, scoring=None, subsample=1.0, template=None,\n",
       "               use_dask=False, verbosity=2, warm_start=False)"
      ]
     },
     "execution_count": 172,
     "metadata": {},
     "output_type": "execute_result"
    }
   ],
   "source": [
    "from tpot import TPOTClassifier\n",
    "tpot = TPOTClassifier(generations=5, population_size=50, verbosity=2, n_jobs=-1)\n",
    "tpot.fit(X_train,y_train)"
   ]
  },
  {
   "cell_type": "code",
   "execution_count": null,
   "metadata": {},
   "outputs": [],
   "source": [
    "print(tpot.score(X_test,y_test))\n",
    "pipeline_optimizer.export('tpot_exported_pipeline.py')"
   ]
  },
  {
   "cell_type": "markdown",
   "metadata": {},
   "source": [
    "# ThunderGBM"
   ]
  },
  {
   "cell_type": "code",
   "execution_count": 177,
   "metadata": {},
   "outputs": [],
   "source": [
    "# # import sys\n",
    "# # sys.path.append(\"../\")\n",
    "# from thundergbm import TGBMClassifier\n",
    "# from sklearn.datasets import load_digits\n",
    "# from sklearn.metrics import accuracy_score\n",
    "\n",
    "# clf = TGBMClassifier()\n",
    "# clf.fit(X, y)\n",
    "# y_pred = clf.predict(x)\n",
    "# accuracy = accuracy_score(y, y_pred)\n",
    "# print(accuracy)"
   ]
  },
  {
   "cell_type": "markdown",
   "metadata": {},
   "source": [
    "# LIME\n",
    "https://towardsdatascience.com/decrypting-your-machine-learning-model-using-lime-5adc035109b5"
   ]
  },
  {
   "cell_type": "code",
   "execution_count": 179,
   "metadata": {},
   "outputs": [],
   "source": [
    "# import lime\n",
    "# import lime.lime_tabular\n",
    "\n",
    "# import pandas as pd\n",
    "# import numpy as np\n",
    "# import lightgbm as lgb\n",
    "\n",
    "# # For converting textual categories to integer labels \n",
    "# from sklearn.preprocessing import LabelEncoder\n",
    "\n",
    "# # for creating train test split\n",
    "# from sklearn.model_selection import train_test_split\n",
    "\n",
    "# # specify your configurations as a dict\n",
    "# lgb_params = {\n",
    "#     'task': 'train',\n",
    "#     'boosting_type': 'goss',\n",
    "#     'objective': 'binary',\n",
    "#     'metric':'binary_logloss',\n",
    "#     'metric': {'l2', 'auc'},\n",
    "#     'num_leaves': 50,\n",
    "#     'learning_rate': 0.1,\n",
    "#     'feature_fraction': 0.8,\n",
    "#     'bagging_fraction': 0.8,\n",
    "#     'verbose': None,\n",
    "#     'num_iteration':100,\n",
    "#     'num_threads':7,\n",
    "#     'max_depth':12,\n",
    "#     'min_data_in_leaf':100,\n",
    "#     'alpha':0.5}\n",
    "\n",
    "\n",
    "# # reading the titanic data\n",
    "# df_titanic = pd.read_csv('C:/Users/P.SridharanSrinivas/Desktop/sai_pycaret/New_try/classification/data_cleaned.csv')\n",
    "\n",
    "\n",
    "# # data preparation\n",
    "# df_titanic.fillna(0,inplace=True)\n",
    "\n",
    "# le = LabelEncoder()\n",
    "\n",
    "# feat = ['PassengerId', 'Pclass_le', 'Sex_le','SibSp_le', 'Parch','Fare']\n",
    "\n",
    "# # label encoding textual data\n",
    "# df_titanic['Pclass_le'] = le.fit_transform(df_titanic['Pclass'])\n",
    "# df_titanic['SibSp_le'] = le.fit_transform(df_titanic['SibSp'])\n",
    "# df_titanic['Sex_le'] = le.fit_transform(df_titanic['Sex'])\n",
    "\n",
    "\n",
    "# # using train test split to create validation set\n",
    "# X_train,X_test,y_train,y_test = train_test_split(df_titanic[feat],df_titanic[['Survived']],test_size=0.3)\n",
    "\n",
    "\n",
    "# # def lgb_model(X_train,y_train,X_test,y_test,lgb_params):\n",
    "# # create dataset for lightgbm\n",
    "# lgb_train = lgb.Dataset(X_train, y_train)\n",
    "# lgb_eval = lgb.Dataset(X_test, y_test)\n",
    "\n",
    "\n",
    "# # training the lightgbm model\n",
    "# model = lgb.train(lgb_params,lgb_train,num_boost_round=20,valid_sets=lgb_eval,early_stopping_rounds=5)\n",
    "\n",
    "\n",
    "\n",
    "# # this is required as LIME requires class probabilities in case of classification example\n",
    "# # LightGBM directly returns probability for class 1 by default \n",
    "\n",
    "# def prob(data):\n",
    "#     return np.array(list(zip(1-model.predict(data),model.predict(data))))\n",
    "    \n",
    "\n",
    "\n",
    "# explainer = lime.lime_tabular.LimeTabularExplainer(df_titanic[model.feature_name()].astype(int).values,  \n",
    "# mode='classification',training_labels=df_titanic['Survived'],feature_names=model.feature_name())\n",
    "\n",
    "\n",
    "# # asking for explanation for LIME model\n",
    "# i = 1\n",
    "# exp = explainer.explain_instance(df_titanic.loc[i,feat].astype(int).values, prob, num_features=5)\n",
    "\n"
   ]
  },
  {
   "cell_type": "code",
   "execution_count": 182,
   "metadata": {},
   "outputs": [],
   "source": [
    "import PyPDF2\n",
    "import warnings\n",
    "warnings.filterwarnings(\"ignore\",category=DeprecationWarning)"
   ]
  },
  {
   "cell_type": "code",
   "execution_count": 183,
   "metadata": {},
   "outputs": [],
   "source": [
    "filename = 'C:/Users/P.SridharanSrinivas/Desktop/sai_pycaret/New_try/manibook'\n",
    "open_filename = open(filename, 'rb')\n",
    "\n",
    "ind_manifesto = PyPDF2.PdfFileReader(open_filename)"
   ]
  },
  {
   "cell_type": "code",
   "execution_count": 184,
   "metadata": {},
   "outputs": [
    {
     "data": {
      "text/plain": [
       "28"
      ]
     },
     "execution_count": 184,
     "metadata": {},
     "output_type": "execute_result"
    }
   ],
   "source": [
    "total_pages = ind_manifesto.numPages\n",
    "total_pages"
   ]
  },
  {
   "cell_type": "code",
   "execution_count": 185,
   "metadata": {},
   "outputs": [],
   "source": [
    "count = 0\n",
    "text  = ''\n",
    "\n",
    "# Lets loop through, to read each page from the pdf file\n",
    "while(count < total_pages):\n",
    "    # Get the specified number of pages in the document\n",
    "    mani_page  = ind_manifesto.getPage(count)\n",
    "    # Process the next page\n",
    "    count += 1\n",
    "    # Extract the text from the page\n",
    "    text += mani_page.extractText()\n",
    "    "
   ]
  },
  {
   "cell_type": "code",
   "execution_count": 186,
   "metadata": {},
   "outputs": [],
   "source": [
    "if text != '':\n",
    "    text = text\n",
    "    \n",
    "else:\n",
    "    textract.process(open_filename, method='tesseract', encoding='utf-8', langauge='eng' ) "
   ]
  },
  {
   "cell_type": "code",
   "execution_count": 187,
   "metadata": {},
   "outputs": [
    {
     "name": "stdout",
     "output_type": "stream",
     "text": [
      "table of content a . introduction 1-2 b . improving sanitation ! 3-7 c. strategies for government 7-9 d. the economy ! 9-11 e. infrastructure ! 11-15 f. industry ! 17-23 g. social services ! 23-25 h. summ ary 25-26 a . introduction 1 . nearly 30 years after our heroes and heroines sacrificed , many tortured , or imprisoned in the fight to gain our independence , self -determination and socioeconomic development , it is time to ask if the promises of freedom are being delivered . we need to look closely and constructively at what is good in namibia , what is not so good and what needs to be done to meet our expectations . we can not blame the outside world or other countries for our troubles . we are a sma ll country with large resources , resources the world needs . some african countries with fewer resources and bigger populations are outperforming us economically . something must be wrong with our strategies and decisions . this manifesto sets out what we need to do to install good governance and identifies priorities to return the benefits of our countryõs riches to the people . our struggle was not intended to simply replace rich white people with rich black people . it was to provide opportunities to all the people to participate in building and enjoying our countryõs riches . 2 . when a government is not living up to its peopleõs expectations it must be due to either the people running government or the system of government , or , of course , both . namibia is plagu ed by a common weakness of emerging nations ð a self -perpetuating elite whose initial intentions however good , however bold have been replaced with protecting their status , their wealth and their privileges . family surrounds them , with their cronies and wi th opportunists who hope to benefit from their closeness to power . hyenas round the lionõs kill , with jackals waiting for their chance ! our gove rnment is spending more than n $ 25 0 million per year duplicating ministerial tasks , with a lack of coherent polic ies and turning a blind eye to deep -rooted corruption . the millions looted from various government institutions need to be found , for example from gipf , sme bank , ghost salaries , inflated tendering procedures and inefficient state -owned enterprises . much o f this drain is justified by òjobs for friend ó . these looted funds could be reinvested into the betterment of all our lives -access to health , education , professional training and opportunity for our youth , the cream of our nation . we need and welcome citiz ens of other countries who can assist us in our ambitions and contribute to our growth , but we should not be selling or abandoning our birth right by denying similar opportunities to our own citizens . our land and our people are not for sale . 3 . reforming fai ling systems is not quick or easy . apart from the obvious resistance from the beneficiaries of the current arrangements , well -embedded systems have to be dismantled and more effective and efficient systems put in their place and constantly review ed . that is why i have initially authored and proposed a radical constitutional lawful step of electing an independent president with no obligations to persons or institutions but only to the namibian people . a president who will be independent of elected parliamen tarians and appoints ministers on their capacity to deliver bold policies and not on party allegiance . a president , who will revive the hopes and aspirations that accompanied us in our struggle for freedom and deliver the society of which we can all be pro ud . a president who is truly mandated by considerable number of ordinary people across the entire namibia and not a selected group of elite party leaders . 4 . this manifesto is a result of communicating with a vast number of people over a period of time . it is a people õs manifesto . it should be re ad in conjunction with the ô blue print fro socioeconomic development õ and the abridge d version thereof . all three documents are complementary and suitably designed to serve all citizens . b . improving governance . 5 . the w elfare and future of our nation is in our hands . everyone has a stake in how the nation is run . participation in decision making by voting for our leaders is open to all . it is our fundamental right . it is important that everyone participates . for the yout h it is their future . for our women it is their defence against socio -economic violence and a pathway to socio -economic empowerment . 6 . if our elected leaders fail to govern well , they are betraying us and doing a disservice to both us , and generations to c ome . namibia has reached a critical point in our young democracy where power has been transferred to elite who runs the country as a private business ignoring peopleõs needs and rights to a dignified existence . it is a personal insult to all our citizens t o permit this to continue . it is important that this kind of abuse of power is stopped and stopped now . t he peopleõs needs must become the only priorit y for government . 7 . in order to overcome the stagnation that our present system has permitted we need to s eek a radical solution . that is why i have decided , after very careful consideration to run for the office of president of the republic of namibia as an independent candidate and commit myself to the welfare of the people of namibia . 8 . namibia has a small po pulation , numbering about 2.5 million inhabitants . it has a gross domestic product ( gdp an international measure of productivity and wealth . ) of us $ 65 billion . unfortunately it also has a soaring national debt of 89 billion and a deficit in budgeted funds of us $ 20 billion and increasing . a household that spends 30 % more than it earns would soon be bankrupt . our government has led our nation , despite its rich natural resources , to this point . it can not be allowed to continue . 9 . the principal reason for this s tate of affairs is the bloated administration , top -heavy with unnecessary ministries and officials selected for their affiliation , relationship or connection to the elite and its acolytes . we need to put in place a structure that , as far as possible , count eracts these practices . 10 . an independent president can not clean up corruption and maladministration on his own . he can identify targets and priorities and establish programmes for reform but he will need ministerial advisers and professional managers appoin ted on merit , to help him execute these decisions . to ensure the true independence of the president these ministerial civil servants and professionals must be free of political or social bias . their advice must be impartial , even critical , if the desired r eforms are to succeed . it was karl marx who said , òthe educators need educatingó identifying the need for external supervision of professionals . there is simply no probity in the current administration . 11 . an authority independent of the president must appoin t an independent and impartial administration , not prone to cronyism and corruption . such a body already exists in namibia in the public service commission . the members of the commission should be chosen from civil society - the professions , e.g . health , education , law , journalism as well as business , trade unions , and the arts ð excluding individuals who are related to the president and ministers or persons with a known personal agenda . 12 . access to posts in the administration should be based on level of educa tion appropriate to each post , knowledge of english and at least one namibian national language . the relevant provisions of our constitution , especially our fundamental rights and freedoms , currently illegally ignored will be a good starting point . . with out such a structure there is a serious risk , over time that government could relapse into its old ways . 13 . throughout our continent we have witnessed leaders and governments in the post -colonial era start with good intentions , freeing their nations from the worst of colonial oppression only for their efforts to be frustrated by civil wars , one ð party states , dictatorships and tribalism . we have an opportunity in namibia to avoid such a future while we still have the benefit of free elections . in accordance with article 1 ( 2 ) of the namibian constitution , ôall power shall be vested in the people of namibia , who shall exercise their sovereignty through democratic institutions.õ 14 . as a veteran of the struggle and a loyal member of swapo i am distressed to observe the betrayal of our hopes and expectations by the conduct of our leaders in both party and state . that is my reason for standing as an independent , to restore our faith in our people and our nation . namibia and patriotism is paramount than loyalty to a par ty leadership that does not respect the rule of law . 15 . the youth the youth makes up the majority of our population and while it has the potential to be the most contributor of our economic activities , it is unfortunate that this segment of our population is the worst hit by high unemployment characterized by inequality , in access to jobs , inadequate skills for job market and discrimination in the job market . this is aggravated by the fact that no specific tools and capacity have been cultivated to address this . much of a greater problem is that those who claim to care for the youth under the guise of youthfulness representation do not have a slightest idea of what the youth wants . no body in the current political dispensation dared to ask , what is it that t he youth want , how the youth want it done and when the youth want it done ? further , the fact that youth unemployment , and other socio -economic dilemmas is not adequately addressed is the challenge that the democracies need deepening as youth participation in decision making process in the policy cycle is low , especially when it comes to agenda setting . it is for this reason that i donõt want to make the same mistake of imposing policies and pre determined agendas for the youth . i believe it up to the youth to decide their destiny . my promise is however the following : 1 . the youth will occupy 40 percent of the cabinet . 2 . key decision -making positions in all government structures and entities should have at least a 40 percent youth . 3 . none discriminatory funding of development c ooperative projects for youth development cou ntrywide , within the armpit of the law and policies . 4 . none discriminatory education funding for eligible students to tertiary institutions inclu d-ing voc ational institutions . i will consult with the youth countrywide to draft a blue print for youth empowerment . this will allow for the youth to determine the destiny of this country of which they are the rightful succe s-sor c. strategies for government . 16 . our first priority is to rid us of the incompeten ce of an administration soaked in corruption and cronyism by a reduction in ministries and public organisations often duplicating work or not working at all . there will be no more than a dozen , i.e. , twelve , ministers , of whom , at least four , on merit , sha ll be under the age of 35 years , including a prime minister to ensure coordination of the work of the ministries . meritocracy , pragmatism and honest shall be the hallmark of dictates of appointments . the ministers will have clear duties and portfolios and measurable targets so that the public can assess their performance periodically . independently appointed civil servants will assist them . in addition to reducing the number of ministries we will merge or close some of the thirty 30 , parasitic organisations living off government funds . all existing employees will be retained until the transition is complete . thereafter employment will be allocated on grounds of experience , knowledge and track record . employees over a certain age will be given the opportunity to retire early with the maximum pension they would have received if they had stayed in employment . the resources liberated from these actions will amount to nearly 50 % of current expenditure . these saved resources will go towards achieving some of our pr iority ambitions like encouraging local entrepreneurship , empowering the youth and women , as well as restoring budget allocations for their original purposes . 17 . the most important service a government can provide for its citizens is security and certainty in their daily lives . all namibians are equal before the law . arbitrary interference in the rights and liberties of namibian citizens is contrary to both national and international law . all namibians regardless of gender , colour or other distinguishing featu res are entitled to the rights and obligations guaranteed by our constitution . we will adhere strictly to the provisions of chapter 3 , the fundamental rights and freedoms and the principles of article 95 of the constitution . we will prioritise the developm ent and opportunities of all citizens , including access to land , for especially the youth , women and veterans , development of enterprise and free access to health and education services . for example , we will ensure that resources intended for free health c are are not used to fund the private sector . 18 . industry and large businesses will be obliged to hire namibian staff and offer apprenticeships and training to namibian citizens if they wish to operate on namibian territory . this would apply to all foreign ind ustries and businesses currently operating under licences or permits . while the contribution of such companies is welcome to develop our economy the expertise and skills required must eventually be transferred to our own citizens . other measures will be ne eded to ensure that the majority of benefits , financial and technological , arising from the exploitation of our resources , remains in namibia . 19 . as a life -long revolutionary activist and member of swapo i am proud to have participated in the struggle with o ur comrades for our liberation . as a veteran i had high hopes that our democratic future supervised by the party and its ideals , would deliver on our expectations and that all our people would benefit . that our sacrifices would not be in vain . however , swa po is not namibia and namibia is not swapo ! it can not be permitted to be a club for social and economic advancement of members of its administration . swapo is specifically for the people of the old south west africa . it is our organisation . it is your orga nisation . it is not a proxy for government , nor a means of controlling dissent . old-fashioned slogans and clich ” s intended for other times and other ears do not provide food for a family or put a roof over our heads . a return to respect for its constitutio n and its values is vital for change to succeed and that change is in the hands of its own members . the restoration of democracy and constitutional legality is as necessary for the health of swapo as it is for our government . namibia is now important for a ll peace -loving namibians than any political party in our country . patriotism must reign above partisan . 20 . in our economically polarised society , where the gulf between the rich and the poor is ever widening , any change is difficult to achieve , but i believe that working together , irrespective of political affiliation , we can achieve the changes we need . it will take time . there is an urgency to leave behind party loyalty and rally behind the nationalism of an independent president to rescue namibia from beco ming a failed state . there will be fierce resistance , particularly from the beneficiaries of the present unhealthy system . 21 . however we do not go blindly into this challenge . let me highlight in more detail my vision for government . d. the economy 22 . the heartb eat of any economy is undeniably , energy , water , finance , health and education . these are the fundamental features necessary to build a strong economy . 23 . our economy is in serious danger given its contraction over the past three years and repeated downgradin g. what is however much more worrying is our current account ? unemployment amongst our youth is over 50 % , with several shops going under and workers being made redundant with its consequence to the treasury . 24 . as mentioned before , the way the country is run at present does not permit enough resources to be distributed to those who need it . change will require new mechanisms and new objectives . it requires a review of all the major sectors ð mining , agriculture , fisheries , tourism and the services sector . it w ill require investment in infrastructure - roads , electricity , access to digital services , appreciating the fourth industrial revolution and above all housing our people , on their land , with water , sanitation and electricity on hand . 25 . we have the benefit of being able to see the results of previous experiments with economic systems . it is no longer revolutionary to observe that an economy entirely in private hands run via a market mechanism is doomed to failure . the market is an excellent teacher , but it is a bad master . it can not provide support to sectors of the economy that are not governed by profit . the pursuit of profit at all costs inevitably creates the circumstances for its own downfall . the recent world economic meltdown was not a blip in the system it was inherent in the pursuit of wealth from non - productive activities . advocates for a free market economy quote adam smith , the father of free trade , but he advocated that some activities must be reserved to the state , e.g . defence . they also overlook that adam smith was writing before the industrial revolution , i.e. , for an essentially agricultural economy . it was karl marx who identified the iniquities of industrial capitalism . free marketers also forget that free trade depends on free access and free exit from any given market , a condition impossible to respect in todayõs internationalised high - tech economy . there is not and never has been an economy run on free trade principles , even the mighty u.s.a. subsidises large parts of its economy through s tate intervention . 26 . equally , economies entirely managed as state owned or state controlled companies have failed . the collapse of the soviet union and its followers and chinaõs 21 st century expansion are sufficient testimony to that .a mix of private and pu blic enterprise is the way forward . finding the right mix is the challenge . in namibia there should be a place for private entrepreneurs , community enterprises , cooperatives , companies with shareholder capital and international companies . large companies should be obliged to have partnerships with the state and worker representation on their boards . there are successful international examples of the latter in both industrialised western economies and developing economies . 27 . namibia is best served by a mixed e conomy open to innovation and entrepreneurial skills while benefitting from the experience and knowledge that must accompany successful large companies . to achieve this balance the government must provide a regulatory environment , which allows our people t o be the beneficiaries of our economic success . this means schemes for skills transfer to namibian workers and direct participation in the wealth generated by namibian industry . 28 . it may be apposite to note that smith and marx had one thing in common , i.e. , observing that economies are ultimately based on human labour . all good things are produced by labour . whoever enjoys them without working for them is stealing the bread of the workers ? that must stop ! e. infrastructure 29 . all societies need a solid infr astructure upon which their organisation and functioning is based . in namibia we need more investment in roads to bring people and communities together and to facilitate trade and the exchange of ideas . we need housing with running water , sanitation and el ectricity for our citizens . we need access to digital media via investment in digital economy linking remote regions to the cities and outside world . a ) housing 30 . building infrastructure is expensive . it is not cheap and it is not quick . however , we must start . consequently , as a priority i intend to launch a major house -building programme to accelerate the security of our people . we will allocate a piece of land on which to construct a house to all citizens who are homel ess or without shelter . we may borrow from the experience of other nations who have faced similar problems by using , as necessary , prefabricated housing and deploying the security forces to assist in construction . this should also help us to build up a ski ll set among construction workers so that this sector does not become problematic in future years . 31 . the n $ 1000.00 dual option direct government housing scheme , designed specifically to provide shelter and improve the standard of accommodation for our people in the so -called informal settlements , especially the youth , shall , simultaneously , provide employment instantly to many of our youths irrespective of their professions , but especially those emerging from relevant vtcõs courses such as bricklaying , electr ician and plumbing . in addition , the unemployed citizenry shall be able to participate in the scheme appropriately remunerated . b ) roads 32 . between 2015 and 2018 , i have extensively travelled across our country . from epupa to aroab and eiseb to twyfel fontei n a nd experienced first -hand our road infrastructure . 33 . in general , comparatively we have excellent roads . however , many of our roads , especially to rural communities and our resorts such a s ossusvlei , are in desperate need of maintenance and new roads need to be built , especially in the south ( kharas ) and east ( omaheke ) . while our tourism industry attracts foreign tourists to our òunspoiltó landscape and fascinating wildlife , getting about comfortably is difficult . with a few exceptions , we do not need large mo tor ways and dual carriage ways . we do need roads that are safe to drive on for motorists and comfortable to drive on for passengers . once more we may have to call on the security services to provide the expertise to carry out the planning and building . 34 . it is the rail and road that moves commodities . we shall endeavour to invest in the rundu to katima railway network , to access the interior of the continent from our ports . c ) electricity and domestic services . 35 . our electricity network needs upgrading and expan sion , as do telephone connections . although mobile telephones are the obvious way forward , we will have to install the masts and communication technologies to service them . it is no accident that in the early years of mobile telephony the leaders , finland ( nokia ) and sweden ( erikson ) , were countries with relatively small populations spread over a large landmass ð just like namibia . the experience exists to overcome inherent problems of this kind and we should use it . 36 . while our towns and cities are served wi th electricity other regions in the countryside are not so well served . again , the government must intervene to create the conditions for an expended network . private enterprise can not do it alone , but it can be done in partnership . the possibilities of ex ploiting solar energy may be one way forward . d ) water 37 . as a desert country that experiences frequent periods of water shortages and droughts , we face a major challenge of ensuring water supplies to our towns and cities , let alone to farms and residents in r ural areas . it affects residential properties , businesses and industrial production alike . we can sit back and accept that we must live with this natural phenomenon or seek ways to alleviate the worst effects . i believe we should do the latter . in reality there is no chronic shortage of water that can not be tackled using existing possibilities . we should negotiate with our neighbours to share fresh water resources from , e.g. , the zambezi , the okavango or the orange . learn from the development of desalinatio n plants in other countries and plan an infrastructure to utilise efficiently the current resources from dams , boreholes and canals . in effect a young patriot proposed a blue -print which was rejected with no factual objective reasoning . we donõt need to re -invent the wheel . 38 . with accelerating climate change this may be difficult but if we do not try , we can not succeed . as long ago as the sixteenth century , in the 1500s , the frenchman descartes discovered how to get water from deep underground from what becam e known as cartesian wells . technology has come a long way from the 1500s although we might have to accept in future , we need to drill for water rather than drill for oil ! f. industry a ) creating regional hubs . 39 . it is often overlooked that workers in the indus trial sector are not all engaged in manufacturing or extractive activities . there are supervisory posts , management , secretaries , sales - people and others . such jobs should also as far as possible benefit from the coordinated opportunities for regional em ployment . with this in mind we intend to set up regional hubs to assist the local communities to benefit from the local activities . b ) mining 40 . if mining is to benefit the namibian people through its contribution to the namibian economy it will require to be r egulated at national level . the implementation and monitoring of the mining chatter is critical . state participation in the rewards companies generate from namibian mining , i.e. , retaining a percentage of profits derived from mining activities is essential . skill transfer from international companies to namibian employees , through training programmes and apprenticeships will be obligatory . 41 . communities in regions where mining takes place should share directly in the central governmentõs receipts from mining activities . they should also benefit from training in all aspects of the business including management and marketing . encouragement should be given to local entrepreneurs and innovators to develop ancillary businesses . licences and permits , though issued n ationally , should be subject to local approval . c ) tourism 42 . tourism is a major earner of foreign exchange . it is essential to retain and develop its international popularity . it is foreign currencies that permit us to buy and enjoy goods and services we cann ot produce for ourselves . to ensure tourism at least continues at its present level and preferably to increase it , it needs investment in transport infrastructure , better roads and better air access , maintenance of parks and wildlife protection , training o f staff for the support sector ð hotels , camps , restaurants , safaris and the multitude of tasks that make up the tourism industry . a mixture of public support and private initiative is the way forward . what we do not need are more committees or organisatio ns led by corrupt leaders and convicted criminals , to do this work . what we do need is the involvement of local communities on how and where the tourist experience can be improved . d ) agriculture ( see detailed agriculture policy elsewhere ) 43 . with such a small population living in such an expanse of land it is incomprehensible that so few namibians own so little of our land . our traditions are based on our occupation and use of our land . a balance between big farms and smallholdings needs to be established . atte mpts by some of our neighbours to solve the problems associated with land distribution have had a marked detrimental effect on agricultural production and hence food supply . 44 . we can not afford to go down that road . land use must be determined by its contrib ution to the nationõs prosperity . a smallholder feeding his family from the produce of his land makes as useful a contribution as a commercial farm selling its production on the market . big farms that are not contributing to the nationõs prosperity from , e .g. , food production or tourism will be expected to change their behaviour . 45 . it would be futile to attempt to make namibia self -sufficient in food production because it would divert resources away from efficient use of land . we must try to be self -reliant balancing exports with imports . this means concentrating on crops that are economical to produce where we have a natural advantage and seeking reliable markets . 46 . we should simultaneously empower our traditional crop producers in the rural areas supported by the academia , in conjunction with a new peoplesõ oriented markets in various towns , to receive famers produce which can especially be accessed by the elders through a new nutrition smart scheme , designed to keep our people healthy . this will be facilitate d by a novel biometric smart card for the pensioners , directly linked to government financial source . e ) fisheries 47 . despite the threat from phosphate mining , which we as a nation should never allow to happen in our marine ecology if we are to be true to arti cle 95 of the nam ibia constitution and sustainable development , fisheries are a good example of ònatural advantageó . we have waters , currently teeming with fish that other countries want . we have chosen to exploit this resource through fishery agreements , permits and licences . all good means of earning foreign exchange . but where are the accounts of the sums received ? where have these earnings been spent for the benefit of coastal communities ? what has been done to train and educate our own citizens to exp loit this resource ? why are fish caught in namibian waters and shipped abroad without ever being landed on namibian soil , just to be re -imported for supermarket stores . why do we have to import our own fish from our neighbours to feed our own people ? a fis h diet is nutritionally more beneficial than a meat diet and our most vulnerable population are excluded by the high price of fish . 48 . fish quotas , which had been allocated to a few connected individuals , shall be revised to allow for the entire public in al l regions to benefit from this natural resource through regional quota allocations . this will lead to employment creation through the establishment of regional fish product factories . 49 . a fishery policy , which sells our natural wealth to foreigners without a ny accountability for the receipts , or a policy to extract national benefit from this bounty is not just a disgrace it is a political crime that no amount of self -satisfaction from the governing elite , whose years of power have led to this , can justify . f ) entrepreneurial strategy 50 . if we were to read the business press in the developed industrial world , we would be led to believe that their economies turned on the activities of large multinational companies . in fact , companies employing more than 250 people make up less than 5 % of all businesses . 95 % employ less than ten people . small businesses matter . they are the wheels that keep the economy running . cooperatives make up 6 % of national businesses in both the eu and the usa . both the eu , and the usa have policies designed to support small business . free trade capitalism is a political fiction and not a strategy suitable for namibia . there is plenty of room for entrepreneurship in a country like namibia , be it in the retail trade , servicing larger sectors , e. g. , garages and transport , or domestic services like plumbing , or interior decorators . however , the opportunity for opening up niche markets or exploiting new ideas must not be overlooked . the historical and reasonable distrust of capitalism must not blind us to the need for non -capitalistic enterprises relying on the efforts and ingenuity of individuals who are often as much victims of unbridled capitalism as the rest of society . marxõs belief that manõs creative capacity was what distinguished him from ot her animals was fundamental to his political beliefs . stifling that creative instinct whether in small business or in cultural activities is contrary to our progressive ambitions . 51 . we derive considerable revenue from smes run by indigenous namibians . the protection of unskilled service delivery , such as those men and women in the hair and nail industry , traditional products and kapana industry , the taxi drivers and other minor but critical smes , shall be enhanced to allow for this industry to be restricted to namibian citizens only , through a specific regulation . furthermore , traditional crafts and their sale , including premises allocation , shall be restricted to namibian citizen . all nationality -based entity retail shops shall be confined to specific areas and stricter revenue evaluation rules applied , controlling imports and revenue accruement . this would avoid enhance local competition and choice . g. social services 52 . i identify health , education and welfare as social services to which all citizens are entitled and to which all citizens should have free and ready access . a ) health 53 . an efficient health service should be free at point of delivery and available to all . this is a difficult target to achieve . it is made more difficult when we realise that about 80 % of f unds allocated to free health care are transferred to the private sector . private medicine may be a part of our overall health environment , but those who choose it in preference to publicly funded health care should pay the full costs . every penny paid by public funds to private health care is stolen from those who can not afford to pay . why the present government permits this is incomprehensible ? 54 . we have had extremely valuable support in establishing a national health service from our international friends for which we are grateful . it is now time to accelerate the development of our own health professionals through education and training . we shall seek to develop links with other institutions with reliable reputations in training health professionals to ass ist us in our ambitions . we are beginning to benefit from namibian trained doctors and nurses graduating from namibian institutions but we need to provide postgraduate training and specialization in namibia . 55 . we should not forget that workers in the health sector are -not -only doctors , dentists , or nurses . there are many other specialties such as physiotherapists not to mention the people who maintain the equipment and cleaners . all people working in the health sector need specific training in appropriate sk ills and patient safety . 56 . we also need to improve the maintenance and safety of our hospitals and clinics . we can not provide safe health care in an unhealthy environment . 57 . we need to examine how we can better provide care in rural areas where travel to heal th centres is difficult . b ) education 58 . education is an essential tool in building a self -reliant nation . it is not just about literacy . an ability to read and understand the wider world through reading is , of course , important , but education must go beyond th is . different people have different capacities to learn . some learn quickly , some slowly , some have extreme difficulty or natural constraints . an education system that is not flexible enough to cope with this , is excluding people from achieving their poten tial , and this is detrimental to us all . early introduction of subjects such as agriculture from at least grade 5 to 12 and identification of potential professional orientation of pupils shall be made compulsory in all curricula . further the impact of reli gious studies from an early age , notwithstanding our secularity shall be considered in the best interest of the safety and security of our people . 59 . as we all know education is provided at different ages and with different content . to help pupils and student s to reach their full potential they must be offered opportunities for skill training as well as academic learning throughout their education . some pupils may excel at sports , or music or artistic skills . they must be offered the opportunity to develop the ir talents . some pupils may be more skilled with their hands than with academic skills . training for non -academic individuals so they benefit themselves and their community from their talents must be made available . we must study successful education syste ms in other countries to find the most appropriate system for us . recognising that education can never be based on a belief that one system fits all , should be our guiding principle . it must also be given priority in public funding to ensure all future gen erations benefit from investment we make now . c ) welfare 60 . none of us are exempt from experiencing unwanted circumstances , be it ill health or unemployment or insecurity in our own homes . it is the responsibility of the whole nation collectively to mitigate t he effects of bad circumstances on individuals . we never know when it may be our turn ! 61 . no government can legislate or plan for unforeseeable circumstances . it can set up systems designed to offset the worst effects of misfortune . it also has an obligation to its citizens to provide them with the means and opportunities so they can , as far as possible , protect themselves . 62 . free access to health and education are obvious mechanisms to achieve this . we also need to provide for those who are unable to support themselves . we must provide equitable pensions for those beyond working age , care for our fellow citizens who are incapacitated from age or illness , care for the young who lack support from a family . there are many reasons for needing assistance when indiv iduals can not provide for themselves . there is only one reason for us to provide that assistance ð it could be us . the foundation of all human societies and religions is compassion . if a herd of elephants can show it in their daily lives , so can we . 63 . it is devastating to see expecting mothers awaiting delivery of the future generation living in squally conditions next to hospitals , such as outapi and engela . the despicable scenes of children playing in unhygienic disease -prone environments in informal settle ments , is not conducive to a dignified standard of living for our people as stated in article 95 of our constitution . neither are the devastating loss of lives through fires and floods in these informal settlements . we shall rededicate ourselves to the imp lementation of article 95 , the principles of state policy . h. summary 64 . no system , no government , no political party is immune from error . the defence of democracy needs constant vigilance . that is why we must respect the rule of law . it is not illegal t o criticise the government ; it is not illegal to criticise a political party . it is a crime if the leaders of government , or the leaders of political parties use techniques of intimidation and harassment to stop or divert criticism . fortunately , we still h ave a free press and free judiciary in namibia . it is our duty as citizens to protect these institutions against undue pressure and manipulation . 65 . progress and creativity inevitably involve change . this applies equally to those who hold power . new ideas , n ew challenges , may require new solutions . the old mantras need to be revised so new songs can be sung . an independent presidency will have the same constraints . the limitation on the number of times a president can serve laid down in our constitution is fu ndamental to our liberty . my intention as president is to put us on the right path to implement the necessary changes i have identified and to pass on the torch to a new president when sufficient progress has been made . there must be no question of the pre sidency being the ultimate reward for apparatchiks and yes -men . it is too important for that . 66 . my appeal to namibians , irrespective of your political persuasion , is to stop our slow sleepwalking into stagnation and bankruptcy by featherbedding the few . my m ission is to redistribute our wealth more equitably and insert a new dynamism into our society ; to involve us all in designing this new future by increasing the participation of us all in the political process ; to provide communities with the means of cont ributing to decisions affecting their own destiny . as president , i intend to make myself accessible to the people i represent . i undertake not to reside in the presidential state house until i have launched a nationwide house -building programme . i am happy to remain with my comrades , neighbours and friends in katutura . 67 . i appeal to all namibian patriots , irrespective of political allegiance to recall our nationõs ambitions to serve the people and to send a message to the current leaders that their game is ov er and the people are taking back control . as the revolutionary anthem of workers has it ð òlift up the peopleõs banner now trailing in the dust , a million hands are ready to guard its sacred trust.ó it is our banner . it is our nation . it is our country . it is not for sale . it is time to save it . namibia is all we have ! we must and can save it !\n"
     ]
    }
   ],
   "source": [
    "from autocorrect import Speller\n",
    "from nltk.tokenize import word_tokenize\n",
    "\n",
    "\n",
    "def to_lower(text):\n",
    "\n",
    "    \"\"\"\n",
    "    Converting text to lower case as in, converting \"Hello\" to  \"hello\" or \"HELLO\" to \"hello\".\n",
    "    \"\"\"\n",
    "    \n",
    "    # Specll check the words\n",
    "    spell  = Speller(lang='en')\n",
    "    \n",
    "    texts = spell(text)\n",
    "    \n",
    "    return ' '.join([w.lower() for w in word_tokenize(text)])\n",
    "\n",
    "lower_case = to_lower(text)\n",
    "print(lower_case)"
   ]
  },
  {
   "cell_type": "code",
   "execution_count": 188,
   "metadata": {},
   "outputs": [],
   "source": [
    "import nltk\n",
    "import re\n",
    "import string\n",
    "from nltk.corpus import stopwords, brown\n",
    "from nltk.tokenize import word_tokenize, sent_tokenize, RegexpTokenizer\n",
    "from nltk.stem import WordNetLemmatizer\n",
    "from autocorrect import spell"
   ]
  },
  {
   "cell_type": "code",
   "execution_count": 189,
   "metadata": {},
   "outputs": [],
   "source": [
    "def clean_text(lower_case):\n",
    "    # split text phrases into words\n",
    "    words  = nltk.word_tokenize(lower_case)\n",
    "    \n",
    "    \n",
    "    # Create a list of all the punctuations we wish to remove\n",
    "    punctuations = ['.', ',', '/', '!', '?', ';', ':', '(',')', '[',']', '-', '_', '%']\n",
    "    \n",
    "    # Remove all the special characters\n",
    "    punctuations = re.sub(r'\\W', ' ', str(lower_case))\n",
    "    \n",
    "    # Initialize the stopwords variable, which is a list of words ('and', 'the', 'i', 'yourself', 'is') that do not hold much values as key words\n",
    "    stop_words  = stopwords.words('english')\n",
    "    \n",
    "    # Getting rid of all the words that contain numbers in them\n",
    "    w_num = re.sub('\\w*\\d\\w*', '', lower_case).strip()\n",
    "    \n",
    "    # remove all single characters\n",
    "    lower_case = re.sub(r'\\s+[a-zA-Z]\\s+', ' ', lower_case)\n",
    "    \n",
    "    # Substituting multiple spaces with single space\n",
    "    lower_case = re.sub(r'\\s+', ' ', lower_case, flags=re.I)\n",
    "    \n",
    "    # Removing prefixed 'b'\n",
    "    lower_case = re.sub(r'^b\\s+', '', lower_case)\n",
    "    \n",
    "    \n",
    "    \n",
    "    # Removing non-english characters\n",
    "    lower_case = re.sub(r'^b\\s+', '', lower_case)\n",
    "    \n",
    "    # Return keywords which are not in stop words \n",
    "    keywords = [word for word in words if not word in stop_words  and word in punctuations and  word in w_num]\n",
    "    \n",
    "    return keywords"
   ]
  },
  {
   "cell_type": "code",
   "execution_count": 193,
   "metadata": {},
   "outputs": [
    {
     "name": "stderr",
     "output_type": "stream",
     "text": [
      "[nltk_data] Downloading package stopwords to\n",
      "[nltk_data]     C:\\Users\\P.SridharanSrinivas\\AppData\\Roaming\\nltk_data\n",
      "[nltk_data]     ...\n",
      "[nltk_data]   Package stopwords is already up-to-date!\n",
      "[nltk_data] Downloading package wordnet to\n",
      "[nltk_data]     C:\\Users\\P.SridharanSrinivas\\AppData\\Roaming\\nltk_data\n",
      "[nltk_data]     ...\n",
      "[nltk_data]   Unzipping corpora\\wordnet.zip.\n"
     ]
    },
    {
     "data": {
      "text/plain": [
       "True"
      ]
     },
     "execution_count": 193,
     "metadata": {},
     "output_type": "execute_result"
    }
   ],
   "source": [
    "import nltk\n",
    "\n",
    "nltk.download('stopwords')\n",
    "nltk.download('wordnet')"
   ]
  },
  {
   "cell_type": "code",
   "execution_count": 194,
   "metadata": {},
   "outputs": [
    {
     "name": "stdout",
     "output_type": "stream",
     "text": [
      "table content introduction b improving sanitation strategy government economy infrastructure industry social service summ ary introduction nearly year hero heroine sacrificed many tortured imprisoned fight gain independence self socioeconomic development time ask promise freedom delivered need look closely constructively good namibia good need done meet expectation blame outside world country trouble sma country large resource resource world need african country fewer resource bigger population outperforming u economically something must wrong strategy decision manifesto set need install good governance identifies priority return benefit countryõs rich people struggle intended simply replace rich white people rich black people provide opportunity people participate building enjoying countryõs rich government living peopleõs expectation must due either people running government system government course namibia plagu ed common weakness emerging nation ð self elite whose initial intention however good however bold replaced protecting status wealth privilege family surround crony wi th opportunist hope benefit closeness power hyena round lionõs kill jackal waiting chance gove rnment spending n million per year duplicating ministerial task lack coherent polic y turning blind eye deep corruption million looted various government institution need found example gipf sme bank ghost salary inflated tendering procedure inefficient state enterprise much f drain justified òjobs friend ó looted fund could reinvested betterment life health education professional training opportunity youth cream nation need welcome citiz en country assist u ambition contribute growth selling abandoning birth right denying similar opportunity citizen land people sale reforming fai ling system quick easy apart obvious resistance beneficiary current arrangement well system dismantled effective efficient system put place constantly review ed initially authored proposed radical constitutional lawful step electing independent president obligation person institution namibian people president independent elected parliamen tarians appoints minister capacity deliver bold policy party allegiance president revive hope aspiration accompanied u struggle freedom deliver society pro ud president truly mandated considerable number ordinary people across entire namibia selected group elite party leader manifesto result communicating vast number people period time people õs manifesto ad conjunction ô blue print fro socioeconomic development õ abridge version thereof three document complementary suitably designed serve citizen b improving governance w elfare future nation hand everyone stake nation run participation decision making voting leader open fundamental right important everyone participates yout h future woman defence socio violence pathway socio empowerment elected leader fail govern well betraying u disservice u generation c ome namibia reached critical point young democracy power transferred elite run country private business ignoring peopleõs need right dignified existence personal insult citizen permit continue important kind abuse power stopped stopped peopleõs need must become priorit government order overcome stagnation present system permitted need eek radical solution decided careful consideration run office president republic namibia independent candidate commit welfare people namibia namibia small po pulation numbering million inhabitant gross domestic product gdp international measure productivity wealth u billion unfortunately also soaring national debt billion deficit budgeted fund u billion increasing household spends earns would soon bankrupt government led nation despite rich natural resource point allowed continue principal reason tate affair bloated administration top unnecessary ministry official selected affiliation relationship connection elite acolyte need put place structure far possible count eracts practice independent president clean corruption maladministration identify target priority establish programme reform need ministerial adviser professional manager appoin ted merit help execute decision ensure true independence president ministerial civil servant professional must free political social bias advice must impartial even critical desired r eforms succeed karl marx said òthe educator need educatingó identifying need external supervision professional simply probity current administration authority independent president must appoin independent impartial administration prone cronyism corruption body already exists namibia public service commission member commission chosen civil society profession health education law journalism well business trade union art ð excluding individual related president minister person known personal agenda access post administration based level educa tion appropriate post knowledge english least one namibian national language relevant provision constitution especially fundamental right freedom currently illegally ignored good starting point structure serious risk time government could relapse old way throughout continent witnessed leader government post era start good intention freeing nation worst colonial oppression effort frustrated civil war one ð party state dictatorship tribalism opportunity namibia avoid future still benefit free election accordance article namibian constitution ôall power shall vested people namibia shall exercise sovereignty democratic veteran struggle loyal member swapo distressed observe betrayal hope expectation conduct leader party state reason standing independent restore faith people nation namibia patriotism paramount loyalty par ty leadership respect rule law youth youth make majority population potential contributor economic activity unfortunate segment population worst hit high unemployment characterized inequality access job inadequate skill job market discrimination job market aggravated fact specific tool capacity cultivated address much greater problem claim care youth guise youthfulness representation slightest idea youth want body current political dispensation dared ask youth want youth want done youth want done fact youth unemployment socio dilemma adequately addressed challenge democracy need deepening youth participation decision making process policy cycle low especially come agenda setting reason donõt want make mistake imposing policy pre determined agenda youth believe youth decide destiny promise however following youth occupy percent cabinet key decision position government structure entity least percent youth none discriminatory funding development c ooperative project youth development cou ntrywide within armpit law policy none discriminatory education funding eligible student tertiary institution inclu voc ational institution consult youth countrywide draft blue print youth empowerment allow youth determine destiny country rightful succe strategy government first priority rid u incompeten ce administration soaked corruption cronyism reduction ministry public organisation often duplicating work working dozen twelve minister least four merit sha age year including prime minister ensure coordination work ministry meritocracy pragmatism honest shall hallmark dictate appointment minister clear duty portfolio measurable target public ass performance periodically independently appointed civil servant assist addition reducing number ministry merge close thirty parasitic organisation living government fund existing employee retained transition complete thereafter employment allocated ground experience knowledge track record employee certain age given opportunity retire early maximum pension would received stayed employment resource liberated action amount nearly current expenditure saved resource go towards achieving pr iority ambition like encouraging local entrepreneurship empowering youth woman well restoring budget allocation original purpose important service government provide citizen security certainty daily life namibian equal law arbitrary interference right liberty namibian citizen contrary national international law namibian regardless gender colour distinguishing featu re entitled right obligation guaranteed constitution adhere strictly provision chapter fundamental right freedom principle article constitution prioritise developm ent opportunity citizen including access land especially youth woman veteran development enterprise free access health education service example ensure resource intended free health c used fund private sector industry large business obliged hire namibian staff offer apprenticeship training namibian citizen wish operate namibian territory would apply foreign ind ustries business currently operating licence permit contribution company welcome develop economy expertise skill required must eventually transferred citizen measure ne eded ensure majority benefit financial technological arising exploitation resource remains namibia life revolutionary activist member swapo proud participated struggle ur comrade liberation veteran high hope democratic future supervised party ideal would deliver expectation people would benefit sacrifice would vain however swa po namibia namibia swapo permitted club social economic advancement member administration swapo specifically people old south west africa organisation orga nisation proxy government mean controlling dissent slogan clich intended time ear provide food family put roof head return respect constitutio n value vital change succeed change hand member restoration democracy constitutional legality necessary health swapo government namibia important peace namibian political party country patriotism must reign partisan economically polarised society gulf rich poor ever widening change difficult achieve believe working together irrespective political affiliation achieve change need take time urgency leave behind party loyalty rally behind nationalism independent president rescue namibia beco ming failed state fierce resistance particularly beneficiary present unhealthy system however go blindly challenge let highlight detail vision government economy heartb eat economy undeniably energy water finance health education fundamental feature necessary build strong economy economy serious danger given contraction past three year repeated downgradin however much worrying current account unemployment amongst youth several shop going worker made redundant consequence treasury mentioned way country run present permit enough resource distributed need change require new mechanism new objective requires review major sector ð mining agriculture fishery tourism service sector w ill require investment infrastructure road electricity access digital service appreciating fourth industrial revolution housing people land water sanitation electricity hand benefit able see result previous experiment economic system longer revolutionary observe economy entirely private hand run via market mechanism doomed failure market excellent teacher bad master provide support sector economy governed profit pursuit profit cost inevitably creates circumstance downfall recent world economic meltdown blip system inherent pursuit wealth non productive activity advocate free market economy quote adam smith father free trade advocated activity must reserved state defence also overlook adam smith writing industrial revolution essentially agricultural economy karl marx identified iniquity industrial capitalism free marketer also forget free trade depends free access free exit given market condition impossible respect todayõs internationalised high tech economy never economy run free trade principle even mighty subsidises large part economy tate intervention equally economy entirely managed state owned state controlled company failed collapse soviet union follower chinaõs st century expansion sufficient testimony mix private pu blic enterprise way forward finding right mix challenge namibia place private entrepreneur community enterprise cooperative company shareholder capital international company large company obliged partnership state worker representation board successful international example latter industrialised western economy developing economy namibia best served mixed e conomy open innovation entrepreneurial skill benefitting experience knowledge must accompany successful large company achieve balance government must provide regulatory environment allows people beneficiary economic success mean scheme skill transfer namibian worker direct participation wealth generated namibian industry may apposite note smith marx one thing common observing economy ultimately based human labour good thing produced labour whoever enjoys without working stealing bread worker must stop infrastructure society need solid infr astructure upon organisation functioning based namibia need investment road bring people community together facilitate trade exchange idea need housing running water sanitation el ectricity citizen need access digital medium via investment digital economy linking remote region city outside world housing building infrastructure expensive cheap quick however must start consequently priority intend launch major house programme accelerate security people allocate piece land construct house citizen homel es without shelter may borrow experience nation faced similar problem using necessary prefabricated housing deploying security force assist construction also help u build ski set among construction worker sector become problematic future year n dual option direct government housing scheme designed specifically provide shelter improve standard accommodation people informal settlement especially youth shall simultaneously provide employment instantly many youth irrespective profession especially emerging relevant vtcõs course bricklaying electr ician plumbing addition unemployed citizenry shall able participate scheme appropriately remunerated b road extensively travelled across country epupa aroab eiseb twyfel fontei n nd experienced first road infrastructure general comparatively excellent road however many road especially rural community resort ossusvlei desperate need maintenance new road need built especially south kharas east omaheke tourism industry attracts foreign tourist òunspoiltó landscape fascinating wildlife getting comfortably difficult exception need large mo tor way dual carriage way need road safe drive motorist comfortable drive passenger may call security service provide expertise carry planning building rail road move commodity shall endeavour invest rundu katima railway network access interior continent port c electricity domestic service electricity network need upgrading expan sion telephone connection although mobile telephone obvious way forward install mast communication technology service accident early year mobile telephony leader finland nokia sweden erikson country relatively small population spread large landmass ð like namibia experience exists overcome inherent problem kind use town city served wi th electricity region countryside well served government must intervene create condition expended network private enterprise alone done partnership possibility ex ploiting solar energy may one way forward water desert country experience frequent period water shortage drought face major challenge ensuring water supply town city let alone farm resident r ural area affect residential property business industrial production alike sit back accept must live natural phenomenon seek way alleviate worst effect believe latter reality chronic shortage water tackled using existing possibility negotiate neighbour share fresh water resource zambezi okavango orange learn development desalinatio n plant country plan infrastructure utilise efficiently current resource dam boreholes canal effect young patriot proposed blue rejected factual objective reasoning donõt need wheel accelerating climate change may difficult try succeed long ago sixteenth century frenchman descartes discovered get water deep underground becam e known cartesian well technology come long way although might accept future need drill water rather drill oil industry creating regional hub often overlooked worker indus trial sector engaged manufacturing extractive activity supervisory post management secretary sale people others job also far possible benefit coordinated opportunity regional em ployment mind intend set regional hub assist local community benefit local activity b mining mining benefit namibian people contribution namibian economy require r egulated national level implementation monitoring mining chatter critical state participation reward company generate namibian mining retaining percentage profit derived mining activity essential skill transfer international company namibian employee training programme apprenticeship obligatory community region mining take place share directly central governmentõs receipt mining activity also benefit training aspect business including management marketing encouragement given local entrepreneur innovator develop ancillary business licence permit though issued n ationally subject local approval c tourism tourism major earner foreign exchange essential retain develop international popularity foreign currency permit u buy enjoy good service cann ot produce ensure tourism least continues present level preferably increase need investment transport infrastructure better road better air access maintenance park wildlife protection training f staff support sector ð hotel camp restaurant safari multitude task make tourism industry mixture public support private initiative way forward need committee organisatio n led corrupt leader convicted criminal work need involvement local community tourist experience improved agriculture see detailed agriculture policy elsewhere small population living expanse land incomprehensible namibian little land tradition based occupation use land balance big farm smallholding need established atte mpts neighbour solve problem associated land distribution marked detrimental effect agricultural production hence food supply afford go road land use must determined contrib ution nationõs prosperity smallholder feeding family produce land make useful contribution commercial farm selling production market big farm contributing nationõs prosperity e food production tourism expected change behaviour would futile attempt make namibia self food production would divert resource away efficient use land must try self balancing export import mean concentrating crop economical produce natural advantage seeking reliable market simultaneously empower traditional crop producer rural area supported academia conjunction new peoplesõ oriented market various town receive famers produce especially accessed elder new nutrition smart scheme designed keep people healthy facilitate novel biometric smart card pensioner directly linked government financial source e fishery despite threat phosphate mining nation never allow happen marine ecology true arti cle nam ibia constitution sustainable development fishery good example ònatural advantageó water currently teeming fish country want chosen exploit resource fishery agreement permit licence good mean earning foreign exchange account sum received earnings spent benefit coastal community done train educate citizen exp loit resource fish caught namibian water shipped abroad without ever landed namibian soil supermarket store import fish neighbour feed people fis h diet nutritionally beneficial meat diet vulnerable population excluded high price fish fish quota allocated connected individual shall revised allow entire public al l region benefit natural resource regional quota allocation lead employment creation establishment regional fish product factory fishery policy sell natural wealth foreigner without ny accountability receipt policy extract national benefit bounty disgrace political crime amount self governing elite whose year power led justify f entrepreneurial strategy read business press developed industrial world would led believe economy turned activity large multinational company fact company employing people make le business employ le ten people small business matter wheel keep economy running cooperative make national business eu usa eu usa policy designed support small business free trade capitalism political fiction strategy suitable namibia plenty room entrepreneurship country like namibia retail trade servicing larger sector garage transport domestic service like plumbing interior decorator however opportunity opening niche market exploiting new idea must overlooked historical reasonable distrust capitalism must blind u need non enterprise relying effort ingenuity individual often much victim unbridled capitalism rest society marxõs belief manõs creative capacity distinguished ot animal fundamental political belief stifling creative instinct whether small business cultural activity contrary progressive ambition derive considerable revenue smes run indigenous namibian protection unskilled service delivery men woman hair nail industry traditional product kapana industry taxi driver minor critical smes shall enhanced allow industry restricted namibian citizen specific regulation furthermore traditional craft sale including premise allocation shall restricted namibian citizen nationality entity retail shop shall confined specific area stricter revenue evaluation rule applied controlling import revenue accruement would avoid enhance local competition choice social service identify health education welfare social service citizen entitled citizen free ready access health efficient health service free point delivery available difficult target achieve made difficult realise f unds allocated free health care transferred private sector private medicine may part overall health environment choose preference publicly funded health care pay full cost every penny paid public fund private health care stolen afford pay present government permit incomprehensible extremely valuable support establishing national health service international friend grateful time accelerate development health professional education training shall seek develop link institution reliable reputation training health professional as ist u ambition beginning benefit namibian trained doctor nurse graduating namibian institution need provide postgraduate training specialization namibia forget worker health sector doctor dentist nurse many specialty physiotherapist mention people maintain equipment cleaner people working health sector need specific training appropriate sk ill patient safety also need improve maintenance safety hospital clinic provide safe health care unhealthy environment need examine better provide care rural area travel heal th centre difficult b education education essential tool building self nation literacy ability read understand wider world reading course important education must go beyond th different people different capacity learn learn quickly slowly extreme difficulty natural constraint education system flexible enough cope excluding people achieving poten tial detrimental u early introduction subject agriculture least grade identification potential professional orientation pupil shall made compulsory curriculum impact reli gious study early age notwithstanding secularity shall considered best interest safety security people know education provided different age different content help pupil student reach full potential must offered opportunity skill training well academic learning throughout education pupil may excel sport music artistic skill must offered opportunity develop ir talent pupil may skilled hand academic skill training non individual benefit community talent must made available must study successful education syste m country find appropriate system u recognising education never based belief one system fit guiding principle must also given priority public funding ensure future gen erations benefit investment make c welfare none u exempt experiencing unwanted circumstance ill health unemployment insecurity home responsibility whole nation collectively mitigate effect bad circumstance individual never know may turn government legislate plan unforeseeable circumstance set system designed offset worst effect misfortune also obligation citizen provide mean opportunity far possible protect free access health education obvious mechanism achieve also need provide unable support must provide equitable pension beyond working age care fellow citizen incapacitated age illness care young lack support family many reason needing assistance indiv iduals provide one reason u provide assistance ð could u foundation human society religion compassion herd elephant show daily life devastating see expecting mother awaiting delivery future generation living squally condition next hospital outapi engela despicable scene child playing unhygienic disease environment informal settle ments conducive dignified standard living people stated article constitution neither devastating loss life fire flood informal settlement shall rededicate imp lementation article principle state policy summary system government political party immune error defence democracy need constant vigilance must respect rule law illegal criticise government illegal criticise political party crime leader government leader political party use technique intimidation harassment stop divert criticism fortunately still h ave free press free judiciary namibia duty citizen protect institution undue pressure manipulation progress creativity inevitably involve change applies equally hold power new idea n ew challenge may require new solution old mantra need revised new song sung independent presidency constraint limitation number time president serve laid constitution fu ndamental liberty intention president put u right path implement necessary change identified pas torch new president sufficient progress made must question pre sidency ultimate reward apparatchik yes important appeal namibian irrespective political persuasion stop slow sleepwalking stagnation bankruptcy featherbedding ission redistribute wealth equitably insert new dynamism society involve u designing new future increasing participation u political process provide community mean cont ributing decision affecting destiny president intend make accessible people represent undertake reside presidential state house launched nationwide house programme happy remain comrade neighbour friend katutura appeal namibian patriot irrespective political allegiance recall nationõs ambition serve people send message current leader game ov er people taking back control revolutionary anthem worker ð òlift peopleõs banner trailing dust million hand ready guard sacred banner nation country sale time save namibia must save\n"
     ]
    }
   ],
   "source": [
    "# Lemmatize the words\n",
    "wordnet_lemmatizer = WordNetLemmatizer()\n",
    "\n",
    "lemmatized_word = [wordnet_lemmatizer.lemmatize(word) for word in clean_text(lower_case)]\n",
    "\n",
    "# lets print out the output from our function above and see how the data looks like\n",
    "clean_data = ' '.join(lemmatized_word)\n",
    "print(clean_data)"
   ]
  },
  {
   "cell_type": "code",
   "execution_count": 195,
   "metadata": {},
   "outputs": [],
   "source": [
    "import pandas as pd"
   ]
  },
  {
   "cell_type": "code",
   "execution_count": 196,
   "metadata": {},
   "outputs": [
    {
     "data": {
      "text/html": [
       "<div>\n",
       "<style scoped>\n",
       "    .dataframe tbody tr th:only-of-type {\n",
       "        vertical-align: middle;\n",
       "    }\n",
       "\n",
       "    .dataframe tbody tr th {\n",
       "        vertical-align: top;\n",
       "    }\n",
       "\n",
       "    .dataframe thead th {\n",
       "        text-align: right;\n",
       "    }\n",
       "</style>\n",
       "<table border=\"1\" class=\"dataframe\">\n",
       "  <thead>\n",
       "    <tr style=\"text-align: right;\">\n",
       "      <th></th>\n",
       "      <th>script</th>\n",
       "    </tr>\n",
       "  </thead>\n",
       "  <tbody>\n",
       "    <tr>\n",
       "      <th>Itula</th>\n",
       "      <td>table content introduction b improving sanitat...</td>\n",
       "    </tr>\n",
       "  </tbody>\n",
       "</table>\n",
       "</div>"
      ],
      "text/plain": [
       "                                                  script\n",
       "Itula  table content introduction b improving sanitat..."
      ]
     },
     "execution_count": 196,
     "metadata": {},
     "output_type": "execute_result"
    }
   ],
   "source": [
    "df = pd.DataFrame([clean_data])\n",
    "df.columns = ['script']\n",
    "df.index = ['Itula']\n",
    "df"
   ]
  },
  {
   "cell_type": "code",
   "execution_count": 197,
   "metadata": {},
   "outputs": [],
   "source": [
    "#  Counting the occurrences of tokens and building a sparse matrix of documents x tokens.\n",
    "from sklearn.feature_extraction.text import CountVectorizer\n",
    "import numpy as np\n",
    "\n",
    "corpus = df.script\n",
    "vect = CountVectorizer(stop_words='english')\n",
    "\n",
    "# Transforms the data into a bag of words\n",
    "data_vect = vect.fit_transform(corpus)"
   ]
  },
  {
   "cell_type": "code",
   "execution_count": 198,
   "metadata": {},
   "outputs": [
    {
     "data": {
      "text/html": [
       "<div>\n",
       "<style scoped>\n",
       "    .dataframe tbody tr th:only-of-type {\n",
       "        vertical-align: middle;\n",
       "    }\n",
       "\n",
       "    .dataframe tbody tr th {\n",
       "        vertical-align: top;\n",
       "    }\n",
       "\n",
       "    .dataframe thead th {\n",
       "        text-align: right;\n",
       "    }\n",
       "</style>\n",
       "<table border=\"1\" class=\"dataframe\">\n",
       "  <thead>\n",
       "    <tr style=\"text-align: right;\">\n",
       "      <th></th>\n",
       "      <th>abandoning</th>\n",
       "      <th>ability</th>\n",
       "      <th>able</th>\n",
       "      <th>abridge</th>\n",
       "      <th>abroad</th>\n",
       "      <th>abuse</th>\n",
       "      <th>academia</th>\n",
       "      <th>academic</th>\n",
       "      <th>accelerate</th>\n",
       "      <th>accelerating</th>\n",
       "      <th>...</th>\n",
       "      <th>youth</th>\n",
       "      <th>youthfulness</th>\n",
       "      <th>zambezi</th>\n",
       "      <th>òjobs</th>\n",
       "      <th>òlift</th>\n",
       "      <th>ònatural</th>\n",
       "      <th>òthe</th>\n",
       "      <th>òunspoiltó</th>\n",
       "      <th>ôall</th>\n",
       "      <th>õs</th>\n",
       "    </tr>\n",
       "  </thead>\n",
       "  <tbody>\n",
       "    <tr>\n",
       "      <th>Itula</th>\n",
       "      <td>1</td>\n",
       "      <td>1</td>\n",
       "      <td>2</td>\n",
       "      <td>1</td>\n",
       "      <td>1</td>\n",
       "      <td>1</td>\n",
       "      <td>1</td>\n",
       "      <td>2</td>\n",
       "      <td>2</td>\n",
       "      <td>1</td>\n",
       "      <td>...</td>\n",
       "      <td>23</td>\n",
       "      <td>1</td>\n",
       "      <td>1</td>\n",
       "      <td>1</td>\n",
       "      <td>1</td>\n",
       "      <td>1</td>\n",
       "      <td>1</td>\n",
       "      <td>1</td>\n",
       "      <td>1</td>\n",
       "      <td>1</td>\n",
       "    </tr>\n",
       "  </tbody>\n",
       "</table>\n",
       "<p>1 rows × 1564 columns</p>\n",
       "</div>"
      ],
      "text/plain": [
       "       abandoning  ability  able  abridge  abroad  abuse  academia  academic  \\\n",
       "Itula           1        1     2        1       1      1         1         2   \n",
       "\n",
       "       accelerate  accelerating  ...  youth  youthfulness  zambezi  òjobs  \\\n",
       "Itula           2             1  ...     23             1        1      1   \n",
       "\n",
       "       òlift  ònatural  òthe  òunspoiltó  ôall  õs  \n",
       "Itula      1         1     1           1     1   1  \n",
       "\n",
       "[1 rows x 1564 columns]"
      ]
     },
     "execution_count": 198,
     "metadata": {},
     "output_type": "execute_result"
    }
   ],
   "source": [
    "feature_names = vect.get_feature_names()\n",
    "data_vect_feat = pd.DataFrame(data_vect.toarray(), columns=feature_names)\n",
    "data_vect_feat.index = df.index\n",
    "data_vect_feat"
   ]
  },
  {
   "cell_type": "code",
   "execution_count": 200,
   "metadata": {},
   "outputs": [
    {
     "data": {
      "text/html": [
       "<div>\n",
       "<style scoped>\n",
       "    .dataframe tbody tr th:only-of-type {\n",
       "        vertical-align: middle;\n",
       "    }\n",
       "\n",
       "    .dataframe tbody tr th {\n",
       "        vertical-align: top;\n",
       "    }\n",
       "\n",
       "    .dataframe thead th {\n",
       "        text-align: right;\n",
       "    }\n",
       "</style>\n",
       "<table border=\"1\" class=\"dataframe\">\n",
       "  <thead>\n",
       "    <tr style=\"text-align: right;\">\n",
       "      <th></th>\n",
       "      <th>Itula</th>\n",
       "    </tr>\n",
       "  </thead>\n",
       "  <tbody>\n",
       "    <tr>\n",
       "      <th>abandoning</th>\n",
       "      <td>1</td>\n",
       "    </tr>\n",
       "    <tr>\n",
       "      <th>ability</th>\n",
       "      <td>1</td>\n",
       "    </tr>\n",
       "    <tr>\n",
       "      <th>able</th>\n",
       "      <td>2</td>\n",
       "    </tr>\n",
       "    <tr>\n",
       "      <th>abridge</th>\n",
       "      <td>1</td>\n",
       "    </tr>\n",
       "    <tr>\n",
       "      <th>abroad</th>\n",
       "      <td>1</td>\n",
       "    </tr>\n",
       "    <tr>\n",
       "      <th>...</th>\n",
       "      <td>...</td>\n",
       "    </tr>\n",
       "    <tr>\n",
       "      <th>ònatural</th>\n",
       "      <td>1</td>\n",
       "    </tr>\n",
       "    <tr>\n",
       "      <th>òthe</th>\n",
       "      <td>1</td>\n",
       "    </tr>\n",
       "    <tr>\n",
       "      <th>òunspoiltó</th>\n",
       "      <td>1</td>\n",
       "    </tr>\n",
       "    <tr>\n",
       "      <th>ôall</th>\n",
       "      <td>1</td>\n",
       "    </tr>\n",
       "    <tr>\n",
       "      <th>õs</th>\n",
       "      <td>1</td>\n",
       "    </tr>\n",
       "  </tbody>\n",
       "</table>\n",
       "<p>1564 rows × 1 columns</p>\n",
       "</div>"
      ],
      "text/plain": [
       "            Itula\n",
       "abandoning      1\n",
       "ability         1\n",
       "able            2\n",
       "abridge         1\n",
       "abroad          1\n",
       "...           ...\n",
       "ònatural        1\n",
       "òthe            1\n",
       "òunspoiltó      1\n",
       "ôall            1\n",
       "õs              1\n",
       "\n",
       "[1564 rows x 1 columns]"
      ]
     },
     "execution_count": 200,
     "metadata": {},
     "output_type": "execute_result"
    }
   ],
   "source": [
    "data = data_vect_feat.transpose()\n",
    "data"
   ]
  },
  {
   "cell_type": "code",
   "execution_count": 201,
   "metadata": {},
   "outputs": [
    {
     "name": "stdout",
     "output_type": "stream",
     "text": [
      "key Itula, value [('need', 39), ('people', 35), ('namibian', 26), ('namibia', 26), ('government', 25), ('youth', 23), ('health', 21), ('economy', 21), ('free', 18), ('citizen', 18), ('provide', 17), ('education', 16), ('service', 16), ('country', 16), ('benefit', 16), ('resource', 15), ('president', 14), ('shall', 14), ('business', 13), ('political', 13), ('water', 12), ('new', 12), ('nation', 12), ('sector', 11), ('state', 11), ('road', 11), ('access', 11), ('training', 11), ('opportunity', 11), ('land', 11), ('leader', 10), ('way', 10), ('market', 10), ('company', 10), ('party', 10), ('private', 10), ('good', 10), ('make', 9), ('activity', 9), ('mining', 9), ('industry', 9), ('future', 9), ('independent', 9), ('change', 9), ('right', 9), ('community', 9), ('policy', 9), ('especially', 8), ('time', 8), ('large', 8), ('skill', 8), ('development', 8), ('care', 8), ('worker', 8), ('tourism', 7), ('international', 7), ('institution', 7), ('public', 7), ('trade', 7), ('infrastructure', 7), ('society', 7), ('professional', 7), ('local', 7), ('current', 7), ('permit', 7), ('run', 7), ('national', 7), ('support', 7), ('constitution', 7), ('year', 7), ('important', 6), ('want', 6), ('power', 6), ('difficult', 6), ('experience', 6), ('population', 6), ('world', 6), ('mean', 6), ('self', 6), ('small', 6), ('hand', 6), ('enterprise', 6), ('law', 6), ('rich', 6), ('decision', 6), ('ensure', 6), ('fish', 6), ('age', 6), ('natural', 6), ('wealth', 6), ('administration', 6), ('foreign', 5), ('participation', 5), ('strategy', 5), ('challenge', 5), ('develop', 5), ('life', 5), ('member', 5), ('fishery', 5), ('security', 5), ('fundamental', 5), ('swapo', 5), ('electricity', 5), ('based', 5), ('working', 5), ('elite', 5), ('designed', 5), ('effect', 5), ('living', 5), ('present', 5), ('given', 5), ('social', 5), ('production', 5), ('housing', 5), ('minister', 5), ('use', 5), ('ambition', 5), ('achieve', 5), ('priority', 5), ('fund', 5), ('economic', 5), ('investment', 5), ('industrial', 5), ('individual', 5), ('reason', 5), ('regional', 5), ('hope', 4), ('democracy', 4), ('major', 4), ('expectation', 4), ('sale', 4), ('house', 4), ('specific', 4), ('scheme', 4), ('neighbour', 4), ('early', 4), ('idea', 4), ('million', 4), ('employment', 4), ('farm', 4), ('believe', 4), ('different', 4), ('capitalism', 4), ('struggle', 4), ('organisation', 4), ('number', 4), ('high', 4), ('family', 4), ('set', 4), ('building', 4), ('ministry', 4), ('capacity', 4), ('assist', 4), ('necessary', 4), ('post', 4), ('place', 4), ('principle', 4), ('region', 4), ('freedom', 4), ('example', 4), ('civil', 4), ('point', 4), ('worst', 4), ('respect', 4), ('critical', 4), ('forward', 4), ('allow', 4), ('environment', 4), ('require', 4), ('job', 4), ('irrespective', 4), ('produce', 4), ('problem', 4), ('agriculture', 4), ('corruption', 4), ('area', 4), ('circumstance', 4), ('programme', 4), ('pupil', 4), ('th', 4), ('woman', 4), ('article', 4), ('led', 4), ('peopleõs', 4), ('including', 4), ('like', 4), ('unemployment', 4), ('food', 4), ('friend', 3), ('far', 3), ('network', 3), ('condition', 3), ('contribution', 3), ('obvious', 3), ('socio', 3), ('product', 3), ('obligation', 3), ('non', 3), ('profit', 3), ('defence', 3), ('old', 3), ('serve', 3), ('running', 3), ('safety', 3), ('domestic', 3), ('deliver', 3), ('rule', 3), ('sanitation', 3), ('delivery', 3), ('work', 3), ('revolutionary', 3), ('destiny', 3), ('served', 3), ('digital', 3), ('help', 3), ('revenue', 3), ('currently', 3), ('city', 3), ('welfare', 3), ('possible', 3), ('rural', 3), ('potential', 3), ('course', 3), ('young', 3), ('smith', 3), ('funding', 3), ('traditional', 3), ('licence', 3), ('target', 3), ('beneficiary', 3), ('stop', 3), ('exchange', 3), ('fact', 3), ('belief', 3), ('veteran', 3), ('structure', 3), ('mechanism', 3), ('allocated', 3), ('succeed', 3), ('allocation', 3), ('efficient', 3), ('successful', 3), ('employee', 3), ('marx', 3), ('transferred', 3), ('intend', 3), ('intended', 3), ('intention', 3), ('manifesto', 3), ('maintenance', 3), ('essential', 3), ('informal', 3), ('introduction', 3), ('billion', 3), ('import', 3), ('blue', 3), ('level', 3), ('nationõs', 3), ('ill', 3), ('better', 3), ('ministerial', 3), ('learn', 3), ('agenda', 3), ('knowledge', 3), ('appropriate', 3), ('town', 3), ('po', 2), ('expertise', 2), ('pre', 2), ('possibility', 2), ('plumbing', 2), ('labour', 2), ('crop', 2), ('improve', 2), ('lack', 2), ('karl', 2), ('equally', 2), ('cronyism', 2), ('know', 2), ('creative', 2), ('governance', 2), ('known', 2), ('entrepreneurship', 2), ('kind', 2), ('forget', 2), ('crime', 2), ('countryõs', 2), ('criticise', 2), ('failed', 2), ('install', 2), ('press', 2), ('proposed', 2), ('protect', 2), ('protection', 2), ('contrary', 2), ('exists', 2), ('provision', 2), ('continue', 2), ('continent', 2), ('content', 2), ('incomprehensible', 2), ('independence', 2), ('pursuit', 2), ('quick', 2), ('quota', 2), ('construction', 2), ('radical', 2), ('prosperity', 2), ('promise', 2), ('eu', 2), ('existing', 2), ('print', 2), ('cost', 2), ('interior', 2), ('cooperative', 2), ('process', 2), ('impartial', 2), ('generation', 2), ('controlling', 2), ('excellent', 2), ('profession', 2), ('excluding', 2), ('inherent', 2), ('improving', 2), ('progress', 2), ('inevitably', 2), ('entrepreneurial', 2), ('period', 2), ('plan', 2), ('diet', 2), ('directly', 2), ('direct', 2), ('merit', 2), ('dignified', 2), ('human', 2), ('open', 2), ('economically', 2), ('ed', 2), ('overcome', 2), ('devastating', 2), ('detrimental', 2), ('measure', 2), ('determined', 2), ('ot', 2), ('effort', 2), ('despite', 2), ('hub', 2), ('offered', 2), ('constraint', 2), ('discriminatory', 2), ('nearly', 2), ('hospital', 2), ('drill', 2), ('drive', 2), ('dual', 2), ('doctor', 2), ('divert', 2), ('duplicating', 2), ('duty', 2), ('nurse', 2), ('objective', 2), ('mobile', 2), ('mix', 2), ('obliged', 2), ('observe', 2), ('outside', 2), ('facilitate', 2), ('entrepreneur', 2), ('entire', 2), ('pension', 2), ('liberty', 2), ('deep', 2), ('let', 2), ('percent', 2), ('le', 2), ('donõt', 2), ('entirely', 2), ('overlooked', 2), ('entitled', 2), ('permitted', 2), ('entity', 2), ('person', 2), ('personal', 2), ('daily', 2), ('illegal', 2), ('energy', 2), ('empowerment', 2), ('pay', 2), ('identify', 2), ('elected', 2), ('participate', 2), ('management', 2), ('partnership', 2), ('making', 2), ('financial', 2), ('majority', 2), ('democratic', 2), ('identified', 2), ('loyalty', 2), ('emerging', 2), ('looted', 2), ('long', 2), ('patriot', 2), ('patriotism', 2), ('increasing', 2), ('involve', 2), ('constitutional', 2), ('resistance', 2), ('selling', 2), ('unhealthy', 2), ('servant', 2), ('settlement', 2), ('agricultural', 2), ('share', 2), ('shelter', 2), ('shop', 2), ('shortage', 2), ('similar', 2), ('simply', 2), ('simultaneously', 2), ('allegiance', 2), ('build', 2), ('try', 2), ('true', 2), ('smart', 2), ('selected', 2), ('afford', 2), ('affiliation', 2), ('various', 2), ('addition', 2), ('restricted', 2), ('result', 2), ('retail', 2), ('return', 2), ('review', 2), ('revised', 2), ('revolution', 2), ('seek', 2), ('reward', 2), ('chosen', 2), ('using', 2), ('safe', 2), ('save', 2), ('usa', 2), ('century', 2), ('appeal', 2), ('smes', 2), ('socioeconomic', 2), ('sufficient', 2), ('ask', 2), ('technology', 2), ('student', 2), ('study', 2), ('subject', 2), ('banner', 2), ('assistance', 2), ('tate', 2), ('telephone', 2), ('task', 2), ('talent', 2), ('balance', 2), ('bad', 2), ('avoid', 2), ('supply', 2), ('available', 2), ('stopped', 2), ('best', 2), ('bold', 2), ('specifically', 2), ('body', 2), ('solution', 2), ('transport', 2), ('south', 2), ('appoin', 2), ('transfer', 2), ('blind', 2), ('tourist', 2), ('start', 2), ('apprenticeship', 2), ('big', 2), ('tool', 2), ('staff', 2), ('stagnation', 2), ('thing', 2), ('standard', 2), ('adam', 2), ('union', 2), ('reliable', 2), ('received', 2), ('wildlife', 2), ('considerable', 2), ('receipt', 2), ('wi', 2), ('comrade', 2), ('commission', 2), ('representation', 2), ('welcome', 2), ('wheel', 2), ('connection', 2), ('accept', 2), ('accelerate', 2), ('academic', 2), ('come', 2), ('account', 2), ('conjunction', 2), ('common', 2), ('able', 2), ('read', 2), ('ready', 2), ('relevant', 2), ('achieving', 2), ('erikson', 1), ('appreciating', 1), ('appointment', 1), ('applies', 1), ('appoints', 1), ('apposite', 1), ('applied', 1), ('essentially', 1), ('flood', 1), ('accelerating', 1), ('fortunately', 1), ('appropriately', 1), ('approval', 1), ('flexible', 1), ('establish', 1), ('arbitrary', 1), ('foundation', 1), ('appointed', 1), ('epupa', 1), ('foreigner', 1), ('er', 1), ('fontei', 1), ('follower', 1), ('error', 1), ('apply', 1), ('erations', 1), ('eracts', 1), ('accident', 1), ('era', 1), ('equitably', 1), ('following', 1), ('es', 1), ('force', 1), ('arising', 1), ('equitable', 1), ('equipment', 1), ('accessible', 1), ('accessed', 1), ('equal', 1), ('acolyte', 1), ('art', 1), ('armpit', 1), ('empowering', 1), ('fresh', 1), ('abridge', 1), ('fro', 1), ('frustrated', 1), ('associated', 1), ('endeavour', 1), ('encouraging', 1), ('encouragement', 1), ('en', 1), ('fu', 1), ('empower', 1), ('aroab', 1), ('astructure', 1), ('ational', 1), ('ationally', 1), ('employing', 1), ('atte', 1), ('attempt', 1), ('functioning', 1), ('employ', 1), ('attracts', 1), ('ability', 1), ('ass', 1), ('engaged', 1), ('frequent', 1), ('engela', 1), ('arrangement', 1), ('fourth', 1), ('academia', 1), ('fit', 1), ('ent', 1), ('arti', 1), ('ensuring', 1), ('artistic', 1), ('abuse', 1), ('ary', 1), ('enjoys', 1), ('abroad', 1), ('enjoying', 1), ('enjoy', 1), ('freeing', 1), ('enhanced', 1), ('enhance', 1), ('english', 1), ('aspect', 1), ('frenchman', 1), ('aspiration', 1), ('apparatchik', 1), ('anthem', 1), ('established', 1), ('establishing', 1), ('featherbedding', 1), ('external', 1), ('extensively', 1), ('export', 1), ('exploiting', 1), ('exploitation', 1), ('advantageó', 1), ('exploit', 1), ('advice', 1), ('adviser', 1), ('accordance', 1), ('experiment', 1), ('experiencing', 1), ('featu', 1), ('experienced', 1), ('advocate', 1), ('advocated', 1), ('feature', 1), ('expensive', 1), ('expenditure', 1), ('expended', 1), ('affair', 1), ('feed', 1), ('advantage', 1), ('advancement', 1), ('father', 1), ('adequately', 1), ('fai', 1), ('activist', 1), ('factual', 1), ('ad', 1), ('fail', 1), ('factory', 1), ('address', 1), ('failure', 1), ('faith', 1), ('addressed', 1), ('faced', 1), ('fascinating', 1), ('famers', 1), ('face', 1), ('adhere', 1), ('accruement', 1), ('eye', 1), ('accountability', 1), ('extremely', 1), ('extreme', 1), ('extractive', 1), ('extract', 1), ('expecting', 1), ('affect', 1), ('expected', 1), ('allowed', 1), ('finding', 1), ('finland', 1), ('fis', 1), ('excluded', 1), ('accompanied', 1), ('exception', 1), ('alleviate', 1), ('excel', 1), ('allocate', 1), ('examine', 1), ('ex', 1), ('al', 1), ('ew', 1), ('allows', 1), ('eventually', 1), ('ancillary', 1), ('animal', 1), ('accommodation', 1), ('evaluation', 1), ('action', 1), ('apart', 1), ('establishment', 1), ('alike', 1), ('execute', 1), ('affecting', 1), ('fewer', 1), ('feeding', 1), ('africa', 1), ('expansion', 1), ('expanse', 1), ('expan', 1), ('fellow', 1), ('african', 1), ('exp', 1), ('em', 1), ('exit', 1), ('fiction', 1), ('exempt', 1), ('accompany', 1), ('aggravated', 1), ('ago', 1), ('agreement', 1), ('existence', 1), ('fierce', 1), ('fight', 1), ('finance', 1), ('exercise', 1), ('air', 1), ('authored', 1), ('educator', 1), ('authority', 1), ('cle', 1), ('citiz', 1), ('debt', 1), ('dared', 1), ('danger', 1), ('dam', 1), ('cycle', 1), ('curriculum', 1), ('citizenry', 1), ('currency', 1), ('cultural', 1), ('cultivated', 1), ('claim', 1), ('clean', 1), ('coastal', 1), ('cleaner', 1), ('clear', 1), ('crony', 1), ('criticism', 1), ('clich', 1), ('climate', 1), ('criminal', 1), ('clinic', 1), ('close', 1), ('closely', 1), ('closeness', 1), ('creativity', 1), ('chronic', 1), ('decide', 1), ('decided', 1), ('choose', 1), ('descartes', 1), ('desalinatio', 1), ('derived', 1), ('derive', 1), ('ce', 1), ('deploying', 1), ('depends', 1), ('denying', 1), ('dentist', 1), ('central', 1), ('centre', 1), ('certain', 1), ('delivered', 1), ('certainty', 1), ('deficit', 1), ('chance', 1), ('chapter', 1), ('characterized', 1), ('deepening', 1), ('chatter', 1), ('cheap', 1), ('child', 1), ('decorator', 1), ('chinaõs', 1), ('choice', 1), ('club', 1), ('coherent', 1), ('eligible', 1), ('contrib', 1), ('control', 1), ('complementary', 1), ('complete', 1), ('compulsory', 1), ('concentrating', 1), ('contributor', 1), ('conducive', 1), ('conduct', 1), ('contributing', 1), ('contribute', 1), ('confined', 1), ('connected', 1), ('conomy', 1), ('creation', 1), ('contraction', 1), ('consequence', 1), ('continues', 1), ('consequently', 1), ('consideration', 1), ('considered', 1), ('cont', 1), ('constant', 1), ('consult', 1), ('constructively', 1), ('constantly', 1), ('constitutio', 1), ('controlled', 1), ('competition', 1), ('compassion', 1), ('comparatively', 1), ('creating', 1), ('collapse', 1), ('creates', 1), ('create', 1), ('cream', 1), ('collectively', 1), ('colonial', 1), ('colour', 1), ('comfortable', 1), ('countrywide', 1), ('countryside', 1), ('comfortably', 1), ('count', 1), ('cou', 1), ('commercial', 1), ('commit', 1), ('committee', 1), ('commodity', 1), ('corrupt', 1), ('cope', 1), ('coordination', 1), ('coordinated', 1), ('communicating', 1), ('communication', 1), ('convicted', 1), ('desert', 1), ('caught', 1), ('designing', 1), ('earnings', 1), ('ectricity', 1), ('beneficial', 1), ('benefitting', 1), ('economical', 1), ('ecology', 1), ('betrayal', 1), ('eat', 1), ('easy', 1), ('betraying', 1), ('betterment', 1), ('east', 1), ('earns', 1), ('earning', 1), ('desired', 1), ('earner', 1), ('ear', 1), ('bias', 1), ('dynamism', 1), ('dust', 1), ('bigger', 1), ('biometric', 1), ('drought', 1), ('driver', 1), ('birth', 1), ('black', 1), ('blame', 1), ('behaviour', 1), ('eded', 1), ('beginning', 1), ('educa', 1), ('ave', 1), ('awaiting', 1), ('away', 1), ('elfare', 1), ('elephant', 1), ('electr', 1), ('balancing', 1), ('election', 1), ('electing', 1), ('bank', 1), ('elder', 1), ('el', 1), ('eiseb', 1), ('bankrupt', 1), ('egulated', 1), ('eforms', 1), ('bankruptcy', 1), ('efficiently', 1), ('effective', 1), ('becam', 1), ('eek', 1), ('construct', 1), ('beco', 1), ('educatingó', 1), ('educate', 1), ('blic', 1), ('drain', 1), ('draft', 1), ('disease', 1), ('buy', 1), ('discrimination', 1), ('discovered', 1), ('cabinet', 1), ('camp', 1), ('dilemma', 1), ('canal', 1), ('candidate', 1), ('cann', 1), ('difficulty', 1), ('dictatorship', 1), ('dictate', 1), ('capital', 1), ('developm', 1), ('developing', 1), ('developed', 1), ('card', 1), ('careful', 1), ('determine', 1), ('detailed', 1), ('carriage', 1), ('carry', 1), ('despicable', 1), ('desperate', 1), ('cartesian', 1), ('built', 1), ('disgrace', 1), ('dozen', 1), ('dismantled', 1), ('blindly', 1), ('downgradin', 1), ('downfall', 1), ('doomed', 1), ('blip', 1), ('bloated', 1), ('board', 1), ('boreholes', 1), ('document', 1), ('borrow', 1), ('bounty', 1), ('distrust', 1), ('distribution', 1), ('distributed', 1), ('distressed', 1), ('bread', 1), ('distinguishing', 1), ('distinguished', 1), ('disservice', 1), ('dissent', 1), ('bricklaying', 1), ('bring', 1), ('dispensation', 1), ('budget', 1), ('budgeted', 1), ('craft', 1), ('õs', 1), ('funded', 1), ('risk', 1), ('retained', 1), ('retaining', 1), ('retire', 1), ('revive', 1), ('ributing', 1), ('rid', 1), ('rightful', 1), ('rnment', 1), ('said', 1), ('roof', 1), ('room', 1), ('round', 1), ('rundu', 1), ('sacred', 1), ('sacrifice', 1), ('sacrificed', 1), ('retain', 1), ('restoring', 1), ('restore', 1), ('restoration', 1), ('replaced', 1), ('represent', 1), ('republic', 1), ('reputation', 1), ('required', 1), ('requires', 1), ('rescue', 1), ('reserved', 1), ('reside', 1), ('resident', 1), ('residential', 1), ('resort', 1), ('responsibility', 1), ('rest', 1), ('restaurant', 1), ('safari', 1), ('salary', 1), ('repeated', 1), ('smallholder', 1), ('skilled', 1), ('sleepwalking', 1), ('slightest', 1), ('slogan', 1), ('slow', 1), ('slowly', 1), ('sma', 1), ('smallholding', 1), ('saved', 1), ('sme', 1), ('soaked', 1), ('soaring', 1), ('soil', 1), ('solar', 1), ('solid', 1), ('solve', 1), ('ski', 1), ('sk', 1), ('sixteenth', 1), ('sit', 1), ('scene', 1), ('secretary', 1), ('secularity', 1), ('seeking', 1), ('segment', 1), ('sell', 1), ('send', 1), ('servicing', 1), ('setting', 1), ('settle', 1), ('sha', 1), ('shareholder', 1), ('shipped', 1), ('sidency', 1), ('sion', 1), ('replace', 1), ('remunerated', 1), ('practice', 1), ('protecting', 1), ('producer', 1), ('productive', 1), ('productivity', 1), ('progressive', 1), ('project', 1), ('prone', 1), ('property', 1), ('proud', 1), ('quote', 1), ('provided', 1), ('proxy', 1), ('pu', 1), ('publicly', 1), ('pulation', 1), ('purpose', 1), ('question', 1), ('produced', 1), ('procedure', 1), ('problematic', 1), ('probity', 1), ('prefabricated', 1), ('preferably', 1), ('preference', 1), ('premise', 1), ('presidency', 1), ('presidential', 1), ('pressure', 1), ('previous', 1), ('price', 1), ('prime', 1), ('principal', 1), ('priorit', 1), ('prioritise', 1), ('privilege', 1), ('pro', 1), ('quickly', 1), ('rail', 1), ('remote', 1), ('relapse', 1), ('reforming', 1), ('regardless', 1), ('regulation', 1), ('regulatory', 1), ('reign', 1), ('reinvested', 1), ('rejected', 1), ('related', 1), ('railway', 1), ('relationship', 1), ('relatively', 1), ('reli', 1), ('religion', 1), ('relying', 1), ('remain', 1), ('remains', 1), ('reform', 1), ('redundant', 1), ('reduction', 1), ('reducing', 1), ('rally', 1), ('reach', 1), ('reached', 1), ('reading', 1), ('realise', 1), ('reality', 1), ('reasonable', 1), ('reasoning', 1), ('recall', 1), ('receive', 1), ('recent', 1), ('recognising', 1), ('record', 1), ('rededicate', 1), ('redistribute', 1), ('song', 1), ('soon', 1), ('source', 1), ('unskilled', 1), ('undue', 1), ('unemployed', 1), ('unforeseeable', 1), ('unfortunate', 1), ('unfortunately', 1), ('unhygienic', 1), ('unnecessary', 1), ('unwanted', 1), ('ution', 1), ('upgrading', 1), ('ur', 1), ('ural', 1), ('urgency', 1), ('used', 1), ('useful', 1), ('ustries', 1), ('unds', 1), ('undertake', 1), ('understand', 1), ('underground', 1), ('trial', 1), ('tribalism', 1), ('trouble', 1), ('truly', 1), ('turn', 1), ('turned', 1), ('turning', 1), ('twyfel', 1), ('ty', 1), ('ud', 1), ('ultimate', 1), ('ultimately', 1), ('unable', 1), ('unbridled', 1), ('undeniably', 1), ('utilise', 1), ('vain', 1), ('sovereignty', 1), ('yes', 1), ('widening', 1), ('wider', 1), ('wish', 1), ('witnessed', 1), ('worrying', 1), ('writing', 1), ('wrong', 1), ('yout', 1), ('valuable', 1), ('youthfulness', 1), ('zambezi', 1), ('òjobs', 1), ('òlift', 1), ('ònatural', 1), ('òthe', 1), ('òunspoiltó', 1), ('white', 1), ('western', 1), ('west', 1), ('weakness', 1), ('value', 1), ('vast', 1), ('version', 1), ('vested', 1), ('victim', 1), ('vigilance', 1), ('violence', 1), ('vision', 1), ('vital', 1), ('voc', 1), ('voting', 1), ('vtcõs', 1), ('vulnerable', 1), ('waiting', 1), ('war', 1), ('treasury', 1), ('travelled', 1), ('travel', 1), ('success', 1), ('stolen', 1), ('store', 1), ('stricter', 1), ('strictly', 1), ('strong', 1), ('subsidises', 1), ('succe', 1), ('suitable', 1), ('transition', 1), ('suitably', 1), ('sum', 1), ('summ', 1), ('summary', 1), ('sung', 1), ('supermarket', 1), ('supervised', 1), ('stifling', 1), ('step', 1), ('stealing', 1), ('stayed', 1), ('soviet', 1), ('specialization', 1), ('specialty', 1), ('spending', 1), ('spends', 1), ('spent', 1), ('sport', 1), ('spread', 1), ('squally', 1), ('st', 1), ('stake', 1), ('standing', 1), ('starting', 1), ('stated', 1), ('status', 1), ('supervision', 1), ('supervisory', 1), ('supported', 1), ('territory', 1), ('testimony', 1), ('thereof', 1), ('thirty', 1), ('threat', 1), ('tial', 1), ('tion', 1), ('todayõs', 1), ('tor', 1), ('torch', 1), ('tortured', 1), ('track', 1), ('tradition', 1), ('trailing', 1), ('train', 1), ('trained', 1), ('tertiary', 1), ('tendering', 1), ('surround', 1), ('telephony', 1), ('sustainable', 1), ('swa', 1), ('sweden', 1), ('syste', 1), ('table', 1), ('tackled', 1), ('taking', 1), ('tarians', 1), ('taxi', 1), ('teacher', 1), ('tech', 1), ('technique', 1), ('technological', 1), ('ted', 1), ('teeming', 1), ('pragmatism', 1), ('pr', 1), ('furthermore', 1), ('interference', 1), ('innovation', 1), ('innovator', 1), ('insecurity', 1), ('insert', 1), ('instantly', 1), ('instinct', 1), ('insult', 1), ('internationalised', 1), ('ission', 1), ('intervene', 1), ('intervention', 1), ('intimidation', 1), ('invest', 1), ('ôall', 1), ('involvement', 1), ('iority', 1), ('initiative', 1), ('initially', 1), ('initial', 1), ('iniquity', 1), ('inclu', 1), ('incompeten', 1), ('increase', 1), ('ind', 1), ('independently', 1), ('indigenous', 1), ('indiv', 1), ('indus', 1), ('industrialised', 1), ('inefficient', 1), ('inequality', 1), ('inflated', 1), ('infr', 1), ('ingenuity', 1), ('inhabitant', 1), ('ir', 1), ('issued', 1), ('inadequate', 1), ('lementation', 1), ('lawful', 1), ('lead', 1), ('leadership', 1), ('learning', 1), ('leave', 1), ('legality', 1), ('legislate', 1), ('liberated', 1), ('ist', 1), ('liberation', 1), ('limitation', 1), ('ling', 1), ('link', 1), ('linked', 1), ('linking', 1), ('lionõs', 1), ('launched', 1), ('launch', 1), ('larger', 1), ('language', 1), ('jackal', 1), ('journalism', 1), ('judiciary', 1), ('justified', 1), ('justify', 1), ('kapana', 1), ('katima', 1), ('katutura', 1), ('key', 1), ('kharas', 1), ('kill', 1), ('laid', 1), ('landed', 1), ('landmass', 1), ('landscape', 1), ('incapacitated', 1), ('improved', 1), ('poten', 1), ('group', 1), ('governmentõs', 1), ('grade', 1), ('graduating', 1), ('grateful', 1), ('greater', 1), ('gross', 1), ('ground', 1), ('growth', 1), ('happy', 1), ('guaranteed', 1), ('guard', 1), ('guiding', 1), ('guise', 1), ('gulf', 1), ('hair', 1), ('hallmark', 1), ('governing', 1), ('governed', 1), ('govern', 1), ('gove', 1), ('futile', 1), ('gain', 1), ('game', 1), ('garage', 1), ('gdp', 1), ('gen', 1), ('gender', 1), ('general', 1), ('generate', 1), ('generated', 1), ('getting', 1), ('ghost', 1), ('gious', 1), ('gipf', 1), ('going', 1), ('happen', 1), ('harassment', 1), ('imprisoned', 1), ('illegally', 1), ('ideal', 1), ('identification', 1), ('identifies', 1), ('identifying', 1), ('iduals', 1), ('ignored', 1), ('ignoring', 1), ('illness', 1), ('head', 1), ('immune', 1), ('imp', 1), ('impact', 1), ('implement', 1), ('implementation', 1), ('imposing', 1), ('impossible', 1), ('ician', 1), ('ibia', 1), ('hyena', 1), ('household', 1), ('heal', 1), ('healthy', 1), ('heartb', 1), ('herd', 1), ('hero', 1), ('heroine', 1), ('highlight', 1), ('hire', 1), ('historical', 1), ('hit', 1), ('hold', 1), ('home', 1), ('homel', 1), ('honest', 1), ('hotel', 1), ('literacy', 1), ('little', 1), ('live', 1), ('outperforming', 1), ('orga', 1), ('organisatio', 1), ('orientation', 1), ('oriented', 1), ('original', 1), ('ossusvlei', 1), ('outapi', 1), ('ov', 1), ('parliamen', 1), ('overall', 1), ('overlook', 1), ('owned', 1), ('paid', 1), ('par', 1), ('paramount', 1), ('parasitic', 1), ('ordinary', 1), ('order', 1), ('orange', 1), ('option', 1), ('occupy', 1), ('offer', 1), ('office', 1), ('official', 1), ('offset', 1), ('oil', 1), ('okavango', 1), ('omaheke', 1), ('ome', 1), ('ooperative', 1), ('opening', 1), ('operate', 1), ('operating', 1), ('opportunist', 1), ('oppression', 1), ('park', 1), ('participated', 1), ('loit', 1), ('ployment', 1), ('piece', 1), ('plagu', 1), ('planning', 1), ('plant', 1), ('playing', 1), ('plenty', 1), ('ploiting', 1), ('polarised', 1), ('participates', 1), ('polic', 1), ('poor', 1), ('popularity', 1), ('port', 1), ('portfolio', 1), ('position', 1), ('postgraduate', 1), ('physiotherapist', 1), ('phosphate', 1), ('phenomenon', 1), ('persuasion', 1), ('particularly', 1), ('partisan', 1), ('pas', 1), ('passenger', 1), ('past', 1), ('path', 1), ('pathway', 1), ('patient', 1), ('peace', 1), ('penny', 1), ('pensioner', 1), ('peoplesõ', 1), ('percentage', 1), ('performance', 1), ('periodically', 1), ('occupation', 1), ('observing', 1), ('obligatory', 1), ('medium', 1), ('mast', 1), ('master', 1), ('matter', 1), ('maximum', 1), ('measurable', 1), ('meat', 1), ('medicine', 1), ('meet', 1), ('ny', 1), ('meltdown', 1), ('men', 1), ('mention', 1), ('mentioned', 1), ('ments', 1), ('merge', 1), ('meritocracy', 1), ('marxõs', 1), ('marketing', 1), ('marketer', 1), ('marked', 1), ('longer', 1), ('look', 1), ('loss', 1), ('low', 1), ('loyal', 1), ('maintain', 1), ('maladministration', 1), ('managed', 1), ('manager', 1), ('mandated', 1), ('manipulation', 1), ('mantra', 1), ('manufacturing', 1), ('manõs', 1), ('marine', 1), ('message', 1), ('mighty', 1), ('mind', 1), ('nationality', 1), ('nd', 1), ('ndamental', 1), ('ne', 1), ('needing', 1), ('negotiate', 1), ('niche', 1), ('nisation', 1), ('nokia', 1), ('note', 1), ('notwithstanding', 1), ('novel', 1), ('ntrywide', 1), ('numbering', 1), ('nutrition', 1), ('nutritionally', 1), ('nationwide', 1), ('nationalism', 1), ('ming', 1), ('nam', 1), ('minor', 1), ('misfortune', 1), ('mistake', 1), ('mitigate', 1), ('mixed', 1), ('mixture', 1), ('mo', 1), ('monitoring', 1), ('mother', 1), ('motorist', 1), ('mpts', 1), ('multinational', 1), ('multitude', 1), ('music', 1), ('nail', 1), ('abandoning', 1)] \n"
     ]
    }
   ],
   "source": [
    "import matplotlib.pyplot as plt\n",
    "import seaborn as sn\n",
    "\n",
    "# Find the top 1000 words written in the manifesto\n",
    "top_dict = {}\n",
    "for c in data.columns:\n",
    "    top = data[c].sort_values(ascending=False)\n",
    "    top_dict[c]= list(zip(top.index, top.values))\n",
    "\n",
    "    \n",
    "for x in list(top_dict)[0:100]:\n",
    "    print(\"key {}, value {} \".format(x,  top_dict[x]))"
   ]
  },
  {
   "cell_type": "code",
   "execution_count": 202,
   "metadata": {},
   "outputs": [
    {
     "name": "stdout",
     "output_type": "stream",
     "text": [
      "['need', 'people', 'namibian', 'namibia', 'government', 'youth', 'health', 'economy', 'free', 'citizen']\n"
     ]
    }
   ],
   "source": [
    "# Look at the most common top words --> add them to the stop word list\n",
    "from collections import Counter\n",
    "\n",
    "# Let's first pull out the top 100 words for each comedian\n",
    "words = []\n",
    "for president in data:\n",
    "    top = [word for (word, count) in top_dict[president]]\n",
    "    for t in top:\n",
    "        words.append(t)\n",
    "\n",
    "print(words[:10])"
   ]
  },
  {
   "cell_type": "code",
   "execution_count": 203,
   "metadata": {},
   "outputs": [
    {
     "ename": "FileNotFoundError",
     "evalue": "No such file: 'C:\\Users\\P.SridharanSrinivas\\Desktop\\sai_pycaret\\input\\manifesto\\itula.jpeg'",
     "output_type": "error",
     "traceback": [
      "\u001b[1;31m---------------------------------------------------------------------------\u001b[0m",
      "\u001b[1;31mFileNotFoundError\u001b[0m                         Traceback (most recent call last)",
      "\u001b[1;32m<ipython-input-203-4cfbe37f0820>\u001b[0m in \u001b[0;36m<module>\u001b[1;34m\u001b[0m\n\u001b[0;32m      5\u001b[0m \u001b[1;33m\u001b[0m\u001b[0m\n\u001b[0;32m      6\u001b[0m \u001b[1;31m# Image used in which our world cloud output will be\u001b[0m\u001b[1;33m\u001b[0m\u001b[1;33m\u001b[0m\u001b[1;33m\u001b[0m\u001b[0m\n\u001b[1;32m----> 7\u001b[1;33m \u001b[0mimg1\u001b[0m \u001b[1;33m=\u001b[0m \u001b[0mimageio\u001b[0m\u001b[1;33m.\u001b[0m\u001b[0mimread\u001b[0m\u001b[1;33m(\u001b[0m\u001b[1;34m\"../input/manifesto/itula.jpeg\"\u001b[0m\u001b[1;33m)\u001b[0m\u001b[1;33m\u001b[0m\u001b[1;33m\u001b[0m\u001b[0m\n\u001b[0m\u001b[0;32m      8\u001b[0m \u001b[0mhcmask1\u001b[0m \u001b[1;33m=\u001b[0m \u001b[0mimg1\u001b[0m\u001b[1;33m\u001b[0m\u001b[1;33m\u001b[0m\u001b[0m\n\u001b[0;32m      9\u001b[0m \u001b[1;33m\u001b[0m\u001b[0m\n",
      "\u001b[1;32m~\\Anaconda3\\lib\\site-packages\\imageio\\core\\functions.py\u001b[0m in \u001b[0;36mimread\u001b[1;34m(uri, format, **kwargs)\u001b[0m\n\u001b[0;32m    263\u001b[0m \u001b[1;33m\u001b[0m\u001b[0m\n\u001b[0;32m    264\u001b[0m     \u001b[1;31m# Get reader and read first\u001b[0m\u001b[1;33m\u001b[0m\u001b[1;33m\u001b[0m\u001b[1;33m\u001b[0m\u001b[0m\n\u001b[1;32m--> 265\u001b[1;33m     \u001b[0mreader\u001b[0m \u001b[1;33m=\u001b[0m \u001b[0mread\u001b[0m\u001b[1;33m(\u001b[0m\u001b[0muri\u001b[0m\u001b[1;33m,\u001b[0m \u001b[0mformat\u001b[0m\u001b[1;33m,\u001b[0m \u001b[1;34m\"i\"\u001b[0m\u001b[1;33m,\u001b[0m \u001b[1;33m**\u001b[0m\u001b[0mkwargs\u001b[0m\u001b[1;33m)\u001b[0m\u001b[1;33m\u001b[0m\u001b[1;33m\u001b[0m\u001b[0m\n\u001b[0m\u001b[0;32m    266\u001b[0m     \u001b[1;32mwith\u001b[0m \u001b[0mreader\u001b[0m\u001b[1;33m:\u001b[0m\u001b[1;33m\u001b[0m\u001b[1;33m\u001b[0m\u001b[0m\n\u001b[0;32m    267\u001b[0m         \u001b[1;32mreturn\u001b[0m \u001b[0mreader\u001b[0m\u001b[1;33m.\u001b[0m\u001b[0mget_data\u001b[0m\u001b[1;33m(\u001b[0m\u001b[1;36m0\u001b[0m\u001b[1;33m)\u001b[0m\u001b[1;33m\u001b[0m\u001b[1;33m\u001b[0m\u001b[0m\n",
      "\u001b[1;32m~\\Anaconda3\\lib\\site-packages\\imageio\\core\\functions.py\u001b[0m in \u001b[0;36mget_reader\u001b[1;34m(uri, format, mode, **kwargs)\u001b[0m\n\u001b[0;32m    170\u001b[0m \u001b[1;33m\u001b[0m\u001b[0m\n\u001b[0;32m    171\u001b[0m     \u001b[1;31m# Create request object\u001b[0m\u001b[1;33m\u001b[0m\u001b[1;33m\u001b[0m\u001b[1;33m\u001b[0m\u001b[0m\n\u001b[1;32m--> 172\u001b[1;33m     \u001b[0mrequest\u001b[0m \u001b[1;33m=\u001b[0m \u001b[0mRequest\u001b[0m\u001b[1;33m(\u001b[0m\u001b[0muri\u001b[0m\u001b[1;33m,\u001b[0m \u001b[1;34m\"r\"\u001b[0m \u001b[1;33m+\u001b[0m \u001b[0mmode\u001b[0m\u001b[1;33m,\u001b[0m \u001b[1;33m**\u001b[0m\u001b[0mkwargs\u001b[0m\u001b[1;33m)\u001b[0m\u001b[1;33m\u001b[0m\u001b[1;33m\u001b[0m\u001b[0m\n\u001b[0m\u001b[0;32m    173\u001b[0m \u001b[1;33m\u001b[0m\u001b[0m\n\u001b[0;32m    174\u001b[0m     \u001b[1;31m# Get format\u001b[0m\u001b[1;33m\u001b[0m\u001b[1;33m\u001b[0m\u001b[1;33m\u001b[0m\u001b[0m\n",
      "\u001b[1;32m~\\Anaconda3\\lib\\site-packages\\imageio\\core\\request.py\u001b[0m in \u001b[0;36m__init__\u001b[1;34m(self, uri, mode, **kwargs)\u001b[0m\n\u001b[0;32m    119\u001b[0m \u001b[1;33m\u001b[0m\u001b[0m\n\u001b[0;32m    120\u001b[0m         \u001b[1;31m# Parse what was given\u001b[0m\u001b[1;33m\u001b[0m\u001b[1;33m\u001b[0m\u001b[1;33m\u001b[0m\u001b[0m\n\u001b[1;32m--> 121\u001b[1;33m         \u001b[0mself\u001b[0m\u001b[1;33m.\u001b[0m\u001b[0m_parse_uri\u001b[0m\u001b[1;33m(\u001b[0m\u001b[0muri\u001b[0m\u001b[1;33m)\u001b[0m\u001b[1;33m\u001b[0m\u001b[1;33m\u001b[0m\u001b[0m\n\u001b[0m\u001b[0;32m    122\u001b[0m \u001b[1;33m\u001b[0m\u001b[0m\n\u001b[0;32m    123\u001b[0m         \u001b[1;31m# Set extension\u001b[0m\u001b[1;33m\u001b[0m\u001b[1;33m\u001b[0m\u001b[1;33m\u001b[0m\u001b[0m\n",
      "\u001b[1;32m~\\Anaconda3\\lib\\site-packages\\imageio\\core\\request.py\u001b[0m in \u001b[0;36m_parse_uri\u001b[1;34m(self, uri)\u001b[0m\n\u001b[0;32m    255\u001b[0m                 \u001b[1;31m# Reading: check that the file exists (but is allowed a dir)\u001b[0m\u001b[1;33m\u001b[0m\u001b[1;33m\u001b[0m\u001b[1;33m\u001b[0m\u001b[0m\n\u001b[0;32m    256\u001b[0m                 \u001b[1;32mif\u001b[0m \u001b[1;32mnot\u001b[0m \u001b[0mos\u001b[0m\u001b[1;33m.\u001b[0m\u001b[0mpath\u001b[0m\u001b[1;33m.\u001b[0m\u001b[0mexists\u001b[0m\u001b[1;33m(\u001b[0m\u001b[0mfn\u001b[0m\u001b[1;33m)\u001b[0m\u001b[1;33m:\u001b[0m\u001b[1;33m\u001b[0m\u001b[1;33m\u001b[0m\u001b[0m\n\u001b[1;32m--> 257\u001b[1;33m                     \u001b[1;32mraise\u001b[0m \u001b[0mFileNotFoundError\u001b[0m\u001b[1;33m(\u001b[0m\u001b[1;34m\"No such file: '%s'\"\u001b[0m \u001b[1;33m%\u001b[0m \u001b[0mfn\u001b[0m\u001b[1;33m)\u001b[0m\u001b[1;33m\u001b[0m\u001b[1;33m\u001b[0m\u001b[0m\n\u001b[0m\u001b[0;32m    258\u001b[0m             \u001b[1;32melse\u001b[0m\u001b[1;33m:\u001b[0m\u001b[1;33m\u001b[0m\u001b[1;33m\u001b[0m\u001b[0m\n\u001b[0;32m    259\u001b[0m                 \u001b[1;31m# Writing: check that the directory to write to does exist\u001b[0m\u001b[1;33m\u001b[0m\u001b[1;33m\u001b[0m\u001b[1;33m\u001b[0m\u001b[0m\n",
      "\u001b[1;31mFileNotFoundError\u001b[0m: No such file: 'C:\\Users\\P.SridharanSrinivas\\Desktop\\sai_pycaret\\input\\manifesto\\itula.jpeg'"
     ]
    }
   ],
   "source": [
    "from wordcloud import WordCloud, STOPWORDS\n",
    "import imageio\n",
    "import matplotlib.pyplot as plt\n",
    "import nltk\n",
    "\n",
    "# Image used in which our world cloud output will be\n",
    "img1 = imageio.imread(\"../input/manifesto/itula.jpeg\")\n",
    "hcmask1 = img1\n",
    "\n",
    "# Get 100 words based on the \n",
    "words_except_stop_dist = nltk.FreqDist(w for w in words[:100]) \n",
    "wordcloud = WordCloud(stopwords=set(STOPWORDS),background_color='black',mask=hcmask1).generate(\" \".join(words_except_stop_dist))\n",
    "plt.imshow(wordcloud,interpolation = 'bilinear')\n",
    "fig=plt.gcf()\n",
    "fig.set_size_inches(10,12)\n",
    "plt.axis('off')\n",
    "plt.title(\"Top most common 100 words from Dr. Itula's Manifesto 2019\",fontsize=20)\n",
    "plt.tight_layout(pad=0)\n",
    "plt.savefig('Manifesto_top_100.jpeg')"
   ]
  },
  {
   "cell_type": "code",
   "execution_count": 204,
   "metadata": {},
   "outputs": [],
   "source": [
    "from collections import defaultdict\n",
    "from vaderSentiment.vaderSentiment import SentimentIntensityAnalyzer\n",
    "from textblob import TextBlob\n"
   ]
  },
  {
   "cell_type": "code",
   "execution_count": 205,
   "metadata": {},
   "outputs": [
    {
     "data": {
      "text/plain": [
       "Sentiment(polarity=0.07240899626355898, subjectivity=0.456152041874476)"
      ]
     },
     "execution_count": 205,
     "metadata": {},
     "output_type": "execute_result"
    }
   ],
   "source": [
    "blob = TextBlob(clean_data)\n",
    "blob.sentiment"
   ]
  },
  {
   "cell_type": "code",
   "execution_count": 207,
   "metadata": {},
   "outputs": [],
   "source": [
    "from gensim.summarization.summarizer import summarize"
   ]
  },
  {
   "cell_type": "code",
   "execution_count": 209,
   "metadata": {},
   "outputs": [],
   "source": [
    "\n",
    "# Gensim\n",
    "import gensim\n",
    "import gensim.corpora as corpora\n",
    "from gensim.utils import simple_preprocess\n",
    "from gensim.models import CoherenceModel\n",
    "\n",
    "# Plotting tools\n",
    "import pyLDAvis\n",
    "#import graphlab as gl\n",
    "#import pyLDAvis.graphlab\n",
    "import pyLDAvis.gensim  # don't skip this\n",
    "\n",
    "# Enable logging for gensim - optional\n",
    "import logging\n",
    "logging.basicConfig(format='%(asctime)s : %(levelname)s : %(message)s', level=logging.ERROR)"
   ]
  },
  {
   "cell_type": "code",
   "execution_count": 210,
   "metadata": {},
   "outputs": [],
   "source": [
    "data  = []\n",
    "data.append(clean_text(lower_case))"
   ]
  },
  {
   "cell_type": "code",
   "execution_count": 216,
   "metadata": {},
   "outputs": [],
   "source": [
    "import en_core_web_sm\n",
    "nlp = en_core_web_sm.load()"
   ]
  },
  {
   "cell_type": "code",
   "execution_count": 220,
   "metadata": {},
   "outputs": [],
   "source": [
    "# This time we use spacy for lemmatizarion \n",
    "import spacy\n",
    "\n",
    "# Second lemmatization of our data\n",
    "def lemmatization(data, allowed_postags=['NOUN', 'ADJ', 'VERB', 'ADV']):\n",
    "    \"\"\"https://spacy.io/api/annotation\"\"\"\n",
    "    texts_output = []\n",
    "    for sent in data:\n",
    "        doc = nlp(\" \".join(sent)) \n",
    "        texts_output.append([token.lemma_ for token in doc if token.pos_ in allowed_postags])\n",
    "    return texts_output\n",
    "\n"
   ]
  },
  {
   "cell_type": "code",
   "execution_count": 222,
   "metadata": {},
   "outputs": [],
   "source": [
    "nlp = en_core_web_sm.load()\n",
    "\n",
    "# Lemmatize keeping only noun, adj, vb, adv\n",
    "data_lemmatized = lemmatization(data, allowed_postags=['NOUN', 'ADJ', 'VERB', 'ADV'])"
   ]
  },
  {
   "cell_type": "code",
   "execution_count": 223,
   "metadata": {},
   "outputs": [
    {
     "name": "stdout",
     "output_type": "stream",
     "text": [
      "[[(0, 1), (1, 1), (2, 2), (3, 1), (4, 1), (5, 1), (6, 1), (7, 2), (8, 2), (9, 2), (10, 12), (11, 1), (12, 1), (13, 1), (14, 2), (15, 1), (16, 2), (17, 1), (18, 1), (19, 7), (20, 1), (21, 1), (22, 9), (23, 1), (24, 2), (25, 2), (26, 1), (27, 1), (28, 4), (29, 1), (30, 1), (31, 1), (32, 1), (33, 2), (34, 2), (35, 2), (36, 1), (37, 1), (38, 6), (39, 3), (40, 1), (41, 1), (42, 1), (43, 2), (44, 4), (45, 1), (46, 1), (47, 2), (48, 4), (49, 3), (50, 6), (51, 2), (52, 1), (53, 10), (54, 5), (55, 2), (56, 1), (57, 1), (58, 1), (59, 1), (60, 1), (61, 2), (62, 3), (63, 2), (64, 2), (65, 1), (66, 1), (67, 1), (68, 2), (69, 3), (70, 1), (71, 1), (72, 1), (73, 4), (74, 1), (75, 1), (76, 1), (77, 1), (78, 4), (79, 1), (80, 1), (81, 2), (82, 1), (83, 1), (84, 1), (85, 4), (86, 2), (87, 1), (88, 1), (89, 1), (90, 1), (91, 1), (92, 1), (93, 1), (94, 1), (95, 2), (96, 1), (97, 2), (98, 1), (99, 1), (100, 2), (101, 2), (102, 6), (103, 3), (104, 1), (105, 1), (106, 2), (107, 5), (108, 2), (109, 1), (110, 3), (111, 4), (112, 1), (113, 2), (114, 1), (115, 15), (116, 1), (117, 1), (118, 1), (119, 1), (120, 3), (121, 1), (122, 1), (123, 1), (124, 1), (125, 1), (126, 2), (127, 1), (128, 2), (129, 1), (130, 2), (131, 2), (132, 1), (133, 1), (134, 1), (135, 1), (136, 1), (137, 2), (138, 3), (139, 4), (140, 13), (141, 1), (142, 2), (143, 1), (144, 1), (145, 1), (146, 1), (147, 1), (148, 1), (149, 4), (150, 1), (151, 4), (152, 1), (153, 8), (154, 1), (155, 1), (156, 1), (157, 1), (158, 1), (159, 1), (160, 1), (161, 2), (162, 1), (163, 4), (164, 1), (165, 9), (166, 1), (167, 1), (168, 1), (169, 1), (170, 1), (171, 1), (172, 3), (173, 1), (174, 4), (175, 1), (176, 18), (177, 3), (178, 4), (179, 1), (180, 1), (181, 1), (182, 1), (183, 1), (184, 1), (185, 1), (186, 1), (187, 1), (188, 1), (189, 1), (190, 1), (191, 1), (192, 1), (193, 1), (194, 1), (195, 2), (196, 1), (197, 1), (198, 1), (199, 1), (200, 1), (201, 1), (202, 2), (203, 1), (204, 9), (205, 10), (206, 1), (207, 1), (208, 1), (209, 1), (210, 1), (211, 1), (212, 1), (213, 1), (214, 3), (215, 1), (216, 1), (217, 1), (218, 2), (219, 1), (220, 2), (221, 1), (222, 1), (223, 1), (224, 2), (225, 1), (226, 1), (227, 1), (228, 1), (229, 4), (230, 2), (231, 2), (232, 2), (233, 1), (234, 1), (235, 1), (236, 2), (237, 2), (238, 3), (239, 1), (240, 2), (241, 2), (242, 3), (243, 1), (244, 4), (245, 1), (246, 2), (247, 1), (248, 1), (249, 1), (250, 1), (251, 4), (252, 2), (253, 1), (254, 1), (255, 16), (256, 1), (257, 1), (258, 1), (259, 3), (260, 1), (261, 3), (262, 1), (263, 2), (264, 1), (265, 2), (266, 1), (267, 4), (268, 2), (269, 1), (270, 1), (271, 2), (272, 2), (273, 1), (274, 1), (275, 1), (276, 7), (277, 3), (278, 1), (279, 1), (280, 1), (281, 1), (282, 1), (283, 1), (284, 1), (285, 2), (286, 6), (287, 1), (288, 2), (289, 1), (290, 3), (291, 1), (292, 4), (293, 3), (294, 4), (295, 2), (296, 1), (297, 1), (298, 1), (299, 1), (300, 2), (301, 1), (302, 1), (303, 6), (304, 1), (305, 1), (306, 1), (307, 2), (308, 1), (309, 1), (310, 3), (311, 2), (312, 2), (313, 7), (314, 5), (315, 1), (316, 1), (317, 2), (318, 4), (319, 6), (320, 1), (321, 3), (322, 2), (323, 1), (324, 2), (325, 2), (326, 1), (327, 1), (328, 2), (329, 1), (330, 1), (331, 1), (332, 1), (333, 1), (334, 1), (335, 2), (336, 1), (337, 1), (338, 1), (339, 1), (340, 2), (341, 5), (342, 2), (343, 1), (344, 3), (345, 2), (346, 1), (347, 1), (348, 1), (349, 1), (350, 1), (351, 2), (352, 2), (353, 1), (354, 1), (355, 1), (356, 1), (357, 2), (358, 1), (359, 2), (360, 1), (361, 1), (362, 4), (363, 2), (364, 1), (365, 1), (366, 1), (367, 1), (368, 4), (369, 1), (370, 2), (371, 21), (372, 1), (373, 1), (374, 1), (375, 1), (376, 1), (377, 15), (378, 1), (379, 1), (380, 5), (381, 1), (382, 2), (383, 1), (384, 2), (385, 1), (386, 1), (387, 1), (388, 3), (389, 1), (390, 5), (391, 1), (392, 1), (393, 1), (394, 4), (395, 1), (396, 2), (397, 2), (398, 3), (399, 4), (400, 2), (401, 2), (402, 1), (403, 1), (404, 1), (405, 2), (406, 1), (407, 1), (408, 1), (409, 3), (410, 2), (411, 7), (412, 1), (413, 6), (414, 2), (415, 2), (416, 2), (417, 2), (418, 2), (419, 2), (420, 2), (421, 4), (422, 1), (423, 1), (424, 2), (425, 1), (426, 1), (427, 1), (428, 1), (429, 1), (430, 1), (431, 1), (432, 8), (433, 3), (434, 1), (435, 3), (436, 1), (437, 1), (438, 2), (439, 1), (440, 2), (441, 1), (442, 1), (443, 1), (444, 4), (445, 1), (446, 2), (447, 1), (448, 2), (449, 3), (450, 1), (451, 1), (452, 1), (453, 4), (454, 1), (455, 1), (456, 1), (457, 1), (458, 2), (459, 4), (460, 1), (461, 1), (462, 1), (463, 8), (464, 1), (465, 2), (466, 1), (467, 1), (468, 1), (469, 1), (470, 1), (471, 1), (472, 1), (473, 1), (474, 1), (475, 1), (476, 2), (477, 2), (478, 3), (479, 1), (480, 1), (481, 1), (482, 3), (483, 1), (484, 1), (485, 1), (486, 4), (487, 3), (488, 4), (489, 1), (490, 1), (491, 2), (492, 1), (493, 1), (494, 1), (495, 1), (496, 1), (497, 1), (498, 2), (499, 3), (500, 1), (501, 1), (502, 1), (503, 6), (504, 5), (505, 1), (506, 1), (507, 1), (508, 1), (509, 1), (510, 4), (511, 1), (512, 4), (513, 1), (514, 2), (515, 1), (516, 4), (517, 1), (518, 1), (519, 16), (520, 4), (521, 1), (522, 1), (523, 1), (524, 1), (525, 1), (526, 2), (527, 1), (528, 7), (529, 5), (530, 2), (531, 1), (532, 1), (533, 8), (534, 1), (535, 1), (536, 1), (537, 1), (538, 1), (539, 2), (540, 2), (541, 2), (542, 1), (543, 1), (544, 4), (545, 1), (546, 5), (547, 11), (548, 1), (549, 3), (550, 2), (551, 25), (552, 1), (553, 1), (554, 1), (555, 1), (556, 1), (557, 1), (558, 1), (559, 1), (560, 1), (561, 1), (562, 1), (563, 1), (564, 1), (565, 1), (566, 1), (567, 1), (568, 6), (569, 1), (570, 1), (571, 1), (572, 1), (573, 1), (574, 16), (575, 1), (576, 1), (577, 3), (578, 1), (579, 1), (580, 1), (581, 1), (582, 4), (583, 1), (584, 1), (585, 1), (586, 1), (587, 1), (588, 1), (589, 1), (590, 4), (591, 2), (592, 1), (593, 3), (594, 1), (595, 5), (596, 9), (597, 2), (598, 2), (599, 1), (600, 1), (601, 4), (602, 1), (603, 1), (604, 1), (605, 4), (606, 1), (607, 1), (608, 1), (609, 2), (610, 3), (611, 2), (612, 1), (613, 1), (614, 1), (615, 1), (616, 1), (617, 1), (618, 1), (619, 1), (620, 3), (621, 6), (622, 1), (623, 1), (624, 1), (625, 5), (626, 1), (627, 1), (628, 1), (629, 4), (630, 2), (631, 3), (632, 1), (633, 2), (634, 5), (635, 1), (636, 1), (637, 5), (638, 1), (639, 5), (640, 1), (641, 9), (642, 1), (643, 1), (644, 2), (645, 1), (646, 3), (647, 1), (648, 7), (649, 1), (650, 1), (651, 2), (652, 1), (653, 1), (654, 1), (655, 1), (656, 1), (657, 1), (658, 1), (659, 1), (660, 1), (661, 1), (662, 1), (663, 7), (664, 1), (665, 6), (666, 2), (667, 1), (668, 1), (669, 2), (670, 4), (671, 1), (672, 1), (673, 1), (674, 1), (675, 3), (676, 1), (677, 5), (678, 2), (679, 1), (680, 1), (681, 4), (682, 1), (683, 1), (684, 1), (685, 1), (686, 4), (687, 1), (688, 1), (689, 1), (690, 2), (691, 1), (692, 1), (693, 2), (694, 4), (695, 2), (696, 2), (697, 2), (698, 12), (699, 1), (700, 1), (701, 1), (702, 9), (703, 2), (704, 2), (705, 4), (706, 1), (707, 1), (708, 1), (709, 5), (710, 10), (711, 1), (712, 4), (713, 5), (714, 1), (715, 1), (716, 1), (717, 1), (718, 2), (719, 2), (720, 3), (721, 1), (722, 1), (723, 3), (724, 1), (725, 1), (726, 3), (727, 1), (728, 1), (729, 1), (730, 9), (731, 7), (732, 3), (733, 1), (734, 2), (735, 1), (736, 1), (737, 1), (738, 1), (739, 1), (740, 3), (741, 3), (742, 2), (743, 16), (744, 1), (745, 1), (746, 1), (747, 2), (748, 1), (749, 1), (750, 1), (751, 1), (752, 1), (753, 1), (754, 5), (755, 1), (756, 1), (757, 1), (758, 10), (759, 1), (760, 1), (761, 1), (762, 1), (763, 1), (764, 1), (765, 6), (766, 1), (767, 2), (768, 1), (769, 3), (770, 1), (771, 1), (772, 1), (773, 3), (774, 1), (775, 2), (776, 1), (777, 2), (778, 1), (779, 1), (780, 1), (781, 1), (782, 1), (783, 9), (784, 4), (785, 3), (786, 4), (787, 1), (788, 1), (789, 1), (790, 1), (791, 1), (792, 1), (793, 1), (794, 2), (795, 1), (796, 1), (797, 1), (798, 1), (799, 1), (800, 4), (801, 1), (802, 1), (803, 1), (804, 1), (805, 21), (806, 12), (807, 5), (808, 1), (809, 1), (810, 1), (811, 6), (812, 2), (813, 4), (814, 38), (815, 1), (816, 2), (817, 3), (818, 4), (819, 12), (820, 1), (821, 2), (822, 2), (823, 1), (824, 1), (825, 1), (826, 1), (827, 5), (828, 2), (829, 1), (830, 2), (831, 3), (832, 1), (833, 2), (834, 2), (835, 3), (836, 1), (837, 3), (838, 1), (839, 3), (840, 1), (841, 3), (842, 1), (843, 2), (844, 1), (845, 2), (846, 1), (847, 9), (848, 1), (849, 1), (850, 1), (851, 1), (852, 1), (853, 3), (854, 1), (855, 1), (856, 1), (857, 1), (858, 1), (859, 1), (860, 1), (861, 1), (862, 2), (863, 2), (864, 1), (865, 1), (866, 1), (867, 1), (868, 1), (869, 2), (870, 4), (871, 5), (872, 1), (873, 2), (874, 7), (875, 1), (876, 1), (877, 1), (878, 1), (879, 2), (880, 1), (881, 3), (882, 1), (883, 1), (884, 2), (885, 1), (886, 35), (887, 1), (888, 4), (889, 2), (890, 1), (891, 1), (892, 2), (893, 1), (894, 9), (895, 2), (896, 2), (897, 1), (898, 1), (899, 1), (900, 1), (901, 1), (902, 4), (903, 1), (904, 3), (905, 1), (906, 1), (907, 1), (908, 1), (909, 1), (910, 1), (911, 4), (912, 1), (913, 1), (914, 9), (915, 13), (916, 1), (917, 1), (918, 6), (919, 1), (920, 1), (921, 1), (922, 2), (923, 3), (924, 4), (925, 1), (926, 1), (927, 3), (928, 6), (929, 1), (930, 1), (931, 2), (932, 1), (933, 1), (934, 1), (935, 1), (936, 5), (937, 7), (938, 1), (939, 2), (940, 1), (941, 1), (942, 1), (943, 1), (944, 4), (945, 2), (946, 1), (947, 1), (948, 5), (949, 10), (950, 1), (951, 1), (952, 4), (953, 1), (954, 1), (955, 2), (956, 5), (957, 1), (958, 3), (959, 5), (960, 1), (961, 1), (962, 2), (963, 7), (964, 3), (965, 4), (966, 2), (967, 1), (968, 1), (969, 1), (970, 1), (971, 1), (972, 2), (973, 2), (974, 3), (975, 1), (976, 1), (977, 18), (978, 2), (979, 6), (980, 1), (981, 1), (982, 4), (983, 1), (984, 2), (985, 4), (986, 1), (987, 2), (988, 1), (989, 2), (990, 2), (991, 2), (992, 1), (993, 1), (994, 1), (995, 1), (996, 1), (997, 2), (998, 2), (999, 1), (1000, 2), (1001, 1), (1002, 6), (1003, 1), (1004, 1), (1005, 2), (1006, 3), (1007, 1), (1008, 1), (1009, 1), (1010, 1), (1011, 1), (1012, 1), (1013, 1), (1014, 2), (1015, 1), (1016, 4), (1017, 5), (1018, 1), (1019, 1), (1020, 1), (1021, 1), (1022, 1), (1023, 1), (1024, 1), (1025, 1), (1026, 1), (1027, 2), (1028, 1), (1029, 2), (1030, 1), (1031, 1), (1032, 2), (1033, 1), (1034, 1), (1035, 1), (1036, 2), (1037, 1), (1038, 2), (1039, 1), (1040, 6), (1041, 1), (1042, 1), (1043, 1), (1044, 1), (1045, 2), (1046, 1), (1047, 14), (1048, 4), (1049, 1), (1050, 1), (1051, 1), (1052, 1), (1053, 2), (1054, 2), (1055, 2), (1056, 2), (1057, 2), (1058, 1), (1059, 2), (1060, 3), (1061, 2), (1062, 2), (1063, 2), (1064, 2), (1065, 2), (1066, 1), (1067, 3), (1068, 2), (1069, 1), (1070, 9), (1071, 1), (1072, 1), (1073, 1), (1074, 11), (1075, 1), (1076, 1), (1077, 2), (1078, 8), (1079, 1), (1080, 3), (1081, 1), (1082, 2), (1083, 2), (1084, 3), (1085, 1), (1086, 4), (1087, 3), (1088, 2), (1089, 1), (1090, 1), (1091, 3), (1092, 1), (1093, 11), (1094, 1), (1095, 4), (1096, 3), (1097, 3), (1098, 1), (1099, 2), (1100, 6), (1101, 2), (1102, 1), (1103, 1), (1104, 2), (1105, 2), (1106, 5), (1107, 14), (1108, 5), (1109, 1), (1110, 2), (1111, 1), (1112, 2), (1113, 1), (1114, 2), (1115, 1), (1116, 2), (1117, 2), (1118, 1), (1119, 1), (1120, 2), (1121, 2), (1122, 2), (1123, 1), (1124, 1), (1125, 1), (1126, 1), (1127, 1), (1128, 8), (1129, 1), (1130, 1), (1131, 1), (1132, 1), (1133, 1), (1134, 1), (1135, 5), (1136, 1), (1137, 1), (1138, 2), (1139, 1), (1140, 1), (1141, 5), (1142, 7), (1143, 3), (1144, 1), (1145, 1), (1146, 1), (1147, 2), (1148, 1), (1149, 1), (1150, 1), (1151, 1), (1152, 1), (1153, 1), (1154, 1), (1155, 4), (1156, 2), (1157, 2), (1158, 1), (1159, 1), (1160, 1), (1161, 1), (1162, 2), (1163, 2), (1164, 1), (1165, 1), (1166, 2), (1167, 2), (1168, 1), (1169, 12), (1170, 1), (1171, 1), (1172, 2), (1173, 1), (1174, 1), (1175, 2), (1176, 5), (1177, 1), (1178, 5), (1179, 1), (1180, 1), (1181, 1), (1182, 3), (1183, 4), (1184, 2), (1185, 2), (1186, 2), (1187, 1), (1188, 3), (1189, 1), (1190, 3), (1191, 2), (1192, 1), (1193, 1), (1194, 1), (1195, 1), (1196, 1), (1197, 1), (1198, 1), (1199, 1), (1200, 2), (1201, 8), (1202, 1), (1203, 1), (1204, 1), (1205, 13), (1206, 1), (1207, 1), (1208, 3), (1209, 2), (1210, 3), (1211, 2), (1212, 1), (1213, 1), (1214, 1), (1215, 1), (1216, 1), (1217, 1), (1218, 1), (1219, 1), (1220, 2), (1221, 1), (1222, 1), (1223, 1), (1224, 1), (1225, 1), (1226, 1), (1227, 1), (1228, 2), (1229, 1), (1230, 1), (1231, 1), (1232, 4), (1233, 1), (1234, 2), (1235, 2), (1236, 1), (1237, 1), (1238, 1), (1239, 1), (1240, 7), (1241, 2), (1242, 3), (1243, 1), (1244, 7), (1245, 1), (1246, 3), (1247, 1), (1248, 6), (1249, 7), (1250, 5), (1251, 1), (1252, 2), (1253, 2), (1254, 1), (1255, 1), (1256, 1), (1257, 1), (1258, 2), (1259, 3), (1260, 1), (1261, 1), (1262, 1), (1263, 1), (1264, 1), (1265, 1), (1266, 1), (1267, 1), (1268, 1), (1269, 4), (1270, 1), (1271, 1), (1272, 1), (1273, 1), (1274, 1), (1275, 1), (1276, 1), (1277, 1), (1278, 1), (1279, 1), (1280, 1), (1281, 1), (1282, 8), (1283, 1), (1284, 1), (1285, 1), (1286, 1), (1287, 1), (1288, 1), (1289, 2), (1290, 1), (1291, 1), (1292, 1), (1293, 2), (1294, 1), (1295, 1), (1296, 1), (1297, 1), (1298, 1), (1299, 1), (1300, 1), (1301, 1), (1302, 1), (1303, 6), (1304, 1), (1305, 12), (1306, 9), (1307, 1), (1308, 6), (1309, 2), (1310, 3), (1311, 8), (1312, 1), (1313, 2), (1314, 1), (1315, 1), (1316, 1), (1317, 1), (1318, 1), (1319, 1), (1320, 1), (1321, 4), (1322, 8), (1323, 8), (1324, 5), (1325, 1), (1326, 1), (1327, 1), (1328, 7), (1329, 3), (1330, 20), (1331, 1), (1332, 1), (1333, 1), (1334, 1)]]\n"
     ]
    }
   ],
   "source": [
    "# Create Dictionary\n",
    "id2word = corpora.Dictionary(data_lemmatized)\n",
    "\n",
    "# Create Corpus\n",
    "texts = data_lemmatized\n",
    "\n",
    "# Term Document Frequency\n",
    "corpus = [id2word.doc2bow(text) for text in texts]\n",
    "\n",
    "\n",
    "# View\n",
    "print(corpus[:1])"
   ]
  },
  {
   "cell_type": "code",
   "execution_count": 224,
   "metadata": {},
   "outputs": [],
   "source": [
    "# LDA model\n",
    "\n",
    "lda_model = gensim.models.ldamodel.LdaModel(corpus=corpus, id2word=id2word, alpha='auto', num_topics=20, random_state=100,\n",
    "                                           update_every=1, passes=20, per_word_topics=True)"
   ]
  },
  {
   "cell_type": "code",
   "execution_count": 225,
   "metadata": {},
   "outputs": [
    {
     "name": "stdout",
     "output_type": "stream",
     "text": [
      "[(0, '0.001*\"people\" + 0.001*\"need\" + 0.001*\"economy\" + 0.001*\"namibian\" + 0.001*\"government\" + 0.001*\"make\" + 0.001*\"country\" + 0.001*\"youth\" + 0.001*\"education\" + 0.001*\"citizen\"'), (1, '0.001*\"need\" + 0.001*\"people\" + 0.001*\"economy\" + 0.001*\"namibian\" + 0.001*\"youth\" + 0.001*\"government\" + 0.001*\"country\" + 0.001*\"free\" + 0.001*\"education\" + 0.001*\"citizen\"'), (2, '0.001*\"people\" + 0.001*\"need\" + 0.001*\"namibian\" + 0.001*\"benefit\" + 0.001*\"youth\" + 0.001*\"government\" + 0.001*\"economy\" + 0.001*\"country\" + 0.001*\"provide\" + 0.001*\"citizen\"'), (3, '0.001*\"people\" + 0.001*\"need\" + 0.001*\"government\" + 0.001*\"provide\" + 0.001*\"service\" + 0.001*\"namibian\" + 0.001*\"citizen\" + 0.001*\"make\" + 0.001*\"youth\" + 0.001*\"country\"'), (4, '0.013*\"need\" + 0.012*\"people\" + 0.008*\"government\" + 0.007*\"economy\" + 0.007*\"namibian\" + 0.007*\"youth\" + 0.006*\"citizen\" + 0.006*\"provide\" + 0.005*\"free\" + 0.005*\"health\"'), (5, '0.001*\"need\" + 0.001*\"people\" + 0.001*\"government\" + 0.001*\"economy\" + 0.001*\"namibian\" + 0.001*\"provide\" + 0.001*\"citizen\" + 0.001*\"youth\" + 0.001*\"free\" + 0.001*\"benefit\"'), (6, '0.001*\"people\" + 0.001*\"need\" + 0.001*\"youth\" + 0.001*\"namibian\" + 0.001*\"government\" + 0.001*\"citizen\" + 0.001*\"business\" + 0.001*\"economy\" + 0.001*\"health\" + 0.001*\"make\"'), (7, '0.001*\"need\" + 0.001*\"people\" + 0.001*\"economy\" + 0.001*\"namibian\" + 0.001*\"government\" + 0.001*\"youth\" + 0.001*\"health\" + 0.001*\"provide\" + 0.001*\"free\" + 0.001*\"citizen\"'), (8, '0.001*\"need\" + 0.001*\"people\" + 0.001*\"government\" + 0.001*\"health\" + 0.001*\"provide\" + 0.001*\"namibian\" + 0.001*\"benefit\" + 0.001*\"youth\" + 0.001*\"citizen\" + 0.001*\"make\"'), (9, '0.001*\"need\" + 0.001*\"economy\" + 0.001*\"people\" + 0.001*\"government\" + 0.001*\"namibian\" + 0.001*\"youth\" + 0.001*\"provide\" + 0.001*\"make\" + 0.001*\"citizen\" + 0.001*\"benefit\"'), (10, '0.001*\"need\" + 0.001*\"people\" + 0.001*\"government\" + 0.001*\"education\" + 0.001*\"economy\" + 0.001*\"citizen\" + 0.001*\"youth\" + 0.001*\"country\" + 0.001*\"namibian\" + 0.001*\"provide\"'), (11, '0.001*\"need\" + 0.001*\"people\" + 0.001*\"government\" + 0.001*\"youth\" + 0.001*\"education\" + 0.001*\"namibian\" + 0.001*\"economy\" + 0.001*\"country\" + 0.001*\"provide\" + 0.001*\"resource\"'), (12, '0.001*\"need\" + 0.001*\"people\" + 0.001*\"government\" + 0.001*\"citizen\" + 0.001*\"provide\" + 0.001*\"health\" + 0.001*\"economy\" + 0.001*\"youth\" + 0.001*\"country\" + 0.001*\"namibian\"'), (13, '0.001*\"need\" + 0.001*\"people\" + 0.001*\"government\" + 0.001*\"citizen\" + 0.001*\"health\" + 0.001*\"economy\" + 0.001*\"provide\" + 0.001*\"namibian\" + 0.001*\"youth\" + 0.001*\"free\"'), (14, '0.001*\"need\" + 0.001*\"people\" + 0.001*\"youth\" + 0.001*\"economy\" + 0.001*\"government\" + 0.001*\"provide\" + 0.001*\"citizen\" + 0.001*\"benefit\" + 0.001*\"namibian\" + 0.001*\"make\"'), (15, '0.001*\"people\" + 0.001*\"need\" + 0.001*\"namibian\" + 0.001*\"citizen\" + 0.001*\"country\" + 0.001*\"youth\" + 0.001*\"economy\" + 0.001*\"government\" + 0.001*\"provide\" + 0.001*\"benefit\"'), (16, '0.001*\"people\" + 0.001*\"economy\" + 0.001*\"need\" + 0.001*\"youth\" + 0.001*\"government\" + 0.001*\"citizen\" + 0.001*\"free\" + 0.001*\"make\" + 0.001*\"health\" + 0.001*\"system\"'), (17, '0.001*\"need\" + 0.001*\"people\" + 0.001*\"government\" + 0.001*\"economy\" + 0.001*\"provide\" + 0.001*\"namibian\" + 0.001*\"make\" + 0.001*\"youth\" + 0.001*\"political\" + 0.001*\"free\"'), (18, '0.001*\"need\" + 0.001*\"people\" + 0.001*\"government\" + 0.001*\"namibian\" + 0.001*\"make\" + 0.001*\"economy\" + 0.001*\"citizen\" + 0.001*\"free\" + 0.001*\"health\" + 0.001*\"land\"'), (19, '0.001*\"people\" + 0.001*\"need\" + 0.001*\"government\" + 0.001*\"namibian\" + 0.001*\"provide\" + 0.001*\"education\" + 0.001*\"youth\" + 0.001*\"economy\" + 0.001*\"benefit\" + 0.001*\"health\"')]\n"
     ]
    }
   ],
   "source": [
    "# Lets view the topics in our model\n",
    "print(lda_model.print_topics())\n",
    "doc_lda  = lda_model[corpus]"
   ]
  },
  {
   "cell_type": "code",
   "execution_count": 226,
   "metadata": {},
   "outputs": [
    {
     "name": "stdout",
     "output_type": "stream",
     "text": [
      "\n",
      "Perplexity: -7.881730234045289\n",
      "Coherence Score: 0.26638538414874474\n"
     ]
    }
   ],
   "source": [
    "print('\\nPerplexity:', lda_model.log_perplexity(corpus))\n",
    "\n",
    "\n",
    "# Coherence Score\n",
    "\n",
    "coherence_model_lda = CoherenceModel(lda_model, texts=data_lemmatized, dictionary=id2word, coherence='c_v')\n",
    "coherence_lda = coherence_model_lda.get_coherence()\n",
    "print('Coherence Score:', coherence_lda)"
   ]
  },
  {
   "cell_type": "code",
   "execution_count": 228,
   "metadata": {},
   "outputs": [],
   "source": [
    "pyLDAvis.enable_notebook()\n",
    "vis_topics = pyLDAvis.gensim.prepare(lda_model, corpus, id2word)"
   ]
  },
  {
   "cell_type": "markdown",
   "metadata": {},
   "source": [
    "# Autogluon"
   ]
  },
  {
   "cell_type": "code",
   "execution_count": 230,
   "metadata": {},
   "outputs": [
    {
     "ename": "ModuleNotFoundError",
     "evalue": "No module named 'autogluon'",
     "output_type": "error",
     "traceback": [
      "\u001b[1;31m---------------------------------------------------------------------------\u001b[0m",
      "\u001b[1;31mModuleNotFoundError\u001b[0m                       Traceback (most recent call last)",
      "\u001b[1;32m<ipython-input-230-abcfbdba9294>\u001b[0m in \u001b[0;36m<module>\u001b[1;34m\u001b[0m\n\u001b[1;32m----> 1\u001b[1;33m \u001b[1;32mimport\u001b[0m \u001b[0mautogluon\u001b[0m \u001b[1;32mas\u001b[0m \u001b[0mag\u001b[0m\u001b[1;33m\u001b[0m\u001b[1;33m\u001b[0m\u001b[0m\n\u001b[0m\u001b[0;32m      2\u001b[0m \u001b[1;32mfrom\u001b[0m \u001b[0mautogluon\u001b[0m \u001b[1;32mimport\u001b[0m \u001b[0mTabularPrediction\u001b[0m \u001b[1;32mas\u001b[0m \u001b[0mtask\u001b[0m\u001b[1;33m\u001b[0m\u001b[1;33m\u001b[0m\u001b[0m\n",
      "\u001b[1;31mModuleNotFoundError\u001b[0m: No module named 'autogluon'"
     ]
    }
   ],
   "source": [
    "import autogluon as ag\n",
    "from autogluon import TabularPrediction as task"
   ]
  },
  {
   "cell_type": "code",
   "execution_count": null,
   "metadata": {},
   "outputs": [],
   "source": []
  }
 ],
 "metadata": {
  "kernelspec": {
   "display_name": "Python 3",
   "language": "python",
   "name": "python3"
  },
  "language_info": {
   "codemirror_mode": {
    "name": "ipython",
    "version": 3
   },
   "file_extension": ".py",
   "mimetype": "text/x-python",
   "name": "python",
   "nbconvert_exporter": "python",
   "pygments_lexer": "ipython3",
   "version": "3.7.6"
  }
 },
 "nbformat": 4,
 "nbformat_minor": 4
}
