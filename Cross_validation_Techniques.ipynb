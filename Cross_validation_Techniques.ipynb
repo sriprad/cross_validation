{
 "cells": [
  {
   "cell_type": "code",
   "execution_count": null,
   "metadata": {},
   "outputs": [],
   "source": []
  },
  {
   "cell_type": "code",
   "execution_count": 1,
   "metadata": {},
   "outputs": [],
   "source": [
    "#grid search\n",
    "import pandas as pd\n",
    "import numpy as np\n",
    "from sklearn import ensemble\n",
    "from sklearn import metrics\n",
    "from sklearn import model_selection"
   ]
  },
  {
   "cell_type": "code",
   "execution_count": 2,
   "metadata": {},
   "outputs": [],
   "source": [
    "if __name__== \"__main__\":\n",
    "     df = pd.read_csv(\"C:/Users/P.SridharanSrinivas/Desktop/sai_pycaret/New_try/cross_validation/train.csv\")"
   ]
  },
  {
   "cell_type": "code",
   "execution_count": 3,
   "metadata": {},
   "outputs": [],
   "source": [
    "X = df.drop(\"price_range\",axis=1).values\n",
    "y = df.price_range.values"
   ]
  },
  {
   "cell_type": "markdown",
   "metadata": {},
   "source": [
    "# Grid SearchCV\n",
    "https://www.youtube.com/watch?v=5nYqK-HaoKY"
   ]
  },
  {
   "cell_type": "code",
   "execution_count": 7,
   "metadata": {},
   "outputs": [
    {
     "name": "stdout",
     "output_type": "stream",
     "text": [
      "Fitting 5 folds for each of 32 candidates, totalling 160 fits\n",
      "[CV] criterion=gini, max_depth=1, n_estimators=100 ...................\n"
     ]
    },
    {
     "name": "stderr",
     "output_type": "stream",
     "text": [
      "[Parallel(n_jobs=1)]: Using backend SequentialBackend with 1 concurrent workers.\n"
     ]
    },
    {
     "name": "stdout",
     "output_type": "stream",
     "text": [
      "[CV]  criterion=gini, max_depth=1, n_estimators=100, score=0.610, total=  10.4s\n",
      "[CV] criterion=gini, max_depth=1, n_estimators=100 ...................\n"
     ]
    },
    {
     "name": "stderr",
     "output_type": "stream",
     "text": [
      "[Parallel(n_jobs=1)]: Done   1 out of   1 | elapsed:   10.3s remaining:    0.0s\n"
     ]
    },
    {
     "name": "stdout",
     "output_type": "stream",
     "text": [
      "[CV]  criterion=gini, max_depth=1, n_estimators=100, score=0.627, total=   0.3s\n",
      "[CV] criterion=gini, max_depth=1, n_estimators=100 ...................\n"
     ]
    },
    {
     "name": "stderr",
     "output_type": "stream",
     "text": [
      "[Parallel(n_jobs=1)]: Done   2 out of   2 | elapsed:   10.6s remaining:    0.0s\n"
     ]
    },
    {
     "name": "stdout",
     "output_type": "stream",
     "text": [
      "[CV]  criterion=gini, max_depth=1, n_estimators=100, score=0.623, total=   0.3s\n",
      "[CV] criterion=gini, max_depth=1, n_estimators=100 ...................\n"
     ]
    },
    {
     "name": "stderr",
     "output_type": "stream",
     "text": [
      "[Parallel(n_jobs=1)]: Done   3 out of   3 | elapsed:   10.9s remaining:    0.0s\n"
     ]
    },
    {
     "name": "stdout",
     "output_type": "stream",
     "text": [
      "[CV]  criterion=gini, max_depth=1, n_estimators=100, score=0.568, total=   0.3s\n",
      "[CV] criterion=gini, max_depth=1, n_estimators=100 ...................\n"
     ]
    },
    {
     "name": "stderr",
     "output_type": "stream",
     "text": [
      "[Parallel(n_jobs=1)]: Done   4 out of   4 | elapsed:   11.2s remaining:    0.0s\n"
     ]
    },
    {
     "name": "stdout",
     "output_type": "stream",
     "text": [
      "[CV]  criterion=gini, max_depth=1, n_estimators=100, score=0.610, total=   0.3s\n",
      "[CV] criterion=gini, max_depth=1, n_estimators=200 ...................\n"
     ]
    },
    {
     "name": "stderr",
     "output_type": "stream",
     "text": [
      "[Parallel(n_jobs=1)]: Done   5 out of   5 | elapsed:   11.5s remaining:    0.0s\n"
     ]
    },
    {
     "name": "stdout",
     "output_type": "stream",
     "text": [
      "[CV]  criterion=gini, max_depth=1, n_estimators=200, score=0.578, total=   0.4s\n",
      "[CV] criterion=gini, max_depth=1, n_estimators=200 ...................\n"
     ]
    },
    {
     "name": "stderr",
     "output_type": "stream",
     "text": [
      "[Parallel(n_jobs=1)]: Done   6 out of   6 | elapsed:   11.9s remaining:    0.0s\n"
     ]
    },
    {
     "name": "stdout",
     "output_type": "stream",
     "text": [
      "[CV]  criterion=gini, max_depth=1, n_estimators=200, score=0.645, total=   0.4s\n",
      "[CV] criterion=gini, max_depth=1, n_estimators=200 ...................\n"
     ]
    },
    {
     "name": "stderr",
     "output_type": "stream",
     "text": [
      "[Parallel(n_jobs=1)]: Done   7 out of   7 | elapsed:   12.3s remaining:    0.0s\n"
     ]
    },
    {
     "name": "stdout",
     "output_type": "stream",
     "text": [
      "[CV]  criterion=gini, max_depth=1, n_estimators=200, score=0.615, total=   0.4s\n",
      "[CV] criterion=gini, max_depth=1, n_estimators=200 ...................\n"
     ]
    },
    {
     "name": "stderr",
     "output_type": "stream",
     "text": [
      "[Parallel(n_jobs=1)]: Done   8 out of   8 | elapsed:   12.7s remaining:    0.0s\n"
     ]
    },
    {
     "name": "stdout",
     "output_type": "stream",
     "text": [
      "[CV]  criterion=gini, max_depth=1, n_estimators=200, score=0.560, total=   0.5s\n",
      "[CV] criterion=gini, max_depth=1, n_estimators=200 ...................\n"
     ]
    },
    {
     "name": "stderr",
     "output_type": "stream",
     "text": [
      "[Parallel(n_jobs=1)]: Done   9 out of   9 | elapsed:   13.1s remaining:    0.0s\n"
     ]
    },
    {
     "name": "stdout",
     "output_type": "stream",
     "text": [
      "[CV]  criterion=gini, max_depth=1, n_estimators=200, score=0.573, total=   0.4s\n",
      "[CV] criterion=gini, max_depth=1, n_estimators=300 ...................\n",
      "[CV]  criterion=gini, max_depth=1, n_estimators=300, score=0.610, total=   0.6s\n",
      "[CV] criterion=gini, max_depth=1, n_estimators=300 ...................\n",
      "[CV]  criterion=gini, max_depth=1, n_estimators=300, score=0.583, total=   0.5s\n",
      "[CV] criterion=gini, max_depth=1, n_estimators=300 ...................\n",
      "[CV]  criterion=gini, max_depth=1, n_estimators=300, score=0.610, total=   0.5s\n",
      "[CV] criterion=gini, max_depth=1, n_estimators=300 ...................\n",
      "[CV]  criterion=gini, max_depth=1, n_estimators=300, score=0.578, total=   0.5s\n",
      "[CV] criterion=gini, max_depth=1, n_estimators=300 ...................\n",
      "[CV]  criterion=gini, max_depth=1, n_estimators=300, score=0.560, total=   0.5s\n",
      "[CV] criterion=gini, max_depth=1, n_estimators=400 ...................\n",
      "[CV]  criterion=gini, max_depth=1, n_estimators=400, score=0.585, total=   0.6s\n",
      "[CV] criterion=gini, max_depth=1, n_estimators=400 ...................\n",
      "[CV]  criterion=gini, max_depth=1, n_estimators=400, score=0.605, total=   0.6s\n",
      "[CV] criterion=gini, max_depth=1, n_estimators=400 ...................\n",
      "[CV]  criterion=gini, max_depth=1, n_estimators=400, score=0.625, total=   0.6s\n",
      "[CV] criterion=gini, max_depth=1, n_estimators=400 ...................\n",
      "[CV]  criterion=gini, max_depth=1, n_estimators=400, score=0.557, total=   0.6s\n",
      "[CV] criterion=gini, max_depth=1, n_estimators=400 ...................\n",
      "[CV]  criterion=gini, max_depth=1, n_estimators=400, score=0.590, total=   0.7s\n",
      "[CV] criterion=gini, max_depth=3, n_estimators=100 ...................\n",
      "[CV]  criterion=gini, max_depth=3, n_estimators=100, score=0.777, total=   0.3s\n",
      "[CV] criterion=gini, max_depth=3, n_estimators=100 ...................\n",
      "[CV]  criterion=gini, max_depth=3, n_estimators=100, score=0.812, total=   0.3s\n",
      "[CV] criterion=gini, max_depth=3, n_estimators=100 ...................\n",
      "[CV]  criterion=gini, max_depth=3, n_estimators=100, score=0.750, total=   0.3s\n",
      "[CV] criterion=gini, max_depth=3, n_estimators=100 ...................\n",
      "[CV]  criterion=gini, max_depth=3, n_estimators=100, score=0.810, total=   0.3s\n",
      "[CV] criterion=gini, max_depth=3, n_estimators=100 ...................\n",
      "[CV]  criterion=gini, max_depth=3, n_estimators=100, score=0.792, total=   0.3s\n",
      "[CV] criterion=gini, max_depth=3, n_estimators=200 ...................\n",
      "[CV]  criterion=gini, max_depth=3, n_estimators=200, score=0.792, total=   0.4s\n",
      "[CV] criterion=gini, max_depth=3, n_estimators=200 ...................\n",
      "[CV]  criterion=gini, max_depth=3, n_estimators=200, score=0.800, total=   0.4s\n",
      "[CV] criterion=gini, max_depth=3, n_estimators=200 ...................\n",
      "[CV]  criterion=gini, max_depth=3, n_estimators=200, score=0.812, total=   0.4s\n",
      "[CV] criterion=gini, max_depth=3, n_estimators=200 ...................\n",
      "[CV]  criterion=gini, max_depth=3, n_estimators=200, score=0.800, total=   0.4s\n",
      "[CV] criterion=gini, max_depth=3, n_estimators=200 ...................\n",
      "[CV]  criterion=gini, max_depth=3, n_estimators=200, score=0.782, total=   0.4s\n",
      "[CV] criterion=gini, max_depth=3, n_estimators=300 ...................\n",
      "[CV]  criterion=gini, max_depth=3, n_estimators=300, score=0.790, total=   0.5s\n",
      "[CV] criterion=gini, max_depth=3, n_estimators=300 ...................\n",
      "[CV]  criterion=gini, max_depth=3, n_estimators=300, score=0.792, total=   0.6s\n",
      "[CV] criterion=gini, max_depth=3, n_estimators=300 ...................\n",
      "[CV]  criterion=gini, max_depth=3, n_estimators=300, score=0.807, total=   0.7s\n",
      "[CV] criterion=gini, max_depth=3, n_estimators=300 ...................\n",
      "[CV]  criterion=gini, max_depth=3, n_estimators=300, score=0.792, total=   0.5s\n",
      "[CV] criterion=gini, max_depth=3, n_estimators=300 ...................\n",
      "[CV]  criterion=gini, max_depth=3, n_estimators=300, score=0.807, total=   0.5s\n",
      "[CV] criterion=gini, max_depth=3, n_estimators=400 ...................\n",
      "[CV]  criterion=gini, max_depth=3, n_estimators=400, score=0.777, total=   0.6s\n",
      "[CV] criterion=gini, max_depth=3, n_estimators=400 ...................\n",
      "[CV]  criterion=gini, max_depth=3, n_estimators=400, score=0.795, total=   0.6s\n",
      "[CV] criterion=gini, max_depth=3, n_estimators=400 ...................\n",
      "[CV]  criterion=gini, max_depth=3, n_estimators=400, score=0.835, total=   0.6s\n",
      "[CV] criterion=gini, max_depth=3, n_estimators=400 ...................\n",
      "[CV]  criterion=gini, max_depth=3, n_estimators=400, score=0.810, total=   0.6s\n",
      "[CV] criterion=gini, max_depth=3, n_estimators=400 ...................\n",
      "[CV]  criterion=gini, max_depth=3, n_estimators=400, score=0.800, total=   0.7s\n",
      "[CV] criterion=gini, max_depth=5, n_estimators=100 ...................\n",
      "[CV]  criterion=gini, max_depth=5, n_estimators=100, score=0.823, total=   0.3s\n",
      "[CV] criterion=gini, max_depth=5, n_estimators=100 ...................\n",
      "[CV]  criterion=gini, max_depth=5, n_estimators=100, score=0.855, total=   0.3s\n",
      "[CV] criterion=gini, max_depth=5, n_estimators=100 ...................\n",
      "[CV]  criterion=gini, max_depth=5, n_estimators=100, score=0.875, total=   0.3s\n",
      "[CV] criterion=gini, max_depth=5, n_estimators=100 ...................\n",
      "[CV]  criterion=gini, max_depth=5, n_estimators=100, score=0.855, total=   0.3s\n",
      "[CV] criterion=gini, max_depth=5, n_estimators=100 ...................\n",
      "[CV]  criterion=gini, max_depth=5, n_estimators=100, score=0.805, total=   0.3s\n",
      "[CV] criterion=gini, max_depth=5, n_estimators=200 ...................\n",
      "[CV]  criterion=gini, max_depth=5, n_estimators=200, score=0.823, total=   0.4s\n",
      "[CV] criterion=gini, max_depth=5, n_estimators=200 ...................\n",
      "[CV]  criterion=gini, max_depth=5, n_estimators=200, score=0.843, total=   0.4s\n",
      "[CV] criterion=gini, max_depth=5, n_estimators=200 ...................\n",
      "[CV]  criterion=gini, max_depth=5, n_estimators=200, score=0.848, total=   0.4s\n",
      "[CV] criterion=gini, max_depth=5, n_estimators=200 ...................\n",
      "[CV]  criterion=gini, max_depth=5, n_estimators=200, score=0.850, total=   0.4s\n",
      "[CV] criterion=gini, max_depth=5, n_estimators=200 ...................\n",
      "[CV]  criterion=gini, max_depth=5, n_estimators=200, score=0.823, total=   0.4s\n",
      "[CV] criterion=gini, max_depth=5, n_estimators=300 ...................\n",
      "[CV]  criterion=gini, max_depth=5, n_estimators=300, score=0.838, total=   0.5s\n",
      "[CV] criterion=gini, max_depth=5, n_estimators=300 ...................\n",
      "[CV]  criterion=gini, max_depth=5, n_estimators=300, score=0.850, total=   0.5s\n",
      "[CV] criterion=gini, max_depth=5, n_estimators=300 ...................\n",
      "[CV]  criterion=gini, max_depth=5, n_estimators=300, score=0.848, total=   0.5s\n",
      "[CV] criterion=gini, max_depth=5, n_estimators=300 ...................\n",
      "[CV]  criterion=gini, max_depth=5, n_estimators=300, score=0.843, total=   0.6s\n",
      "[CV] criterion=gini, max_depth=5, n_estimators=300 ...................\n",
      "[CV]  criterion=gini, max_depth=5, n_estimators=300, score=0.830, total=   0.6s\n",
      "[CV] criterion=gini, max_depth=5, n_estimators=400 ...................\n",
      "[CV]  criterion=gini, max_depth=5, n_estimators=400, score=0.835, total=   0.6s\n",
      "[CV] criterion=gini, max_depth=5, n_estimators=400 ...................\n",
      "[CV]  criterion=gini, max_depth=5, n_estimators=400, score=0.835, total=   0.6s\n",
      "[CV] criterion=gini, max_depth=5, n_estimators=400 ...................\n",
      "[CV]  criterion=gini, max_depth=5, n_estimators=400, score=0.868, total=   0.6s\n",
      "[CV] criterion=gini, max_depth=5, n_estimators=400 ...................\n",
      "[CV]  criterion=gini, max_depth=5, n_estimators=400, score=0.835, total=   0.7s\n",
      "[CV] criterion=gini, max_depth=5, n_estimators=400 ...................\n",
      "[CV]  criterion=gini, max_depth=5, n_estimators=400, score=0.818, total=   0.7s\n",
      "[CV] criterion=gini, max_depth=7, n_estimators=100 ...................\n",
      "[CV]  criterion=gini, max_depth=7, n_estimators=100, score=0.865, total=   0.3s\n",
      "[CV] criterion=gini, max_depth=7, n_estimators=100 ...................\n",
      "[CV]  criterion=gini, max_depth=7, n_estimators=100, score=0.858, total=   0.3s\n",
      "[CV] criterion=gini, max_depth=7, n_estimators=100 ...................\n",
      "[CV]  criterion=gini, max_depth=7, n_estimators=100, score=0.880, total=   0.3s\n",
      "[CV] criterion=gini, max_depth=7, n_estimators=100 ...................\n",
      "[CV]  criterion=gini, max_depth=7, n_estimators=100, score=0.870, total=   0.4s\n",
      "[CV] criterion=gini, max_depth=7, n_estimators=100 ...................\n",
      "[CV]  criterion=gini, max_depth=7, n_estimators=100, score=0.835, total=   0.4s\n",
      "[CV] criterion=gini, max_depth=7, n_estimators=200 ...................\n",
      "[CV]  criterion=gini, max_depth=7, n_estimators=200, score=0.865, total=   0.5s\n",
      "[CV] criterion=gini, max_depth=7, n_estimators=200 ...................\n",
      "[CV]  criterion=gini, max_depth=7, n_estimators=200, score=0.858, total=   0.4s\n",
      "[CV] criterion=gini, max_depth=7, n_estimators=200 ...................\n",
      "[CV]  criterion=gini, max_depth=7, n_estimators=200, score=0.892, total=   0.4s\n",
      "[CV] criterion=gini, max_depth=7, n_estimators=200 ...................\n",
      "[CV]  criterion=gini, max_depth=7, n_estimators=200, score=0.863, total=   0.4s\n",
      "[CV] criterion=gini, max_depth=7, n_estimators=200 ...................\n",
      "[CV]  criterion=gini, max_depth=7, n_estimators=200, score=0.848, total=   0.4s\n",
      "[CV] criterion=gini, max_depth=7, n_estimators=300 ...................\n",
      "[CV]  criterion=gini, max_depth=7, n_estimators=300, score=0.873, total=   0.5s\n",
      "[CV] criterion=gini, max_depth=7, n_estimators=300 ...................\n",
      "[CV]  criterion=gini, max_depth=7, n_estimators=300, score=0.865, total=   0.5s\n",
      "[CV] criterion=gini, max_depth=7, n_estimators=300 ...................\n",
      "[CV]  criterion=gini, max_depth=7, n_estimators=300, score=0.895, total=   0.6s\n",
      "[CV] criterion=gini, max_depth=7, n_estimators=300 ...................\n",
      "[CV]  criterion=gini, max_depth=7, n_estimators=300, score=0.865, total=   0.6s\n",
      "[CV] criterion=gini, max_depth=7, n_estimators=300 ...................\n",
      "[CV]  criterion=gini, max_depth=7, n_estimators=300, score=0.843, total=   0.6s\n",
      "[CV] criterion=gini, max_depth=7, n_estimators=400 ...................\n",
      "[CV]  criterion=gini, max_depth=7, n_estimators=400, score=0.863, total=   0.7s\n",
      "[CV] criterion=gini, max_depth=7, n_estimators=400 ...................\n",
      "[CV]  criterion=gini, max_depth=7, n_estimators=400, score=0.860, total=   0.6s\n",
      "[CV] criterion=gini, max_depth=7, n_estimators=400 ...................\n",
      "[CV]  criterion=gini, max_depth=7, n_estimators=400, score=0.873, total=   0.6s\n",
      "[CV] criterion=gini, max_depth=7, n_estimators=400 ...................\n",
      "[CV]  criterion=gini, max_depth=7, n_estimators=400, score=0.855, total=   0.7s\n",
      "[CV] criterion=gini, max_depth=7, n_estimators=400 ...................\n",
      "[CV]  criterion=gini, max_depth=7, n_estimators=400, score=0.838, total=   0.6s\n",
      "[CV] criterion=entropy, max_depth=1, n_estimators=100 ................\n",
      "[CV]  criterion=entropy, max_depth=1, n_estimators=100, score=0.573, total=   0.4s\n",
      "[CV] criterion=entropy, max_depth=1, n_estimators=100 ................\n",
      "[CV]  criterion=entropy, max_depth=1, n_estimators=100, score=0.560, total=   0.3s\n",
      "[CV] criterion=entropy, max_depth=1, n_estimators=100 ................\n",
      "[CV]  criterion=entropy, max_depth=1, n_estimators=100, score=0.535, total=   0.3s\n",
      "[CV] criterion=entropy, max_depth=1, n_estimators=100 ................\n",
      "[CV]  criterion=entropy, max_depth=1, n_estimators=100, score=0.537, total=   0.3s\n",
      "[CV] criterion=entropy, max_depth=1, n_estimators=100 ................\n",
      "[CV]  criterion=entropy, max_depth=1, n_estimators=100, score=0.535, total=   0.3s\n",
      "[CV] criterion=entropy, max_depth=1, n_estimators=200 ................\n",
      "[CV]  criterion=entropy, max_depth=1, n_estimators=200, score=0.578, total=   0.4s\n",
      "[CV] criterion=entropy, max_depth=1, n_estimators=200 ................\n",
      "[CV]  criterion=entropy, max_depth=1, n_estimators=200, score=0.555, total=   0.4s\n",
      "[CV] criterion=entropy, max_depth=1, n_estimators=200 ................\n",
      "[CV]  criterion=entropy, max_depth=1, n_estimators=200, score=0.527, total=   0.4s\n",
      "[CV] criterion=entropy, max_depth=1, n_estimators=200 ................\n",
      "[CV]  criterion=entropy, max_depth=1, n_estimators=200, score=0.545, total=   0.4s\n",
      "[CV] criterion=entropy, max_depth=1, n_estimators=200 ................\n",
      "[CV]  criterion=entropy, max_depth=1, n_estimators=200, score=0.545, total=   0.4s\n",
      "[CV] criterion=entropy, max_depth=1, n_estimators=300 ................\n",
      "[CV]  criterion=entropy, max_depth=1, n_estimators=300, score=0.575, total=   0.5s\n",
      "[CV] criterion=entropy, max_depth=1, n_estimators=300 ................\n",
      "[CV]  criterion=entropy, max_depth=1, n_estimators=300, score=0.550, total=   0.5s\n",
      "[CV] criterion=entropy, max_depth=1, n_estimators=300 ................\n",
      "[CV]  criterion=entropy, max_depth=1, n_estimators=300, score=0.517, total=   0.5s\n",
      "[CV] criterion=entropy, max_depth=1, n_estimators=300 ................\n",
      "[CV]  criterion=entropy, max_depth=1, n_estimators=300, score=0.545, total=   0.5s\n",
      "[CV] criterion=entropy, max_depth=1, n_estimators=300 ................\n",
      "[CV]  criterion=entropy, max_depth=1, n_estimators=300, score=0.562, total=   0.5s\n",
      "[CV] criterion=entropy, max_depth=1, n_estimators=400 ................\n",
      "[CV]  criterion=entropy, max_depth=1, n_estimators=400, score=0.555, total=   0.6s\n",
      "[CV] criterion=entropy, max_depth=1, n_estimators=400 ................\n",
      "[CV]  criterion=entropy, max_depth=1, n_estimators=400, score=0.555, total=   0.6s\n",
      "[CV] criterion=entropy, max_depth=1, n_estimators=400 ................\n",
      "[CV]  criterion=entropy, max_depth=1, n_estimators=400, score=0.547, total=   0.6s\n",
      "[CV] criterion=entropy, max_depth=1, n_estimators=400 ................\n",
      "[CV]  criterion=entropy, max_depth=1, n_estimators=400, score=0.550, total=   0.5s\n",
      "[CV] criterion=entropy, max_depth=1, n_estimators=400 ................\n",
      "[CV]  criterion=entropy, max_depth=1, n_estimators=400, score=0.557, total=   0.6s\n",
      "[CV] criterion=entropy, max_depth=3, n_estimators=100 ................\n",
      "[CV]  criterion=entropy, max_depth=3, n_estimators=100, score=0.767, total=   0.4s\n",
      "[CV] criterion=entropy, max_depth=3, n_estimators=100 ................\n",
      "[CV]  criterion=entropy, max_depth=3, n_estimators=100, score=0.755, total=   0.3s\n",
      "[CV] criterion=entropy, max_depth=3, n_estimators=100 ................\n",
      "[CV]  criterion=entropy, max_depth=3, n_estimators=100, score=0.792, total=   0.3s\n",
      "[CV] criterion=entropy, max_depth=3, n_estimators=100 ................\n",
      "[CV]  criterion=entropy, max_depth=3, n_estimators=100, score=0.785, total=   0.3s\n",
      "[CV] criterion=entropy, max_depth=3, n_estimators=100 ................\n",
      "[CV]  criterion=entropy, max_depth=3, n_estimators=100, score=0.735, total=   0.3s\n",
      "[CV] criterion=entropy, max_depth=3, n_estimators=200 ................\n",
      "[CV]  criterion=entropy, max_depth=3, n_estimators=200, score=0.775, total=   0.5s\n",
      "[CV] criterion=entropy, max_depth=3, n_estimators=200 ................\n",
      "[CV]  criterion=entropy, max_depth=3, n_estimators=200, score=0.770, total=   0.5s\n",
      "[CV] criterion=entropy, max_depth=3, n_estimators=200 ................\n",
      "[CV]  criterion=entropy, max_depth=3, n_estimators=200, score=0.787, total=   0.4s\n",
      "[CV] criterion=entropy, max_depth=3, n_estimators=200 ................\n",
      "[CV]  criterion=entropy, max_depth=3, n_estimators=200, score=0.757, total=   0.4s\n",
      "[CV] criterion=entropy, max_depth=3, n_estimators=200 ................\n",
      "[CV]  criterion=entropy, max_depth=3, n_estimators=200, score=0.720, total=   0.4s\n",
      "[CV] criterion=entropy, max_depth=3, n_estimators=300 ................\n",
      "[CV]  criterion=entropy, max_depth=3, n_estimators=300, score=0.792, total=   0.5s\n",
      "[CV] criterion=entropy, max_depth=3, n_estimators=300 ................\n",
      "[CV]  criterion=entropy, max_depth=3, n_estimators=300, score=0.777, total=   0.6s\n",
      "[CV] criterion=entropy, max_depth=3, n_estimators=300 ................\n",
      "[CV]  criterion=entropy, max_depth=3, n_estimators=300, score=0.807, total=   0.5s\n",
      "[CV] criterion=entropy, max_depth=3, n_estimators=300 ................\n",
      "[CV]  criterion=entropy, max_depth=3, n_estimators=300, score=0.795, total=   0.5s\n",
      "[CV] criterion=entropy, max_depth=3, n_estimators=300 ................\n",
      "[CV]  criterion=entropy, max_depth=3, n_estimators=300, score=0.745, total=   0.6s\n",
      "[CV] criterion=entropy, max_depth=3, n_estimators=400 ................\n",
      "[CV]  criterion=entropy, max_depth=3, n_estimators=400, score=0.780, total=   0.6s\n",
      "[CV] criterion=entropy, max_depth=3, n_estimators=400 ................\n",
      "[CV]  criterion=entropy, max_depth=3, n_estimators=400, score=0.752, total=   0.6s\n",
      "[CV] criterion=entropy, max_depth=3, n_estimators=400 ................\n",
      "[CV]  criterion=entropy, max_depth=3, n_estimators=400, score=0.775, total=   0.6s\n",
      "[CV] criterion=entropy, max_depth=3, n_estimators=400 ................\n",
      "[CV]  criterion=entropy, max_depth=3, n_estimators=400, score=0.805, total=   0.6s\n",
      "[CV] criterion=entropy, max_depth=3, n_estimators=400 ................\n",
      "[CV]  criterion=entropy, max_depth=3, n_estimators=400, score=0.755, total=   0.6s\n",
      "[CV] criterion=entropy, max_depth=5, n_estimators=100 ................\n",
      "[CV]  criterion=entropy, max_depth=5, n_estimators=100, score=0.833, total=   0.3s\n",
      "[CV] criterion=entropy, max_depth=5, n_estimators=100 ................\n",
      "[CV]  criterion=entropy, max_depth=5, n_estimators=100, score=0.835, total=   0.3s\n",
      "[CV] criterion=entropy, max_depth=5, n_estimators=100 ................\n",
      "[CV]  criterion=entropy, max_depth=5, n_estimators=100, score=0.860, total=   0.3s\n",
      "[CV] criterion=entropy, max_depth=5, n_estimators=100 ................\n",
      "[CV]  criterion=entropy, max_depth=5, n_estimators=100, score=0.828, total=   0.3s\n",
      "[CV] criterion=entropy, max_depth=5, n_estimators=100 ................\n",
      "[CV]  criterion=entropy, max_depth=5, n_estimators=100, score=0.828, total=   0.3s\n",
      "[CV] criterion=entropy, max_depth=5, n_estimators=200 ................\n",
      "[CV]  criterion=entropy, max_depth=5, n_estimators=200, score=0.833, total=   0.4s\n",
      "[CV] criterion=entropy, max_depth=5, n_estimators=200 ................\n",
      "[CV]  criterion=entropy, max_depth=5, n_estimators=200, score=0.840, total=   0.5s\n",
      "[CV] criterion=entropy, max_depth=5, n_estimators=200 ................\n",
      "[CV]  criterion=entropy, max_depth=5, n_estimators=200, score=0.858, total=   0.5s\n",
      "[CV] criterion=entropy, max_depth=5, n_estimators=200 ................\n",
      "[CV]  criterion=entropy, max_depth=5, n_estimators=200, score=0.835, total=   0.5s\n",
      "[CV] criterion=entropy, max_depth=5, n_estimators=200 ................\n",
      "[CV]  criterion=entropy, max_depth=5, n_estimators=200, score=0.835, total=   0.4s\n",
      "[CV] criterion=entropy, max_depth=5, n_estimators=300 ................\n",
      "[CV]  criterion=entropy, max_depth=5, n_estimators=300, score=0.830, total=   0.5s\n",
      "[CV] criterion=entropy, max_depth=5, n_estimators=300 ................\n",
      "[CV]  criterion=entropy, max_depth=5, n_estimators=300, score=0.853, total=   0.5s\n",
      "[CV] criterion=entropy, max_depth=5, n_estimators=300 ................\n",
      "[CV]  criterion=entropy, max_depth=5, n_estimators=300, score=0.865, total=   0.5s\n",
      "[CV] criterion=entropy, max_depth=5, n_estimators=300 ................\n",
      "[CV]  criterion=entropy, max_depth=5, n_estimators=300, score=0.830, total=   0.5s\n",
      "[CV] criterion=entropy, max_depth=5, n_estimators=300 ................\n",
      "[CV]  criterion=entropy, max_depth=5, n_estimators=300, score=0.850, total=   0.6s\n",
      "[CV] criterion=entropy, max_depth=5, n_estimators=400 ................\n",
      "[CV]  criterion=entropy, max_depth=5, n_estimators=400, score=0.843, total=   0.7s\n",
      "[CV] criterion=entropy, max_depth=5, n_estimators=400 ................\n",
      "[CV]  criterion=entropy, max_depth=5, n_estimators=400, score=0.840, total=   0.8s\n",
      "[CV] criterion=entropy, max_depth=5, n_estimators=400 ................\n",
      "[CV]  criterion=entropy, max_depth=5, n_estimators=400, score=0.860, total=   0.7s\n",
      "[CV] criterion=entropy, max_depth=5, n_estimators=400 ................\n",
      "[CV]  criterion=entropy, max_depth=5, n_estimators=400, score=0.820, total=   0.6s\n",
      "[CV] criterion=entropy, max_depth=5, n_estimators=400 ................\n",
      "[CV]  criterion=entropy, max_depth=5, n_estimators=400, score=0.848, total=   0.6s\n",
      "[CV] criterion=entropy, max_depth=7, n_estimators=100 ................\n",
      "[CV]  criterion=entropy, max_depth=7, n_estimators=100, score=0.863, total=   0.3s\n",
      "[CV] criterion=entropy, max_depth=7, n_estimators=100 ................\n",
      "[CV]  criterion=entropy, max_depth=7, n_estimators=100, score=0.865, total=   0.3s\n",
      "[CV] criterion=entropy, max_depth=7, n_estimators=100 ................\n",
      "[CV]  criterion=entropy, max_depth=7, n_estimators=100, score=0.885, total=   0.3s\n",
      "[CV] criterion=entropy, max_depth=7, n_estimators=100 ................\n",
      "[CV]  criterion=entropy, max_depth=7, n_estimators=100, score=0.860, total=   0.3s\n",
      "[CV] criterion=entropy, max_depth=7, n_estimators=100 ................\n",
      "[CV]  criterion=entropy, max_depth=7, n_estimators=100, score=0.863, total=   0.3s\n",
      "[CV] criterion=entropy, max_depth=7, n_estimators=200 ................\n",
      "[CV]  criterion=entropy, max_depth=7, n_estimators=200, score=0.880, total=   0.6s\n",
      "[CV] criterion=entropy, max_depth=7, n_estimators=200 ................\n",
      "[CV]  criterion=entropy, max_depth=7, n_estimators=200, score=0.873, total=   0.5s\n",
      "[CV] criterion=entropy, max_depth=7, n_estimators=200 ................\n",
      "[CV]  criterion=entropy, max_depth=7, n_estimators=200, score=0.902, total=   0.5s\n",
      "[CV] criterion=entropy, max_depth=7, n_estimators=200 ................\n",
      "[CV]  criterion=entropy, max_depth=7, n_estimators=200, score=0.850, total=   0.4s\n",
      "[CV] criterion=entropy, max_depth=7, n_estimators=200 ................\n",
      "[CV]  criterion=entropy, max_depth=7, n_estimators=200, score=0.855, total=   0.5s\n",
      "[CV] criterion=entropy, max_depth=7, n_estimators=300 ................\n",
      "[CV]  criterion=entropy, max_depth=7, n_estimators=300, score=0.863, total=   0.6s\n",
      "[CV] criterion=entropy, max_depth=7, n_estimators=300 ................\n",
      "[CV]  criterion=entropy, max_depth=7, n_estimators=300, score=0.877, total=   0.6s\n",
      "[CV] criterion=entropy, max_depth=7, n_estimators=300 ................\n",
      "[CV]  criterion=entropy, max_depth=7, n_estimators=300, score=0.892, total=   0.7s\n",
      "[CV] criterion=entropy, max_depth=7, n_estimators=300 ................\n",
      "[CV]  criterion=entropy, max_depth=7, n_estimators=300, score=0.853, total=   0.6s\n",
      "[CV] criterion=entropy, max_depth=7, n_estimators=300 ................\n",
      "[CV]  criterion=entropy, max_depth=7, n_estimators=300, score=0.855, total=   0.6s\n",
      "[CV] criterion=entropy, max_depth=7, n_estimators=400 ................\n",
      "[CV]  criterion=entropy, max_depth=7, n_estimators=400, score=0.865, total=   0.8s\n",
      "[CV] criterion=entropy, max_depth=7, n_estimators=400 ................\n",
      "[CV]  criterion=entropy, max_depth=7, n_estimators=400, score=0.863, total=   0.7s\n",
      "[CV] criterion=entropy, max_depth=7, n_estimators=400 ................\n",
      "[CV]  criterion=entropy, max_depth=7, n_estimators=400, score=0.890, total=   0.7s\n",
      "[CV] criterion=entropy, max_depth=7, n_estimators=400 ................\n",
      "[CV]  criterion=entropy, max_depth=7, n_estimators=400, score=0.860, total=   0.7s\n",
      "[CV] criterion=entropy, max_depth=7, n_estimators=400 ................\n",
      "[CV]  criterion=entropy, max_depth=7, n_estimators=400, score=0.860, total=   0.6s\n"
     ]
    },
    {
     "name": "stderr",
     "output_type": "stream",
     "text": [
      "[Parallel(n_jobs=1)]: Done 160 out of 160 | elapsed:  1.4min finished\n"
     ]
    },
    {
     "data": {
      "text/plain": [
       "GridSearchCV(cv=5, estimator=RandomForestClassifier(n_jobs=-1), n_jobs=1,\n",
       "             param_grid={'criterion': ['gini', 'entropy'],\n",
       "                         'max_depth': [1, 3, 5, 7],\n",
       "                         'n_estimators': [100, 200, 300, 400]},\n",
       "             scoring='accuracy', verbose=10)"
      ]
     },
     "execution_count": 7,
     "metadata": {},
     "output_type": "execute_result"
    }
   ],
   "source": [
    "classifier = ensemble.RandomForestClassifier(n_jobs=-1)\n",
    "param_grid = {\n",
    "    \"n_estimators\":[100,200,300,400],\n",
    "    \"max_depth\":[1,3,5,7],\n",
    "    \"criterion\":[\"gini\",\"entropy\"],\n",
    "}\n",
    "model = model_selection.GridSearchCV(\n",
    "    estimator = classifier,\n",
    "    param_grid = param_grid,\n",
    "    scoring = \"accuracy\",\n",
    "    verbose = 10,\n",
    "    n_jobs =1,\n",
    "    cv = 5,\n",
    ")\n",
    "model.fit(X,y)"
   ]
  },
  {
   "cell_type": "code",
   "execution_count": 8,
   "metadata": {},
   "outputs": [
    {
     "name": "stdout",
     "output_type": "stream",
     "text": [
      "0.8719999999999999\n",
      "{'bootstrap': True, 'ccp_alpha': 0.0, 'class_weight': None, 'criterion': 'entropy', 'max_depth': 7, 'max_features': 'auto', 'max_leaf_nodes': None, 'max_samples': None, 'min_impurity_decrease': 0.0, 'min_impurity_split': None, 'min_samples_leaf': 1, 'min_samples_split': 2, 'min_weight_fraction_leaf': 0.0, 'n_estimators': 200, 'n_jobs': -1, 'oob_score': False, 'random_state': None, 'verbose': 0, 'warm_start': False}\n"
     ]
    }
   ],
   "source": [
    "print(model.best_score_)\n",
    "print(model.best_estimator_.get_params())"
   ]
  },
  {
   "cell_type": "markdown",
   "metadata": {},
   "source": [
    "# RandomSearchCV "
   ]
  },
  {
   "cell_type": "code",
   "execution_count": 11,
   "metadata": {},
   "outputs": [
    {
     "name": "stdout",
     "output_type": "stream",
     "text": [
      "Fitting 5 folds for each of 10 candidates, totalling 50 fits\n",
      "[CV] n_estimators=1400, max_depth=15, criterion=gini .................\n"
     ]
    },
    {
     "name": "stderr",
     "output_type": "stream",
     "text": [
      "[Parallel(n_jobs=1)]: Using backend SequentialBackend with 1 concurrent workers.\n"
     ]
    },
    {
     "name": "stdout",
     "output_type": "stream",
     "text": [
      "[CV]  n_estimators=1400, max_depth=15, criterion=gini, score=0.880, total=  12.0s\n",
      "[CV] n_estimators=1400, max_depth=15, criterion=gini .................\n"
     ]
    },
    {
     "name": "stderr",
     "output_type": "stream",
     "text": [
      "[Parallel(n_jobs=1)]: Done   1 out of   1 | elapsed:   11.9s remaining:    0.0s\n"
     ]
    },
    {
     "name": "stdout",
     "output_type": "stream",
     "text": [
      "[CV]  n_estimators=1400, max_depth=15, criterion=gini, score=0.895, total=   2.2s\n",
      "[CV] n_estimators=1400, max_depth=15, criterion=gini .................\n"
     ]
    },
    {
     "name": "stderr",
     "output_type": "stream",
     "text": [
      "[Parallel(n_jobs=1)]: Done   2 out of   2 | elapsed:   14.1s remaining:    0.0s\n"
     ]
    },
    {
     "name": "stdout",
     "output_type": "stream",
     "text": [
      "[CV]  n_estimators=1400, max_depth=15, criterion=gini, score=0.892, total=   2.1s\n",
      "[CV] n_estimators=1400, max_depth=15, criterion=gini .................\n"
     ]
    },
    {
     "name": "stderr",
     "output_type": "stream",
     "text": [
      "[Parallel(n_jobs=1)]: Done   3 out of   3 | elapsed:   16.2s remaining:    0.0s\n"
     ]
    },
    {
     "name": "stdout",
     "output_type": "stream",
     "text": [
      "[CV]  n_estimators=1400, max_depth=15, criterion=gini, score=0.877, total=   2.5s\n",
      "[CV] n_estimators=1400, max_depth=15, criterion=gini .................\n"
     ]
    },
    {
     "name": "stderr",
     "output_type": "stream",
     "text": [
      "[Parallel(n_jobs=1)]: Done   4 out of   4 | elapsed:   18.6s remaining:    0.0s\n"
     ]
    },
    {
     "name": "stdout",
     "output_type": "stream",
     "text": [
      "[CV]  n_estimators=1400, max_depth=15, criterion=gini, score=0.868, total=   2.2s\n",
      "[CV] n_estimators=1200, max_depth=17, criterion=entropy ..............\n"
     ]
    },
    {
     "name": "stderr",
     "output_type": "stream",
     "text": [
      "[Parallel(n_jobs=1)]: Done   5 out of   5 | elapsed:   20.8s remaining:    0.0s\n"
     ]
    },
    {
     "name": "stdout",
     "output_type": "stream",
     "text": [
      "[CV]  n_estimators=1200, max_depth=17, criterion=entropy, score=0.875, total=   2.2s\n",
      "[CV] n_estimators=1200, max_depth=17, criterion=entropy ..............\n"
     ]
    },
    {
     "name": "stderr",
     "output_type": "stream",
     "text": [
      "[Parallel(n_jobs=1)]: Done   6 out of   6 | elapsed:   23.0s remaining:    0.0s\n"
     ]
    },
    {
     "name": "stdout",
     "output_type": "stream",
     "text": [
      "[CV]  n_estimators=1200, max_depth=17, criterion=entropy, score=0.895, total=   2.0s\n",
      "[CV] n_estimators=1200, max_depth=17, criterion=entropy ..............\n"
     ]
    },
    {
     "name": "stderr",
     "output_type": "stream",
     "text": [
      "[Parallel(n_jobs=1)]: Done   7 out of   7 | elapsed:   25.0s remaining:    0.0s\n"
     ]
    },
    {
     "name": "stdout",
     "output_type": "stream",
     "text": [
      "[CV]  n_estimators=1200, max_depth=17, criterion=entropy, score=0.912, total=   2.0s\n",
      "[CV] n_estimators=1200, max_depth=17, criterion=entropy ..............\n"
     ]
    },
    {
     "name": "stderr",
     "output_type": "stream",
     "text": [
      "[Parallel(n_jobs=1)]: Done   8 out of   8 | elapsed:   27.0s remaining:    0.0s\n"
     ]
    },
    {
     "name": "stdout",
     "output_type": "stream",
     "text": [
      "[CV]  n_estimators=1200, max_depth=17, criterion=entropy, score=0.865, total=   2.1s\n",
      "[CV] n_estimators=1200, max_depth=17, criterion=entropy ..............\n"
     ]
    },
    {
     "name": "stderr",
     "output_type": "stream",
     "text": [
      "[Parallel(n_jobs=1)]: Done   9 out of   9 | elapsed:   29.1s remaining:    0.0s\n"
     ]
    },
    {
     "name": "stdout",
     "output_type": "stream",
     "text": [
      "[CV]  n_estimators=1200, max_depth=17, criterion=entropy, score=0.877, total=   1.9s\n",
      "[CV] n_estimators=300, max_depth=13, criterion=gini ..................\n",
      "[CV]  n_estimators=300, max_depth=13, criterion=gini, score=0.880, total=   0.6s\n",
      "[CV] n_estimators=300, max_depth=13, criterion=gini ..................\n",
      "[CV]  n_estimators=300, max_depth=13, criterion=gini, score=0.887, total=   0.6s\n",
      "[CV] n_estimators=300, max_depth=13, criterion=gini ..................\n",
      "[CV]  n_estimators=300, max_depth=13, criterion=gini, score=0.897, total=   0.7s\n",
      "[CV] n_estimators=300, max_depth=13, criterion=gini ..................\n",
      "[CV]  n_estimators=300, max_depth=13, criterion=gini, score=0.885, total=   0.6s\n",
      "[CV] n_estimators=300, max_depth=13, criterion=gini ..................\n",
      "[CV]  n_estimators=300, max_depth=13, criterion=gini, score=0.873, total=   0.5s\n",
      "[CV] n_estimators=1100, max_depth=8, criterion=gini ..................\n",
      "[CV]  n_estimators=1100, max_depth=8, criterion=gini, score=0.870, total=   1.6s\n",
      "[CV] n_estimators=1100, max_depth=8, criterion=gini ..................\n",
      "[CV]  n_estimators=1100, max_depth=8, criterion=gini, score=0.875, total=   1.8s\n",
      "[CV] n_estimators=1100, max_depth=8, criterion=gini ..................\n",
      "[CV]  n_estimators=1100, max_depth=8, criterion=gini, score=0.887, total=   1.9s\n",
      "[CV] n_estimators=1100, max_depth=8, criterion=gini ..................\n",
      "[CV]  n_estimators=1100, max_depth=8, criterion=gini, score=0.868, total=   2.0s\n",
      "[CV] n_estimators=1100, max_depth=8, criterion=gini ..................\n",
      "[CV]  n_estimators=1100, max_depth=8, criterion=gini, score=0.853, total=   1.8s\n",
      "[CV] n_estimators=1000, max_depth=19, criterion=gini .................\n",
      "[CV]  n_estimators=1000, max_depth=19, criterion=gini, score=0.887, total=   1.6s\n",
      "[CV] n_estimators=1000, max_depth=19, criterion=gini .................\n",
      "[CV]  n_estimators=1000, max_depth=19, criterion=gini, score=0.885, total=   1.5s\n",
      "[CV] n_estimators=1000, max_depth=19, criterion=gini .................\n",
      "[CV]  n_estimators=1000, max_depth=19, criterion=gini, score=0.902, total=   1.7s\n",
      "[CV] n_estimators=1000, max_depth=19, criterion=gini .................\n",
      "[CV]  n_estimators=1000, max_depth=19, criterion=gini, score=0.887, total=   1.6s\n",
      "[CV] n_estimators=1000, max_depth=19, criterion=gini .................\n",
      "[CV]  n_estimators=1000, max_depth=19, criterion=gini, score=0.868, total=   1.9s\n",
      "[CV] n_estimators=600, max_depth=15, criterion=entropy ...............\n",
      "[CV]  n_estimators=600, max_depth=15, criterion=entropy, score=0.877, total=   1.3s\n",
      "[CV] n_estimators=600, max_depth=15, criterion=entropy ...............\n",
      "[CV]  n_estimators=600, max_depth=15, criterion=entropy, score=0.897, total=   1.2s\n",
      "[CV] n_estimators=600, max_depth=15, criterion=entropy ...............\n",
      "[CV]  n_estimators=600, max_depth=15, criterion=entropy, score=0.907, total=   1.1s\n",
      "[CV] n_estimators=600, max_depth=15, criterion=entropy ...............\n",
      "[CV]  n_estimators=600, max_depth=15, criterion=entropy, score=0.873, total=   1.1s\n",
      "[CV] n_estimators=600, max_depth=15, criterion=entropy ...............\n",
      "[CV]  n_estimators=600, max_depth=15, criterion=entropy, score=0.868, total=   1.2s\n",
      "[CV] n_estimators=1200, max_depth=14, criterion=gini .................\n",
      "[CV]  n_estimators=1200, max_depth=14, criterion=gini, score=0.882, total=   1.9s\n",
      "[CV] n_estimators=1200, max_depth=14, criterion=gini .................\n",
      "[CV]  n_estimators=1200, max_depth=14, criterion=gini, score=0.892, total=   1.8s\n",
      "[CV] n_estimators=1200, max_depth=14, criterion=gini .................\n",
      "[CV]  n_estimators=1200, max_depth=14, criterion=gini, score=0.900, total=   2.2s\n",
      "[CV] n_estimators=1200, max_depth=14, criterion=gini .................\n",
      "[CV]  n_estimators=1200, max_depth=14, criterion=gini, score=0.870, total=   2.1s\n",
      "[CV] n_estimators=1200, max_depth=14, criterion=gini .................\n",
      "[CV]  n_estimators=1200, max_depth=14, criterion=gini, score=0.868, total=   1.9s\n",
      "[CV] n_estimators=900, max_depth=7, criterion=entropy ................\n",
      "[CV]  n_estimators=900, max_depth=7, criterion=entropy, score=0.868, total=   1.8s\n",
      "[CV] n_estimators=900, max_depth=7, criterion=entropy ................\n",
      "[CV]  n_estimators=900, max_depth=7, criterion=entropy, score=0.865, total=   1.5s\n",
      "[CV] n_estimators=900, max_depth=7, criterion=entropy ................\n",
      "[CV]  n_estimators=900, max_depth=7, criterion=entropy, score=0.897, total=   1.8s\n",
      "[CV] n_estimators=900, max_depth=7, criterion=entropy ................\n",
      "[CV]  n_estimators=900, max_depth=7, criterion=entropy, score=0.853, total=   1.8s\n",
      "[CV] n_estimators=900, max_depth=7, criterion=entropy ................\n",
      "[CV]  n_estimators=900, max_depth=7, criterion=entropy, score=0.860, total=   1.6s\n",
      "[CV] n_estimators=100, max_depth=19, criterion=entropy ...............\n",
      "[CV]  n_estimators=100, max_depth=19, criterion=entropy, score=0.877, total=   0.3s\n",
      "[CV] n_estimators=100, max_depth=19, criterion=entropy ...............\n",
      "[CV]  n_estimators=100, max_depth=19, criterion=entropy, score=0.865, total=   0.4s\n",
      "[CV] n_estimators=100, max_depth=19, criterion=entropy ...............\n",
      "[CV]  n_estimators=100, max_depth=19, criterion=entropy, score=0.900, total=   0.4s\n",
      "[CV] n_estimators=100, max_depth=19, criterion=entropy ...............\n",
      "[CV]  n_estimators=100, max_depth=19, criterion=entropy, score=0.873, total=   0.4s\n",
      "[CV] n_estimators=100, max_depth=19, criterion=entropy ...............\n",
      "[CV]  n_estimators=100, max_depth=19, criterion=entropy, score=0.875, total=   0.4s\n",
      "[CV] n_estimators=600, max_depth=10, criterion=gini ..................\n",
      "[CV]  n_estimators=600, max_depth=10, criterion=gini, score=0.873, total=   1.1s\n",
      "[CV] n_estimators=600, max_depth=10, criterion=gini ..................\n",
      "[CV]  n_estimators=600, max_depth=10, criterion=gini, score=0.887, total=   1.0s\n",
      "[CV] n_estimators=600, max_depth=10, criterion=gini ..................\n",
      "[CV]  n_estimators=600, max_depth=10, criterion=gini, score=0.895, total=   1.1s\n",
      "[CV] n_estimators=600, max_depth=10, criterion=gini ..................\n",
      "[CV]  n_estimators=600, max_depth=10, criterion=gini, score=0.863, total=   1.1s\n",
      "[CV] n_estimators=600, max_depth=10, criterion=gini ..................\n",
      "[CV]  n_estimators=600, max_depth=10, criterion=gini, score=0.873, total=   1.3s\n"
     ]
    },
    {
     "name": "stderr",
     "output_type": "stream",
     "text": [
      "[Parallel(n_jobs=1)]: Done  50 out of  50 | elapsed:  1.4min finished\n"
     ]
    },
    {
     "data": {
      "text/plain": [
       "RandomizedSearchCV(cv=5, estimator=RandomForestClassifier(n_jobs=-1), n_jobs=1,\n",
       "                   param_distributions={'criterion': ['gini', 'entropy'],\n",
       "                                        'max_depth': array([ 1,  2,  3,  4,  5,  6,  7,  8,  9, 10, 11, 12, 13, 14, 15, 16, 17,\n",
       "       18, 19]),\n",
       "                                        'n_estimators': array([ 100,  200,  300,  400,  500,  600,  700,  800,  900, 1000, 1100,\n",
       "       1200, 1300, 1400])},\n",
       "                   scoring='accuracy', verbose=10)"
      ]
     },
     "execution_count": 11,
     "metadata": {},
     "output_type": "execute_result"
    }
   ],
   "source": [
    "param_grid = {\n",
    "    \"n_estimators\":np.arange(100,1500,100),\n",
    "    \"max_depth\":np.arange(1,20),\n",
    "    \"criterion\":[\"gini\",\"entropy\"],\n",
    "}\n",
    "model = model_selection.RandomizedSearchCV(\n",
    "    estimator = classifier,\n",
    "    param_distributions = param_grid,\n",
    "    n_iter = 10,\n",
    "    scoring = \"accuracy\",\n",
    "    verbose = 10,\n",
    "    n_jobs =1,\n",
    "    cv = 5,\n",
    ")\n",
    "model.fit(X,y)"
   ]
  },
  {
   "cell_type": "code",
   "execution_count": 12,
   "metadata": {},
   "outputs": [
    {
     "name": "stdout",
     "output_type": "stream",
     "text": [
      "0.8859999999999999\n",
      "{'bootstrap': True, 'ccp_alpha': 0.0, 'class_weight': None, 'criterion': 'gini', 'max_depth': 19, 'max_features': 'auto', 'max_leaf_nodes': None, 'max_samples': None, 'min_impurity_decrease': 0.0, 'min_impurity_split': None, 'min_samples_leaf': 1, 'min_samples_split': 2, 'min_weight_fraction_leaf': 0.0, 'n_estimators': 1000, 'n_jobs': -1, 'oob_score': False, 'random_state': None, 'verbose': 0, 'warm_start': False}\n"
     ]
    }
   ],
   "source": [
    "print(model.best_score_)\n",
    "print(model.best_estimator_.get_params())"
   ]
  },
  {
   "cell_type": "markdown",
   "metadata": {},
   "source": [
    "# Scaling , PCA and Parameter optimization"
   ]
  },
  {
   "cell_type": "code",
   "execution_count": 13,
   "metadata": {},
   "outputs": [],
   "source": [
    "#grid search\n",
    "import pandas as pd\n",
    "import numpy as np\n",
    "from sklearn import ensemble\n",
    "from sklearn import metrics\n",
    "from sklearn import model_selection\n",
    "from sklearn import decomposition\n",
    "from sklearn import preprocessing\n",
    "from sklearn import pipeline"
   ]
  },
  {
   "cell_type": "code",
   "execution_count": 17,
   "metadata": {},
   "outputs": [],
   "source": [
    "scl = preprocessing.StandardScaler()\n",
    "pca = decomposition.PCA()\n",
    "rf = ensemble.RandomForestClassifier(n_jobs=-1)\n",
    "classifier = pipeline.Pipeline([(\"scaling\",scl),(\"pca\",pca),(\"rf\",rf)])"
   ]
  },
  {
   "cell_type": "code",
   "execution_count": 18,
   "metadata": {},
   "outputs": [],
   "source": [
    "param_grid = {\n",
    "    \"pca__n_components\":np.arange(5,10),\n",
    "    \"rf__n_estimators\":[100,200,300,400],\n",
    "    \"rf__max_depth\":[1,3,5,7],\n",
    "    \"rf__criterion\":[\"gini\",\"entropy\"],\n",
    "    }"
   ]
  },
  {
   "cell_type": "code",
   "execution_count": 19,
   "metadata": {},
   "outputs": [
    {
     "name": "stdout",
     "output_type": "stream",
     "text": [
      "Fitting 5 folds for each of 10 candidates, totalling 50 fits\n",
      "[CV] rf__n_estimators=400, rf__max_depth=1, rf__criterion=gini, pca__n_components=9 \n"
     ]
    },
    {
     "name": "stderr",
     "output_type": "stream",
     "text": [
      "[Parallel(n_jobs=1)]: Using backend SequentialBackend with 1 concurrent workers.\n"
     ]
    },
    {
     "name": "stdout",
     "output_type": "stream",
     "text": [
      "[CV]  rf__n_estimators=400, rf__max_depth=1, rf__criterion=gini, pca__n_components=9, score=0.365, total=  10.3s\n",
      "[CV] rf__n_estimators=400, rf__max_depth=1, rf__criterion=gini, pca__n_components=9 \n"
     ]
    },
    {
     "name": "stderr",
     "output_type": "stream",
     "text": [
      "[Parallel(n_jobs=1)]: Done   1 out of   1 | elapsed:   10.2s remaining:    0.0s\n"
     ]
    },
    {
     "name": "stdout",
     "output_type": "stream",
     "text": [
      "[CV]  rf__n_estimators=400, rf__max_depth=1, rf__criterion=gini, pca__n_components=9, score=0.427, total=   0.7s\n",
      "[CV] rf__n_estimators=400, rf__max_depth=1, rf__criterion=gini, pca__n_components=9 \n"
     ]
    },
    {
     "name": "stderr",
     "output_type": "stream",
     "text": [
      "[Parallel(n_jobs=1)]: Done   2 out of   2 | elapsed:   11.0s remaining:    0.0s\n"
     ]
    },
    {
     "name": "stdout",
     "output_type": "stream",
     "text": [
      "[CV]  rf__n_estimators=400, rf__max_depth=1, rf__criterion=gini, pca__n_components=9, score=0.425, total=   0.7s\n",
      "[CV] rf__n_estimators=400, rf__max_depth=1, rf__criterion=gini, pca__n_components=9 \n"
     ]
    },
    {
     "name": "stderr",
     "output_type": "stream",
     "text": [
      "[Parallel(n_jobs=1)]: Done   3 out of   3 | elapsed:   11.7s remaining:    0.0s\n"
     ]
    },
    {
     "name": "stdout",
     "output_type": "stream",
     "text": [
      "[CV]  rf__n_estimators=400, rf__max_depth=1, rf__criterion=gini, pca__n_components=9, score=0.468, total=   1.0s\n",
      "[CV] rf__n_estimators=400, rf__max_depth=1, rf__criterion=gini, pca__n_components=9 \n"
     ]
    },
    {
     "name": "stderr",
     "output_type": "stream",
     "text": [
      "[Parallel(n_jobs=1)]: Done   4 out of   4 | elapsed:   12.7s remaining:    0.0s\n"
     ]
    },
    {
     "name": "stdout",
     "output_type": "stream",
     "text": [
      "[CV]  rf__n_estimators=400, rf__max_depth=1, rf__criterion=gini, pca__n_components=9, score=0.412, total=   0.7s\n",
      "[CV] rf__n_estimators=100, rf__max_depth=3, rf__criterion=entropy, pca__n_components=7 \n"
     ]
    },
    {
     "name": "stderr",
     "output_type": "stream",
     "text": [
      "[Parallel(n_jobs=1)]: Done   5 out of   5 | elapsed:   13.3s remaining:    0.0s\n"
     ]
    },
    {
     "name": "stdout",
     "output_type": "stream",
     "text": [
      "[CV]  rf__n_estimators=100, rf__max_depth=3, rf__criterion=entropy, pca__n_components=7, score=0.405, total=   0.4s\n",
      "[CV] rf__n_estimators=100, rf__max_depth=3, rf__criterion=entropy, pca__n_components=7 \n"
     ]
    },
    {
     "name": "stderr",
     "output_type": "stream",
     "text": [
      "[Parallel(n_jobs=1)]: Done   6 out of   6 | elapsed:   13.7s remaining:    0.0s\n"
     ]
    },
    {
     "name": "stdout",
     "output_type": "stream",
     "text": [
      "[CV]  rf__n_estimators=100, rf__max_depth=3, rf__criterion=entropy, pca__n_components=7, score=0.432, total=   0.4s\n",
      "[CV] rf__n_estimators=100, rf__max_depth=3, rf__criterion=entropy, pca__n_components=7 \n"
     ]
    },
    {
     "name": "stderr",
     "output_type": "stream",
     "text": [
      "[Parallel(n_jobs=1)]: Done   7 out of   7 | elapsed:   14.1s remaining:    0.0s\n"
     ]
    },
    {
     "name": "stdout",
     "output_type": "stream",
     "text": [
      "[CV]  rf__n_estimators=100, rf__max_depth=3, rf__criterion=entropy, pca__n_components=7, score=0.398, total=   0.4s\n",
      "[CV] rf__n_estimators=100, rf__max_depth=3, rf__criterion=entropy, pca__n_components=7 \n"
     ]
    },
    {
     "name": "stderr",
     "output_type": "stream",
     "text": [
      "[Parallel(n_jobs=1)]: Done   8 out of   8 | elapsed:   14.4s remaining:    0.0s\n"
     ]
    },
    {
     "name": "stdout",
     "output_type": "stream",
     "text": [
      "[CV]  rf__n_estimators=100, rf__max_depth=3, rf__criterion=entropy, pca__n_components=7, score=0.410, total=   0.4s\n",
      "[CV] rf__n_estimators=100, rf__max_depth=3, rf__criterion=entropy, pca__n_components=7 \n"
     ]
    },
    {
     "name": "stderr",
     "output_type": "stream",
     "text": [
      "[Parallel(n_jobs=1)]: Done   9 out of   9 | elapsed:   14.8s remaining:    0.0s\n"
     ]
    },
    {
     "name": "stdout",
     "output_type": "stream",
     "text": [
      "[CV]  rf__n_estimators=100, rf__max_depth=3, rf__criterion=entropy, pca__n_components=7, score=0.407, total=   0.3s\n",
      "[CV] rf__n_estimators=200, rf__max_depth=7, rf__criterion=entropy, pca__n_components=5 \n",
      "[CV]  rf__n_estimators=200, rf__max_depth=7, rf__criterion=entropy, pca__n_components=5, score=0.367, total=   0.5s\n",
      "[CV] rf__n_estimators=200, rf__max_depth=7, rf__criterion=entropy, pca__n_components=5 \n",
      "[CV]  rf__n_estimators=200, rf__max_depth=7, rf__criterion=entropy, pca__n_components=5, score=0.405, total=   0.5s\n",
      "[CV] rf__n_estimators=200, rf__max_depth=7, rf__criterion=entropy, pca__n_components=5 \n",
      "[CV]  rf__n_estimators=200, rf__max_depth=7, rf__criterion=entropy, pca__n_components=5, score=0.300, total=   0.6s\n",
      "[CV] rf__n_estimators=200, rf__max_depth=7, rf__criterion=entropy, pca__n_components=5 \n",
      "[CV]  rf__n_estimators=200, rf__max_depth=7, rf__criterion=entropy, pca__n_components=5, score=0.347, total=   0.6s\n",
      "[CV] rf__n_estimators=200, rf__max_depth=7, rf__criterion=entropy, pca__n_components=5 \n",
      "[CV]  rf__n_estimators=200, rf__max_depth=7, rf__criterion=entropy, pca__n_components=5, score=0.255, total=   0.6s\n",
      "[CV] rf__n_estimators=100, rf__max_depth=3, rf__criterion=entropy, pca__n_components=5 \n",
      "[CV]  rf__n_estimators=100, rf__max_depth=3, rf__criterion=entropy, pca__n_components=5, score=0.323, total=   0.4s\n",
      "[CV] rf__n_estimators=100, rf__max_depth=3, rf__criterion=entropy, pca__n_components=5 \n",
      "[CV]  rf__n_estimators=100, rf__max_depth=3, rf__criterion=entropy, pca__n_components=5, score=0.385, total=   0.4s\n",
      "[CV] rf__n_estimators=100, rf__max_depth=3, rf__criterion=entropy, pca__n_components=5 \n",
      "[CV]  rf__n_estimators=100, rf__max_depth=3, rf__criterion=entropy, pca__n_components=5, score=0.325, total=   0.4s\n",
      "[CV] rf__n_estimators=100, rf__max_depth=3, rf__criterion=entropy, pca__n_components=5 \n",
      "[CV]  rf__n_estimators=100, rf__max_depth=3, rf__criterion=entropy, pca__n_components=5, score=0.305, total=   0.4s\n",
      "[CV] rf__n_estimators=100, rf__max_depth=3, rf__criterion=entropy, pca__n_components=5 \n",
      "[CV]  rf__n_estimators=100, rf__max_depth=3, rf__criterion=entropy, pca__n_components=5, score=0.263, total=   0.4s\n",
      "[CV] rf__n_estimators=200, rf__max_depth=1, rf__criterion=entropy, pca__n_components=7 \n",
      "[CV]  rf__n_estimators=200, rf__max_depth=1, rf__criterion=entropy, pca__n_components=7, score=0.400, total=   0.4s\n",
      "[CV] rf__n_estimators=200, rf__max_depth=1, rf__criterion=entropy, pca__n_components=7 \n",
      "[CV]  rf__n_estimators=200, rf__max_depth=1, rf__criterion=entropy, pca__n_components=7, score=0.393, total=   0.5s\n",
      "[CV] rf__n_estimators=200, rf__max_depth=1, rf__criterion=entropy, pca__n_components=7 \n",
      "[CV]  rf__n_estimators=200, rf__max_depth=1, rf__criterion=entropy, pca__n_components=7, score=0.380, total=   0.5s\n",
      "[CV] rf__n_estimators=200, rf__max_depth=1, rf__criterion=entropy, pca__n_components=7 \n",
      "[CV]  rf__n_estimators=200, rf__max_depth=1, rf__criterion=entropy, pca__n_components=7, score=0.405, total=   0.5s\n",
      "[CV] rf__n_estimators=200, rf__max_depth=1, rf__criterion=entropy, pca__n_components=7 \n",
      "[CV]  rf__n_estimators=200, rf__max_depth=1, rf__criterion=entropy, pca__n_components=7, score=0.398, total=   0.5s\n",
      "[CV] rf__n_estimators=400, rf__max_depth=3, rf__criterion=entropy, pca__n_components=7 \n",
      "[CV]  rf__n_estimators=400, rf__max_depth=3, rf__criterion=entropy, pca__n_components=7, score=0.390, total=   0.9s\n",
      "[CV] rf__n_estimators=400, rf__max_depth=3, rf__criterion=entropy, pca__n_components=7 \n",
      "[CV]  rf__n_estimators=400, rf__max_depth=3, rf__criterion=entropy, pca__n_components=7, score=0.403, total=   0.8s\n",
      "[CV] rf__n_estimators=400, rf__max_depth=3, rf__criterion=entropy, pca__n_components=7 \n",
      "[CV]  rf__n_estimators=400, rf__max_depth=3, rf__criterion=entropy, pca__n_components=7, score=0.395, total=   0.9s\n",
      "[CV] rf__n_estimators=400, rf__max_depth=3, rf__criterion=entropy, pca__n_components=7 \n",
      "[CV]  rf__n_estimators=400, rf__max_depth=3, rf__criterion=entropy, pca__n_components=7, score=0.403, total=   0.9s\n",
      "[CV] rf__n_estimators=400, rf__max_depth=3, rf__criterion=entropy, pca__n_components=7 \n",
      "[CV]  rf__n_estimators=400, rf__max_depth=3, rf__criterion=entropy, pca__n_components=7, score=0.425, total=   0.8s\n",
      "[CV] rf__n_estimators=400, rf__max_depth=7, rf__criterion=entropy, pca__n_components=9 \n",
      "[CV]  rf__n_estimators=400, rf__max_depth=7, rf__criterion=entropy, pca__n_components=9, score=0.403, total=   1.2s\n",
      "[CV] rf__n_estimators=400, rf__max_depth=7, rf__criterion=entropy, pca__n_components=9 \n",
      "[CV]  rf__n_estimators=400, rf__max_depth=7, rf__criterion=entropy, pca__n_components=9, score=0.480, total=   1.1s\n",
      "[CV] rf__n_estimators=400, rf__max_depth=7, rf__criterion=entropy, pca__n_components=9 \n",
      "[CV]  rf__n_estimators=400, rf__max_depth=7, rf__criterion=entropy, pca__n_components=9, score=0.475, total=   1.0s\n",
      "[CV] rf__n_estimators=400, rf__max_depth=7, rf__criterion=entropy, pca__n_components=9 \n",
      "[CV]  rf__n_estimators=400, rf__max_depth=7, rf__criterion=entropy, pca__n_components=9, score=0.492, total=   1.1s\n",
      "[CV] rf__n_estimators=400, rf__max_depth=7, rf__criterion=entropy, pca__n_components=9 \n",
      "[CV]  rf__n_estimators=400, rf__max_depth=7, rf__criterion=entropy, pca__n_components=9, score=0.440, total=   1.1s\n",
      "[CV] rf__n_estimators=400, rf__max_depth=7, rf__criterion=entropy, pca__n_components=7 \n",
      "[CV]  rf__n_estimators=400, rf__max_depth=7, rf__criterion=entropy, pca__n_components=7, score=0.415, total=   1.1s\n",
      "[CV] rf__n_estimators=400, rf__max_depth=7, rf__criterion=entropy, pca__n_components=7 \n",
      "[CV]  rf__n_estimators=400, rf__max_depth=7, rf__criterion=entropy, pca__n_components=7, score=0.422, total=   1.0s\n",
      "[CV] rf__n_estimators=400, rf__max_depth=7, rf__criterion=entropy, pca__n_components=7 \n",
      "[CV]  rf__n_estimators=400, rf__max_depth=7, rf__criterion=entropy, pca__n_components=7, score=0.375, total=   1.0s\n",
      "[CV] rf__n_estimators=400, rf__max_depth=7, rf__criterion=entropy, pca__n_components=7 \n",
      "[CV]  rf__n_estimators=400, rf__max_depth=7, rf__criterion=entropy, pca__n_components=7, score=0.425, total=   0.9s\n",
      "[CV] rf__n_estimators=400, rf__max_depth=7, rf__criterion=entropy, pca__n_components=7 \n",
      "[CV]  rf__n_estimators=400, rf__max_depth=7, rf__criterion=entropy, pca__n_components=7, score=0.432, total=   1.0s\n",
      "[CV] rf__n_estimators=200, rf__max_depth=3, rf__criterion=gini, pca__n_components=5 \n",
      "[CV]  rf__n_estimators=200, rf__max_depth=3, rf__criterion=gini, pca__n_components=5, score=0.385, total=   0.7s\n",
      "[CV] rf__n_estimators=200, rf__max_depth=3, rf__criterion=gini, pca__n_components=5 \n",
      "[CV]  rf__n_estimators=200, rf__max_depth=3, rf__criterion=gini, pca__n_components=5, score=0.378, total=   0.7s\n",
      "[CV] rf__n_estimators=200, rf__max_depth=3, rf__criterion=gini, pca__n_components=5 \n",
      "[CV]  rf__n_estimators=200, rf__max_depth=3, rf__criterion=gini, pca__n_components=5, score=0.325, total=   0.6s\n",
      "[CV] rf__n_estimators=200, rf__max_depth=3, rf__criterion=gini, pca__n_components=5 \n",
      "[CV]  rf__n_estimators=200, rf__max_depth=3, rf__criterion=gini, pca__n_components=5, score=0.292, total=   0.6s\n",
      "[CV] rf__n_estimators=200, rf__max_depth=3, rf__criterion=gini, pca__n_components=5 \n",
      "[CV]  rf__n_estimators=200, rf__max_depth=3, rf__criterion=gini, pca__n_components=5, score=0.255, total=   0.6s\n",
      "[CV] rf__n_estimators=400, rf__max_depth=1, rf__criterion=gini, pca__n_components=5 \n",
      "[CV]  rf__n_estimators=400, rf__max_depth=1, rf__criterion=gini, pca__n_components=5, score=0.338, total=   0.9s\n",
      "[CV] rf__n_estimators=400, rf__max_depth=1, rf__criterion=gini, pca__n_components=5 \n",
      "[CV]  rf__n_estimators=400, rf__max_depth=1, rf__criterion=gini, pca__n_components=5, score=0.372, total=   0.8s\n",
      "[CV] rf__n_estimators=400, rf__max_depth=1, rf__criterion=gini, pca__n_components=5 \n",
      "[CV]  rf__n_estimators=400, rf__max_depth=1, rf__criterion=gini, pca__n_components=5, score=0.287, total=   0.9s\n",
      "[CV] rf__n_estimators=400, rf__max_depth=1, rf__criterion=gini, pca__n_components=5 \n",
      "[CV]  rf__n_estimators=400, rf__max_depth=1, rf__criterion=gini, pca__n_components=5, score=0.328, total=   0.8s\n",
      "[CV] rf__n_estimators=400, rf__max_depth=1, rf__criterion=gini, pca__n_components=5 \n",
      "[CV]  rf__n_estimators=400, rf__max_depth=1, rf__criterion=gini, pca__n_components=5, score=0.305, total=   0.7s\n"
     ]
    },
    {
     "name": "stderr",
     "output_type": "stream",
     "text": [
      "[Parallel(n_jobs=1)]: Done  50 out of  50 | elapsed:   44.3s finished\n"
     ]
    },
    {
     "data": {
      "text/plain": [
       "RandomizedSearchCV(cv=5,\n",
       "                   estimator=Pipeline(steps=[('scaling', StandardScaler()),\n",
       "                                             ('pca', PCA()),\n",
       "                                             ('rf',\n",
       "                                              RandomForestClassifier(n_jobs=-1))]),\n",
       "                   n_jobs=1,\n",
       "                   param_distributions={'pca__n_components': array([5, 6, 7, 8, 9]),\n",
       "                                        'rf__criterion': ['gini', 'entropy'],\n",
       "                                        'rf__max_depth': [1, 3, 5, 7],\n",
       "                                        'rf__n_estimators': [100, 200, 300,\n",
       "                                                             400]},\n",
       "                   scoring='accuracy', verbose=10)"
      ]
     },
     "execution_count": 19,
     "metadata": {},
     "output_type": "execute_result"
    }
   ],
   "source": [
    "model = model_selection.RandomizedSearchCV(\n",
    "    estimator = classifier,\n",
    "    param_distributions = param_grid,\n",
    "    n_iter = 10,\n",
    "    scoring = \"accuracy\",\n",
    "    verbose = 10,\n",
    "    n_jobs =1,\n",
    "    cv = 5,\n",
    ")\n",
    "model.fit(X,y)"
   ]
  },
  {
   "cell_type": "code",
   "execution_count": 20,
   "metadata": {},
   "outputs": [
    {
     "name": "stdout",
     "output_type": "stream",
     "text": [
      "0.458\n",
      "{'memory': None, 'steps': [('scaling', StandardScaler()), ('pca', PCA(n_components=9)), ('rf', RandomForestClassifier(criterion='entropy', max_depth=7, n_estimators=400,\n",
      "                       n_jobs=-1))], 'verbose': False, 'scaling': StandardScaler(), 'pca': PCA(n_components=9), 'rf': RandomForestClassifier(criterion='entropy', max_depth=7, n_estimators=400,\n",
      "                       n_jobs=-1), 'scaling__copy': True, 'scaling__with_mean': True, 'scaling__with_std': True, 'pca__copy': True, 'pca__iterated_power': 'auto', 'pca__n_components': 9, 'pca__random_state': None, 'pca__svd_solver': 'auto', 'pca__tol': 0.0, 'pca__whiten': False, 'rf__bootstrap': True, 'rf__ccp_alpha': 0.0, 'rf__class_weight': None, 'rf__criterion': 'entropy', 'rf__max_depth': 7, 'rf__max_features': 'auto', 'rf__max_leaf_nodes': None, 'rf__max_samples': None, 'rf__min_impurity_decrease': 0.0, 'rf__min_impurity_split': None, 'rf__min_samples_leaf': 1, 'rf__min_samples_split': 2, 'rf__min_weight_fraction_leaf': 0.0, 'rf__n_estimators': 400, 'rf__n_jobs': -1, 'rf__oob_score': False, 'rf__random_state': None, 'rf__verbose': 0, 'rf__warm_start': False}\n"
     ]
    }
   ],
   "source": [
    "print(model.best_score_)\n",
    "print(model.best_estimator_.get_params())"
   ]
  },
  {
   "cell_type": "markdown",
   "metadata": {},
   "source": [
    "# SKOPT - Bayesian Optimization"
   ]
  },
  {
   "cell_type": "code",
   "execution_count": 29,
   "metadata": {},
   "outputs": [],
   "source": [
    "# create an optimize function skopt.gp_minimize\n",
    "def optimize(params,param_names,x,y):\n",
    "    params = dict(zip(param_names,params))\n",
    "    model = ensemble.RandomForestClassifier(**params)\n",
    "    kf = model_selection.StratifiedKFold(n_splits=5)\n",
    "    accuracies = []\n",
    "    for idx in kf.split(X=x,y=y):\n",
    "        train_idx,test_idx = idx[0], idx[1]\n",
    "        xtrain = x[train_idx]\n",
    "        ytrain = y[train_idx]\n",
    "        xtest = x[test_idx]\n",
    "        ytest = y[test_idx]\n",
    "        model.fit(xtrain, ytrain)\n",
    "        preds = model.predict(xtest)\n",
    "        fold_acc = metrics.accuracy_score(ytest, preds)\n",
    "        accuracies.append(fold_acc)\n",
    "    return -1.0*np.mean(accuracies)\n"
   ]
  },
  {
   "cell_type": "code",
   "execution_count": 30,
   "metadata": {},
   "outputs": [
    {
     "name": "stdout",
     "output_type": "stream",
     "text": [
      "Iteration No: 1 started. Evaluating function at random point.\n",
      "Iteration No: 1 ended. Evaluation done at random point.\n",
      "Time taken: 5.0336\n",
      "Function value obtained: -0.9040\n",
      "Current minimum: -0.9040\n",
      "Iteration No: 2 started. Evaluating function at random point.\n",
      "Iteration No: 2 ended. Evaluation done at random point.\n",
      "Time taken: 16.0806\n",
      "Function value obtained: -0.9050\n",
      "Current minimum: -0.9050\n",
      "Iteration No: 3 started. Evaluating function at random point.\n",
      "Iteration No: 3 ended. Evaluation done at random point.\n",
      "Time taken: 12.1330\n",
      "Function value obtained: -0.8995\n",
      "Current minimum: -0.9050\n",
      "Iteration No: 4 started. Evaluating function at random point.\n",
      "Iteration No: 4 ended. Evaluation done at random point.\n",
      "Time taken: 10.3026\n",
      "Function value obtained: -0.7695\n",
      "Current minimum: -0.9050\n",
      "Iteration No: 5 started. Evaluating function at random point.\n",
      "Iteration No: 5 ended. Evaluation done at random point.\n",
      "Time taken: 9.2901\n",
      "Function value obtained: -0.8840\n",
      "Current minimum: -0.9050\n",
      "Iteration No: 6 started. Evaluating function at random point.\n",
      "Iteration No: 6 ended. Evaluation done at random point.\n",
      "Time taken: 5.7892\n",
      "Function value obtained: -0.8875\n",
      "Current minimum: -0.9050\n",
      "Iteration No: 7 started. Evaluating function at random point.\n",
      "Iteration No: 7 ended. Evaluation done at random point.\n",
      "Time taken: 6.4485\n",
      "Function value obtained: -0.8445\n",
      "Current minimum: -0.9050\n",
      "Iteration No: 8 started. Evaluating function at random point.\n",
      "Iteration No: 8 ended. Evaluation done at random point.\n",
      "Time taken: 3.6408\n",
      "Function value obtained: -0.8990\n",
      "Current minimum: -0.9050\n",
      "Iteration No: 9 started. Evaluating function at random point.\n",
      "Iteration No: 9 ended. Evaluation done at random point.\n",
      "Time taken: 7.7049\n",
      "Function value obtained: -0.9065\n",
      "Current minimum: -0.9065\n",
      "Iteration No: 10 started. Evaluating function at random point.\n",
      "Iteration No: 10 ended. Evaluation done at random point.\n",
      "Time taken: 16.4807\n",
      "Function value obtained: -0.9020\n",
      "Current minimum: -0.9065\n",
      "Iteration No: 11 started. Searching for the next optimal point.\n",
      "Iteration No: 11 ended. Search finished for the next optimal point.\n",
      "Time taken: 6.6398\n",
      "Function value obtained: -0.9015\n",
      "Current minimum: -0.9065\n",
      "Iteration No: 12 started. Searching for the next optimal point.\n",
      "Iteration No: 12 ended. Search finished for the next optimal point.\n",
      "Time taken: 24.4894\n",
      "Function value obtained: -0.9040\n",
      "Current minimum: -0.9065\n",
      "Iteration No: 13 started. Searching for the next optimal point.\n",
      "Iteration No: 13 ended. Search finished for the next optimal point.\n",
      "Time taken: 27.0693\n",
      "Function value obtained: -0.9035\n",
      "Current minimum: -0.9065\n",
      "Iteration No: 14 started. Searching for the next optimal point.\n",
      "Iteration No: 14 ended. Search finished for the next optimal point.\n",
      "Time taken: 9.8109\n",
      "Function value obtained: -0.7610\n",
      "Current minimum: -0.9065\n",
      "Iteration No: 15 started. Searching for the next optimal point.\n",
      "Iteration No: 15 ended. Search finished for the next optimal point.\n",
      "Time taken: 20.8908\n",
      "Function value obtained: -0.9075\n",
      "Current minimum: -0.9075\n"
     ]
    }
   ],
   "source": [
    "# define parameter space\n",
    "from functools import partial\n",
    "from skopt import space\n",
    "from skopt import gp_minimize\n",
    "param_space = [\n",
    "    space.Integer(3,15,name=\"max_depth\"),\n",
    "    space.Integer(100,600,name=\"n_estimators\"),\n",
    "    space.Categorical([\"gini\",\"entropy\"],name=\"criterion\"),\n",
    "    space.Real(0.01,1,prior = \"uniform\",name=\"max_features\")\n",
    "    ]\n",
    "param_names=[\n",
    "    \"max_depth\",\n",
    "    \"n_estimators\",\n",
    "    \"criterion\",\n",
    "    \"max_features\"\n",
    "    ]\n",
    "optimization_function = partial(optimize,\n",
    "                               param_names=param_names,\n",
    "                               x=X,\n",
    "                               y=y)\n",
    "result = gp_minimize(optimization_function,\n",
    "                    dimensions = param_space,\n",
    "                    n_calls =15,\n",
    "                    n_random_starts=10,\n",
    "                    verbose=10,)"
   ]
  },
  {
   "cell_type": "code",
   "execution_count": 32,
   "metadata": {},
   "outputs": [
    {
     "name": "stdout",
     "output_type": "stream",
     "text": [
      "{'max_depth': 13, 'n_estimators': 600, 'criterion': 'entropy', 'max_features': 0.5636129945198424}\n"
     ]
    }
   ],
   "source": [
    "print(dict(zip(param_names,\n",
    "          result.x)))"
   ]
  },
  {
   "cell_type": "markdown",
   "metadata": {},
   "source": [
    "# Hyperopt"
   ]
  },
  {
   "cell_type": "code",
   "execution_count": 39,
   "metadata": {},
   "outputs": [],
   "source": [
    "from hyperopt import hp,fmin, tpe, Trials\n",
    "from hyperopt.pyll import scope\n"
   ]
  },
  {
   "cell_type": "code",
   "execution_count": 40,
   "metadata": {},
   "outputs": [],
   "source": [
    "# create an optimize function skopt.gp_minimize\n",
    "def optimize(params,x,y):\n",
    "    #params = dict(zip(param_names,params))\n",
    "    model = ensemble.RandomForestClassifier(**params)\n",
    "    kf = model_selection.StratifiedKFold(n_splits=5)\n",
    "    accuracies = []\n",
    "    for idx in kf.split(X=x,y=y):\n",
    "        train_idx,test_idx = idx[0], idx[1]\n",
    "        xtrain = x[train_idx]\n",
    "        ytrain = y[train_idx]\n",
    "        xtest = x[test_idx]\n",
    "        ytest = y[test_idx]\n",
    "        model.fit(xtrain, ytrain)\n",
    "        preds = model.predict(xtest)\n",
    "        fold_acc = metrics.accuracy_score(ytest, preds)\n",
    "        accuracies.append(fold_acc)\n",
    "    return -1.0*np.mean(accuracies)"
   ]
  },
  {
   "cell_type": "code",
   "execution_count": 44,
   "metadata": {},
   "outputs": [
    {
     "name": "stdout",
     "output_type": "stream",
     "text": [
      "100%|███████████████████████████████████████████████| 15/15 [02:24<00:00,  9.61s/trial, best loss: -0.9095000000000001]\n",
      "{'criterion': 1, 'max_depth': 14.0, 'max_features': 0.8401432208554773, 'n_estimators': 457.0}\n"
     ]
    }
   ],
   "source": [
    "param_space = {\n",
    "    \"max_depth\": scope.int(hp.quniform(\"max_depth\",3,15,1)),\n",
    "    \"n_estimators\":scope.int(hp.quniform(\"n_estimators\", 100, 600, 1)),\n",
    "    \"criterion\":hp.choice(\"criterion\",[\"gini\",\"entropy\"]),\n",
    "    \"max_features\":hp.uniform(\"max_features\",0.01,1),\n",
    "}\n",
    "param_names=[\n",
    "    \"max_depth\",\n",
    "    \"n_estimators\",\n",
    "    \"criterion\",\n",
    "    \"max_features\"\n",
    "    ]\n",
    "optimization_function = partial(optimize,\n",
    "                               x=X,\n",
    "                               y=y)\n",
    "# initiate a trial\n",
    "trials = Trials()\n",
    "result = fmin(fn=optimization_function,\n",
    "                    space = param_space,\n",
    "                    algo =tpe.suggest,\n",
    "                    max_evals =15,\n",
    "                    trials=trials)\n",
    "print(result)\n",
    "                    "
   ]
  },
  {
   "cell_type": "markdown",
   "metadata": {},
   "source": [
    "# optuna"
   ]
  },
  {
   "cell_type": "code",
   "execution_count": 54,
   "metadata": {},
   "outputs": [],
   "source": [
    "import optuna\n",
    "\n",
    "# create an optimize function skopt.gp_minimize\n",
    "def optimize(trial,x,y):\n",
    "    criterion =trial.suggest_categorical(\"criterion\",[\"gini\",\"entropy\"])\n",
    "    n_estimators = trial.suggest_int(\"n_estimators\",100,1500)\n",
    "    max_depth = trial.suggest_int(\"max_depth\",3,15)\n",
    "    max_features = trial.suggest_uniform(\"max_features\",0.01,1.0)\n",
    "    #params = dict(zip(param_names,params))\n",
    "    model = ensemble.RandomForestClassifier(\n",
    "        n_estimators =n_estimators,\n",
    "        max_depth = max_depth,\n",
    "        max_features = max_features,\n",
    "        criterion=criterion,\n",
    "    )\n",
    "    kf = model_selection.StratifiedKFold(n_splits=5)\n",
    "    accuracies = []\n",
    "    for idx in kf.split(X=x,y=y):\n",
    "        train_idx,test_idx = idx[0], idx[1]\n",
    "        xtrain = x[train_idx]\n",
    "        ytrain = y[train_idx]\n",
    "        xtest = x[test_idx]\n",
    "        ytest = y[test_idx]\n",
    "        model.fit(xtrain, ytrain)\n",
    "        preds = model.predict(xtest)\n",
    "        fold_acc = metrics.accuracy_score(ytest, preds)\n",
    "        accuracies.append(fold_acc)\n",
    "    return -1.0*np.mean(accuracies)\n",
    "\n",
    "\n"
   ]
  },
  {
   "cell_type": "code",
   "execution_count": 55,
   "metadata": {},
   "outputs": [
    {
     "name": "stderr",
     "output_type": "stream",
     "text": [
      "[I 2020-07-20 11:18:05,795] Finished trial#0 with value: -0.884 with parameters: {'criterion': 'gini', 'n_estimators': 990, 'max_depth': 7, 'max_features': 0.33943515258189244}. Best is trial#0 with value: -0.884.\n",
      "[I 2020-07-20 11:18:32,116] Finished trial#1 with value: -0.9075 with parameters: {'criterion': 'entropy', 'n_estimators': 951, 'max_depth': 11, 'max_features': 0.41692119261057087}. Best is trial#1 with value: -0.9075.\n",
      "[I 2020-07-20 11:18:56,982] Finished trial#2 with value: -0.866 with parameters: {'criterion': 'gini', 'n_estimators': 1245, 'max_depth': 12, 'max_features': 0.15799098418395352}. Best is trial#1 with value: -0.9075.\n",
      "[I 2020-07-20 11:19:00,838] Finished trial#3 with value: -0.8480000000000001 with parameters: {'criterion': 'gini', 'n_estimators': 251, 'max_depth': 5, 'max_features': 0.2649284988828491}. Best is trial#1 with value: -0.9075.\n",
      "[I 2020-07-20 11:19:11,029] Finished trial#4 with value: -0.9045 with parameters: {'criterion': 'entropy', 'n_estimators': 202, 'max_depth': 7, 'max_features': 0.8589951081118051}. Best is trial#1 with value: -0.9075.\n",
      "[I 2020-07-20 11:19:25,695] Finished trial#5 with value: -0.8554999999999999 with parameters: {'criterion': 'entropy', 'n_estimators': 686, 'max_depth': 12, 'max_features': 0.10597550225535078}. Best is trial#1 with value: -0.9075.\n",
      "[I 2020-07-20 11:19:47,096] Finished trial#6 with value: -0.8685 with parameters: {'criterion': 'gini', 'n_estimators': 1251, 'max_depth': 15, 'max_features': 0.16086946209518183}. Best is trial#1 with value: -0.9075.\n",
      "[I 2020-07-20 11:20:24,815] Finished trial#7 with value: -0.885 with parameters: {'criterion': 'entropy', 'n_estimators': 1157, 'max_depth': 7, 'max_features': 0.30511135372366843}. Best is trial#1 with value: -0.9075.\n",
      "[I 2020-07-20 11:20:50,128] Finished trial#8 with value: -0.8765000000000001 with parameters: {'criterion': 'entropy', 'n_estimators': 630, 'max_depth': 5, 'max_features': 0.7151323243767498}. Best is trial#1 with value: -0.9075.\n",
      "[I 2020-07-20 11:21:13,057] Finished trial#9 with value: -0.898 with parameters: {'criterion': 'gini', 'n_estimators': 922, 'max_depth': 13, 'max_features': 0.43169114047374707}. Best is trial#1 with value: -0.9075.\n",
      "[I 2020-07-20 11:21:27,559] Finished trial#10 with value: -0.9065 with parameters: {'criterion': 'entropy', 'n_estimators': 438, 'max_depth': 10, 'max_features': 0.597514127868244}. Best is trial#1 with value: -0.9075.\n",
      "[I 2020-07-20 11:21:43,547] Finished trial#11 with value: -0.905 with parameters: {'criterion': 'entropy', 'n_estimators': 454, 'max_depth': 10, 'max_features': 0.6586925269152917}. Best is trial#1 with value: -0.9075.\n",
      "[I 2020-07-20 11:21:57,703] Finished trial#12 with value: -0.9055 with parameters: {'criterion': 'entropy', 'n_estimators': 455, 'max_depth': 10, 'max_features': 0.5941533834524454}. Best is trial#1 with value: -0.9075.\n",
      "[I 2020-07-20 11:22:39,862] Finished trial#13 with value: -0.905 with parameters: {'criterion': 'entropy', 'n_estimators': 1450, 'max_depth': 15, 'max_features': 0.49010598883841583}. Best is trial#1 with value: -0.9075.\n",
      "[I 2020-07-20 11:23:15,550] Finished trial#14 with value: -0.9065000000000001 with parameters: {'criterion': 'entropy', 'n_estimators': 841, 'max_depth': 9, 'max_features': 0.9866454109102205}. Best is trial#1 with value: -0.9075.\n"
     ]
    }
   ],
   "source": [
    "optimization_function = partial(optimize,x=X,\n",
    "                               y=y)\n",
    "study = optuna.create_study(direction=\"minimize\")\n",
    "study.optimize(optimization_function,n_trials=15)"
   ]
  },
  {
   "cell_type": "code",
   "execution_count": null,
   "metadata": {},
   "outputs": [],
   "source": []
  }
 ],
 "metadata": {
  "kernelspec": {
   "display_name": "Python 3",
   "language": "python",
   "name": "python3"
  },
  "language_info": {
   "codemirror_mode": {
    "name": "ipython",
    "version": 3
   },
   "file_extension": ".py",
   "mimetype": "text/x-python",
   "name": "python",
   "nbconvert_exporter": "python",
   "pygments_lexer": "ipython3",
   "version": "3.7.6"
  }
 },
 "nbformat": 4,
 "nbformat_minor": 4
}
